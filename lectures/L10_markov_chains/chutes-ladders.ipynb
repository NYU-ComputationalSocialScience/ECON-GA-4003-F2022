{
 "cells": [
  {
   "cell_type": "code",
   "execution_count": null,
   "metadata": {},
   "outputs": [],
   "source": [
    "import numpy as np\n",
    "import quantecon as qe\n",
    "\n",
    "np.set_printoptions(precision=3, suppress=True)\n"
   ]
  },
  {
   "cell_type": "markdown",
   "metadata": {},
   "source": [
    "![http://jakevdp.github.io/images/ChutesAndLadders-board.gif](http://jakevdp.github.io/images/ChutesAndLadders-board.gif)"
   ]
  },
  {
   "cell_type": "code",
   "execution_count": null,
   "metadata": {},
   "outputs": [],
   "source": [
    "# Mapping of start : end spaces of chutes & ladders\n",
    "chutes_ladders = {\n",
    "    1:38, 4:14, 9:31, 16:6, 21:42, 28:84, 36:44,\n",
    "    47:26, 49:11, 51:67, 56:53, 62:19, 64:60,\n",
    "    71:91, 80:100, 87:24, 93:73, 95:75, 98:78\n",
    "}"
   ]
  },
  {
   "cell_type": "code",
   "execution_count": null,
   "metadata": {},
   "outputs": [],
   "source": [
    "def make_P(N, chutes_ladders):\n",
    "    # WANT: create a transition matrix P for a game of chutes and ladders\n",
    "    # conditions:\n",
    "    #   - all elements are >= 0\n",
    "    #   - each row sums to 1\n",
    "    #   - row `i` represents the probability of beginning your turn on square i and ending on any other square.\n",
    "    P = np.zeros((N+1, N+1))\n",
    "    \n",
    "    # start with basic case, ignoring all chutes and ladders\n",
    "    for i in range(1, N+1):\n",
    "        P[i-1, i:(i+6)] = 1/6\n",
    "    \n",
    "    # once you are here, you win!\n",
    "    P[N, N] = 1\n",
    "\n",
    "    # House rules: you don't need to land on 100, just reach it.\n",
    "    P[95:100,100] += np.linspace(1/6, 5/6, 5)\n",
    "\n",
    "    for (i1, i2) in chutes_ladders.items():\n",
    "        # iw keeps track of when we would have landed on i1\n",
    "        iw = np.where(P[:, i1] > 0)\n",
    "        P[:, i1] = 0  # can't land here...\n",
    "        P[iw, i2] += 1/6  # move to i2 instead\n",
    "        \n",
    "    return P\n"
   ]
  },
  {
   "cell_type": "code",
   "execution_count": null,
   "metadata": {},
   "outputs": [],
   "source": [
    "P = make_P(100, chutes_ladders)"
   ]
  },
  {
   "cell_type": "code",
   "execution_count": null,
   "metadata": {},
   "outputs": [],
   "source": [
    "P[0, 1:7]"
   ]
  },
  {
   "cell_type": "code",
   "execution_count": null,
   "metadata": {},
   "outputs": [],
   "source": [
    "P[0, [14, 38]]"
   ]
  },
  {
   "cell_type": "code",
   "execution_count": null,
   "metadata": {},
   "outputs": [],
   "source": [
    "P.sum(axis=1)"
   ]
  },
  {
   "cell_type": "code",
   "execution_count": null,
   "metadata": {},
   "outputs": [],
   "source": [
    "mc = qe.MarkovChain(P)"
   ]
  },
  {
   "cell_type": "markdown",
   "metadata": {},
   "source": [
    "Questions\n",
    "\n",
    "- Stationary Distribution\n",
    "- Distribution after N rounds\n",
    "- Expected number of rounds\n",
    "- Percent of games finished in N rounds"
   ]
  },
  {
   "cell_type": "code",
   "execution_count": null,
   "metadata": {},
   "outputs": [],
   "source": [
    "mc.stationary_distributions  # the game always ends!"
   ]
  },
  {
   "cell_type": "code",
   "execution_count": null,
   "metadata": {},
   "outputs": [],
   "source": [
    "simulations = mc.simulate(200, init=0, num_reps=5000)"
   ]
  },
  {
   "cell_type": "code",
   "execution_count": null,
   "metadata": {},
   "outputs": [],
   "source": [
    "simulations[0, :]"
   ]
  },
  {
   "cell_type": "code",
   "execution_count": null,
   "metadata": {},
   "outputs": [],
   "source": [
    "(simulations[0, :] < 100).sum()"
   ]
  },
  {
   "cell_type": "code",
   "execution_count": null,
   "metadata": {},
   "outputs": [],
   "source": [
    "import matplotlib.pyplot as plt"
   ]
  },
  {
   "cell_type": "code",
   "execution_count": null,
   "metadata": {},
   "outputs": [],
   "source": [
    "stopping_times = (simulations < 100).sum(axis=1)"
   ]
  },
  {
   "cell_type": "code",
   "execution_count": null,
   "metadata": {},
   "outputs": [],
   "source": [
    "fig, ax = plt.subplots(figsize=(10, 8))\n",
    "\n",
    "ax.hist(stopping_times, bins=20, density=True, cumulative=True)"
   ]
  },
  {
   "cell_type": "code",
   "execution_count": null,
   "metadata": {},
   "outputs": [],
   "source": [
    "simulations"
   ]
  },
  {
   "cell_type": "code",
   "execution_count": null,
   "metadata": {},
   "outputs": [],
   "source": [
    "s0 = np.zeros(101)\n",
    "s0[0] = 1"
   ]
  },
  {
   "cell_type": "code",
   "execution_count": null,
   "metadata": {},
   "outputs": [],
   "source": [
    "s0 @ np.linalg.matrix_power(P, 100)"
   ]
  },
  {
   "cell_type": "code",
   "execution_count": null,
   "metadata": {},
   "outputs": [],
   "source": [
    "# distribution after 1 round\n",
    "s1 = s0@P\n",
    "s1"
   ]
  },
  {
   "cell_type": "code",
   "execution_count": null,
   "metadata": {},
   "outputs": [],
   "source": [
    "# distribution after 2 rounds\n",
    "s2 = s1 @ P  # == s0 @ P @ P\n",
    "s2"
   ]
  },
  {
   "cell_type": "code",
   "execution_count": null,
   "metadata": {},
   "outputs": [],
   "source": [
    "# distribution after 100 rounds\n",
    "s0 @ np.linalg.matrix_power(P, 100)"
   ]
  },
  {
   "cell_type": "code",
   "execution_count": null,
   "metadata": {},
   "outputs": [],
   "source": [
    "pct_finished_at_round = (simulations == 100).mean(axis=0)"
   ]
  },
  {
   "cell_type": "code",
   "execution_count": null,
   "metadata": {},
   "outputs": [],
   "source": [
    "pct_finished_at_round[-10]"
   ]
  },
  {
   "cell_type": "code",
   "execution_count": null,
   "metadata": {},
   "outputs": [],
   "source": [
    "import matplotlib.pyplot as plt\n",
    "%matplotlib inline\n",
    "\n",
    "fig, ax = plt.subplots()\n",
    "ax.plot(pct_finished_at_round)\n",
    "ax.set_xlabel(\"round number\")\n",
    "ax.set_ylabel(\"cumulative percent of games finished\")"
   ]
  },
  {
   "cell_type": "code",
   "execution_count": null,
   "metadata": {},
   "outputs": [],
   "source": []
  }
 ],
 "metadata": {
  "interpreter": {
   "hash": "06e05088bf2d2704501f452c5673235c92421ea24b381cad1d147a1ece3057ad"
  },
  "kernelspec": {
   "display_name": "Python 3 (ipykernel)",
   "language": "python",
   "name": "python3"
  },
  "language_info": {
   "codemirror_mode": {
    "name": "ipython",
    "version": 3
   },
   "file_extension": ".py",
   "mimetype": "text/x-python",
   "name": "python",
   "nbconvert_exporter": "python",
   "pygments_lexer": "ipython3",
   "version": "3.9.7"
  }
 },
 "nbformat": 4,
 "nbformat_minor": 2
}
