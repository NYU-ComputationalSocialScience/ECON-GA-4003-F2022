{
 "cells": [
  {
   "cell_type": "markdown",
   "id": "f4ce2755",
   "metadata": {},
   "source": [
    "# Timeseries: In class exercise"
   ]
  },
  {
   "cell_type": "markdown",
   "id": "603a7450",
   "metadata": {},
   "source": [
    "We will be using a version of the \"Residential power usage 3years data - Timeseries\" dataset from Kaggle (see https://www.kaggle.com/datasets/srinuti/residential-power-usage-3years-data-timeseries).\n",
    "\n",
    "This dataset includes two data files:\n",
    "\n",
    "1. `power_usage_2016_to_2020.csv`: This includes the data on the number of kWh of energy used on each day from 2016 to 2020. The value column is measured in [kWh](https://en.wikipedia.org/wiki/Kilowatt-hour). The notes column can take values: `weekday`, `weekend`, `vacation`, `COVID_lockdown`.\n",
    "2. `weather_2016_2020_daily.csv`: This includes various pieces of weather information for each relevant day"
   ]
  },
  {
   "cell_type": "code",
   "execution_count": 1,
   "id": "630ad110",
   "metadata": {},
   "outputs": [],
   "source": [
    "import pandas as pd"
   ]
  },
  {
   "cell_type": "markdown",
   "id": "b2258748",
   "metadata": {},
   "source": [
    "Load power usage data"
   ]
  },
  {
   "cell_type": "code",
   "execution_count": 2,
   "id": "b4b60a76",
   "metadata": {},
   "outputs": [],
   "source": [
    "power_usage = pd.read_csv(\"power_usage_2016_to_2020.csv\")\n",
    "\n",
    "# According to the documentation, datetimes are formatted\n",
    "# incorrectly so they need to be reset\n",
    "power_usage[\"dt\"] = pd.date_range(\n",
    "    \"2016-06-01 00:00:00\", freq=\"1H\",\n",
    "    periods=power_usage.shape[0]\n",
    ")\n",
    "power_usage = (\n",
    "    power_usage.drop(\n",
    "        columns=[\"day_of_week\", \"StartDate\"]\n",
    "    )\n",
    "    .rename(\n",
    "        columns={\"Value (kWh)\": \"value\"}\n",
    "    )\n",
    ")"
   ]
  },
  {
   "cell_type": "code",
   "execution_count": 3,
   "id": "9a95ed16",
   "metadata": {},
   "outputs": [
    {
     "data": {
      "text/html": [
       "<div>\n",
       "<style scoped>\n",
       "    .dataframe tbody tr th:only-of-type {\n",
       "        vertical-align: middle;\n",
       "    }\n",
       "\n",
       "    .dataframe tbody tr th {\n",
       "        vertical-align: top;\n",
       "    }\n",
       "\n",
       "    .dataframe thead th {\n",
       "        text-align: right;\n",
       "    }\n",
       "</style>\n",
       "<table border=\"1\" class=\"dataframe\">\n",
       "  <thead>\n",
       "    <tr style=\"text-align: right;\">\n",
       "      <th></th>\n",
       "      <th>value</th>\n",
       "      <th>notes</th>\n",
       "      <th>dt</th>\n",
       "    </tr>\n",
       "  </thead>\n",
       "  <tbody>\n",
       "    <tr>\n",
       "      <th>35947</th>\n",
       "      <td>1.307</td>\n",
       "      <td>weekday</td>\n",
       "      <td>2020-07-07 19:00:00</td>\n",
       "    </tr>\n",
       "    <tr>\n",
       "      <th>35948</th>\n",
       "      <td>2.872</td>\n",
       "      <td>weekday</td>\n",
       "      <td>2020-07-07 20:00:00</td>\n",
       "    </tr>\n",
       "    <tr>\n",
       "      <th>35949</th>\n",
       "      <td>2.138</td>\n",
       "      <td>weekday</td>\n",
       "      <td>2020-07-07 21:00:00</td>\n",
       "    </tr>\n",
       "    <tr>\n",
       "      <th>35950</th>\n",
       "      <td>2.199</td>\n",
       "      <td>weekday</td>\n",
       "      <td>2020-07-07 22:00:00</td>\n",
       "    </tr>\n",
       "    <tr>\n",
       "      <th>35951</th>\n",
       "      <td>1.809</td>\n",
       "      <td>weekday</td>\n",
       "      <td>2020-07-07 23:00:00</td>\n",
       "    </tr>\n",
       "  </tbody>\n",
       "</table>\n",
       "</div>"
      ],
      "text/plain": [
       "       value    notes                  dt\n",
       "35947  1.307  weekday 2020-07-07 19:00:00\n",
       "35948  2.872  weekday 2020-07-07 20:00:00\n",
       "35949  2.138  weekday 2020-07-07 21:00:00\n",
       "35950  2.199  weekday 2020-07-07 22:00:00\n",
       "35951  1.809  weekday 2020-07-07 23:00:00"
      ]
     },
     "execution_count": 3,
     "metadata": {},
     "output_type": "execute_result"
    }
   ],
   "source": [
    "power_usage.tail()"
   ]
  },
  {
   "cell_type": "markdown",
   "id": "c5c549ac",
   "metadata": {},
   "source": [
    "Load weather data"
   ]
  },
  {
   "cell_type": "code",
   "execution_count": 4,
   "id": "0578d8ff",
   "metadata": {},
   "outputs": [],
   "source": [
    "weather = pd.read_csv(\"weather_2016_2020_daily.csv\")\n",
    "\n",
    "# According to the documentation, datetimes are formatted\n",
    "# incorrectly so they need to be reset\n",
    "weather[\"date\"] = pd.date_range(\n",
    "    \"2016-06-01\", freq=\"1D\", periods=weather.shape[0]\n",
    ")\n",
    "\n",
    "weather = weather.drop(columns=[\"Date\", \"Day\"])"
   ]
  },
  {
   "cell_type": "code",
   "execution_count": 5,
   "id": "5c3e900a",
   "metadata": {},
   "outputs": [
    {
     "data": {
      "text/html": [
       "<div>\n",
       "<style scoped>\n",
       "    .dataframe tbody tr th:only-of-type {\n",
       "        vertical-align: middle;\n",
       "    }\n",
       "\n",
       "    .dataframe tbody tr th {\n",
       "        vertical-align: top;\n",
       "    }\n",
       "\n",
       "    .dataframe thead th {\n",
       "        text-align: right;\n",
       "    }\n",
       "</style>\n",
       "<table border=\"1\" class=\"dataframe\">\n",
       "  <thead>\n",
       "    <tr style=\"text-align: right;\">\n",
       "      <th></th>\n",
       "      <th>Temp_max</th>\n",
       "      <th>Temp_avg</th>\n",
       "      <th>Temp_min</th>\n",
       "      <th>Dew_max</th>\n",
       "      <th>Dew_avg</th>\n",
       "      <th>Dew_min</th>\n",
       "      <th>Hum_max</th>\n",
       "      <th>Hum_avg</th>\n",
       "      <th>Hum_min</th>\n",
       "      <th>Wind_max</th>\n",
       "      <th>Wind_avg</th>\n",
       "      <th>Wind_min</th>\n",
       "      <th>Press_max</th>\n",
       "      <th>Press_avg</th>\n",
       "      <th>Press_min</th>\n",
       "      <th>Precipit</th>\n",
       "      <th>day_of_week</th>\n",
       "      <th>date</th>\n",
       "    </tr>\n",
       "  </thead>\n",
       "  <tbody>\n",
       "    <tr>\n",
       "      <th>0</th>\n",
       "      <td>85</td>\n",
       "      <td>74.8</td>\n",
       "      <td>68</td>\n",
       "      <td>74</td>\n",
       "      <td>71.4</td>\n",
       "      <td>66</td>\n",
       "      <td>100</td>\n",
       "      <td>89.4</td>\n",
       "      <td>65</td>\n",
       "      <td>21</td>\n",
       "      <td>9.5</td>\n",
       "      <td>0</td>\n",
       "      <td>29.8</td>\n",
       "      <td>29.8</td>\n",
       "      <td>29.7</td>\n",
       "      <td>0.00</td>\n",
       "      <td>2</td>\n",
       "      <td>2016-06-01</td>\n",
       "    </tr>\n",
       "    <tr>\n",
       "      <th>1</th>\n",
       "      <td>76</td>\n",
       "      <td>71.2</td>\n",
       "      <td>66</td>\n",
       "      <td>74</td>\n",
       "      <td>70.3</td>\n",
       "      <td>66</td>\n",
       "      <td>100</td>\n",
       "      <td>96.8</td>\n",
       "      <td>89</td>\n",
       "      <td>18</td>\n",
       "      <td>7.8</td>\n",
       "      <td>0</td>\n",
       "      <td>29.8</td>\n",
       "      <td>29.8</td>\n",
       "      <td>29.7</td>\n",
       "      <td>4.33</td>\n",
       "      <td>5</td>\n",
       "      <td>2016-06-02</td>\n",
       "    </tr>\n",
       "    <tr>\n",
       "      <th>2</th>\n",
       "      <td>79</td>\n",
       "      <td>72.1</td>\n",
       "      <td>68</td>\n",
       "      <td>72</td>\n",
       "      <td>70.0</td>\n",
       "      <td>68</td>\n",
       "      <td>100</td>\n",
       "      <td>93.6</td>\n",
       "      <td>72</td>\n",
       "      <td>18</td>\n",
       "      <td>4.7</td>\n",
       "      <td>0</td>\n",
       "      <td>29.8</td>\n",
       "      <td>29.8</td>\n",
       "      <td>29.7</td>\n",
       "      <td>3.18</td>\n",
       "      <td>6</td>\n",
       "      <td>2016-06-03</td>\n",
       "    </tr>\n",
       "    <tr>\n",
       "      <th>3</th>\n",
       "      <td>76</td>\n",
       "      <td>71.2</td>\n",
       "      <td>69</td>\n",
       "      <td>73</td>\n",
       "      <td>70.0</td>\n",
       "      <td>66</td>\n",
       "      <td>100</td>\n",
       "      <td>96.1</td>\n",
       "      <td>85</td>\n",
       "      <td>20</td>\n",
       "      <td>7.0</td>\n",
       "      <td>0</td>\n",
       "      <td>29.8</td>\n",
       "      <td>29.7</td>\n",
       "      <td>29.7</td>\n",
       "      <td>2.37</td>\n",
       "      <td>2</td>\n",
       "      <td>2016-06-04</td>\n",
       "    </tr>\n",
       "    <tr>\n",
       "      <th>4</th>\n",
       "      <td>82</td>\n",
       "      <td>73.8</td>\n",
       "      <td>68</td>\n",
       "      <td>72</td>\n",
       "      <td>70.0</td>\n",
       "      <td>68</td>\n",
       "      <td>100</td>\n",
       "      <td>88.7</td>\n",
       "      <td>62</td>\n",
       "      <td>17</td>\n",
       "      <td>7.7</td>\n",
       "      <td>0</td>\n",
       "      <td>29.7</td>\n",
       "      <td>29.7</td>\n",
       "      <td>29.7</td>\n",
       "      <td>0.39</td>\n",
       "      <td>4</td>\n",
       "      <td>2016-06-05</td>\n",
       "    </tr>\n",
       "  </tbody>\n",
       "</table>\n",
       "</div>"
      ],
      "text/plain": [
       "   Temp_max  Temp_avg  Temp_min  Dew_max  Dew_avg  Dew_min  Hum_max  Hum_avg  \\\n",
       "0        85      74.8        68       74     71.4       66      100     89.4   \n",
       "1        76      71.2        66       74     70.3       66      100     96.8   \n",
       "2        79      72.1        68       72     70.0       68      100     93.6   \n",
       "3        76      71.2        69       73     70.0       66      100     96.1   \n",
       "4        82      73.8        68       72     70.0       68      100     88.7   \n",
       "\n",
       "   Hum_min  Wind_max  Wind_avg  Wind_min  Press_max  Press_avg  Press_min  \\\n",
       "0       65        21       9.5         0       29.8       29.8       29.7   \n",
       "1       89        18       7.8         0       29.8       29.8       29.7   \n",
       "2       72        18       4.7         0       29.8       29.8       29.7   \n",
       "3       85        20       7.0         0       29.8       29.7       29.7   \n",
       "4       62        17       7.7         0       29.7       29.7       29.7   \n",
       "\n",
       "   Precipit  day_of_week       date  \n",
       "0      0.00            2 2016-06-01  \n",
       "1      4.33            5 2016-06-02  \n",
       "2      3.18            6 2016-06-03  \n",
       "3      2.37            2 2016-06-04  \n",
       "4      0.39            4 2016-06-05  "
      ]
     },
     "execution_count": 5,
     "metadata": {},
     "output_type": "execute_result"
    }
   ],
   "source": [
    "weather.head()"
   ]
  },
  {
   "cell_type": "code",
   "execution_count": 6,
   "id": "24dc180f",
   "metadata": {},
   "outputs": [],
   "source": [
    "power_usage = power_usage.set_index(\"dt\")"
   ]
  },
  {
   "cell_type": "code",
   "execution_count": 7,
   "id": "517a6565",
   "metadata": {},
   "outputs": [],
   "source": [
    "import matplotlib.pyplot as plt"
   ]
  },
  {
   "cell_type": "code",
   "execution_count": 9,
   "id": "e3e4ad0f",
   "metadata": {},
   "outputs": [],
   "source": [
    "# fig, ax = plt.subplots()\n",
    "\n",
    "weather_subset = weather.loc[:, [\"date\", \"Temp_max\"]]\n",
    "power_subset = power_usage.drop([\"notes\"], axis=1).resample(\"d\").sum()\n"
   ]
  },
  {
   "cell_type": "code",
   "execution_count": 18,
   "id": "ef42f348",
   "metadata": {},
   "outputs": [
    {
     "data": {
      "text/plain": [
       "<AxesSubplot:xlabel='dt'>"
      ]
     },
     "execution_count": 18,
     "metadata": {},
     "output_type": "execute_result"
    },
    {
     "data": {
      "image/png": "[encoded data removed]",
      "text/plain": [
       "<Figure size 432x288 with 1 Axes>"
      ]
     },
     "metadata": {
      "needs_background": "light"
     },
     "output_type": "display_data"
    }
   ],
   "source": [
    "power_subset.join(weather_subset.set_index(\"date\")).plot()"
   ]
  },
  {
   "cell_type": "markdown",
   "id": "fa7ac1d9",
   "metadata": {},
   "source": [
    "**Questions**\n",
    "\n",
    "Feel free to explore the data on your own, but these are some hints for directions that we think could be interesting."
   ]
  },
  {
   "cell_type": "markdown",
   "id": "cf915e85",
   "metadata": {},
   "source": [
    "What week had the biggest difference between the largest and smallest hourly energy expenditure?"
   ]
  },
  {
   "cell_type": "code",
   "execution_count": 28,
   "id": "01e16562",
   "metadata": {},
   "outputs": [
    {
     "data": {
      "text/plain": [
       "Timestamp('2016-07-07 00:00:00', freq='W-THU')"
      ]
     },
     "execution_count": 28,
     "metadata": {},
     "output_type": "execute_result"
    }
   ],
   "source": [
    "(\n",
    "    power_usage\n",
    "    .resample(\"W-Thu\")\n",
    "    [\"value\"]\n",
    "    .agg([\"min\", \"max\"])\n",
    "    .rename(columns={\"min\": \"minn\", \"max\": \"maxx\"})\n",
    "    .eval(\"maxx - minn\")\n",
    "    .idxmax()\n",
    ")"
   ]
  },
  {
   "cell_type": "markdown",
   "id": "162b1993",
   "metadata": {},
   "source": [
    "Plot daily energy usage vs daily temperature"
   ]
  },
  {
   "cell_type": "code",
   "execution_count": null,
   "id": "2f680fe0",
   "metadata": {},
   "outputs": [],
   "source": []
  },
  {
   "cell_type": "markdown",
   "id": "8bf37bd6",
   "metadata": {},
   "source": [
    "What month had the highest total energy expenditure?"
   ]
  },
  {
   "cell_type": "code",
   "execution_count": 13,
   "id": "98b71ed2",
   "metadata": {},
   "outputs": [
    {
     "data": {
      "text/plain": [
       "value   2016-08-31\n",
       "dtype: datetime64[ns]"
      ]
     },
     "execution_count": 13,
     "metadata": {},
     "output_type": "execute_result"
    }
   ],
   "source": [
    "power_usage.drop([\"notes\"], axis=1).resample(\"m\").sum().idxmax()"
   ]
  },
  {
   "cell_type": "code",
   "execution_count": 15,
   "id": "1dc96fdd",
   "metadata": {},
   "outputs": [
    {
     "data": {
      "text/html": [
       "<div>\n",
       "<style scoped>\n",
       "    .dataframe tbody tr th:only-of-type {\n",
       "        vertical-align: middle;\n",
       "    }\n",
       "\n",
       "    .dataframe tbody tr th {\n",
       "        vertical-align: top;\n",
       "    }\n",
       "\n",
       "    .dataframe thead th {\n",
       "        text-align: right;\n",
       "    }\n",
       "</style>\n",
       "<table border=\"1\" class=\"dataframe\">\n",
       "  <thead>\n",
       "    <tr style=\"text-align: right;\">\n",
       "      <th></th>\n",
       "      <th>Temp_max</th>\n",
       "      <th>Temp_avg</th>\n",
       "      <th>Temp_min</th>\n",
       "      <th>Dew_max</th>\n",
       "      <th>Dew_avg</th>\n",
       "      <th>Dew_min</th>\n",
       "      <th>Hum_max</th>\n",
       "      <th>Hum_avg</th>\n",
       "      <th>Hum_min</th>\n",
       "      <th>Wind_max</th>\n",
       "      <th>Wind_avg</th>\n",
       "      <th>Wind_min</th>\n",
       "      <th>Press_max</th>\n",
       "      <th>Press_avg</th>\n",
       "      <th>Press_min</th>\n",
       "      <th>Precipit</th>\n",
       "      <th>day_of_week</th>\n",
       "      <th>date</th>\n",
       "    </tr>\n",
       "  </thead>\n",
       "  <tbody>\n",
       "    <tr>\n",
       "      <th>91</th>\n",
       "      <td>93</td>\n",
       "      <td>84.5</td>\n",
       "      <td>78</td>\n",
       "      <td>76</td>\n",
       "      <td>73.6</td>\n",
       "      <td>70</td>\n",
       "      <td>88</td>\n",
       "      <td>71.0</td>\n",
       "      <td>54</td>\n",
       "      <td>15</td>\n",
       "      <td>5.9</td>\n",
       "      <td>0</td>\n",
       "      <td>29.8</td>\n",
       "      <td>29.8</td>\n",
       "      <td>29.7</td>\n",
       "      <td>0.0</td>\n",
       "      <td>2</td>\n",
       "      <td>2016-08-31</td>\n",
       "    </tr>\n",
       "  </tbody>\n",
       "</table>\n",
       "</div>"
      ],
      "text/plain": [
       "    Temp_max  Temp_avg  Temp_min  Dew_max  Dew_avg  Dew_min  Hum_max  Hum_avg  \\\n",
       "91        93      84.5        78       76     73.6       70       88     71.0   \n",
       "\n",
       "    Hum_min  Wind_max  Wind_avg  Wind_min  Press_max  Press_avg  Press_min  \\\n",
       "91       54        15       5.9         0       29.8       29.8       29.7   \n",
       "\n",
       "    Precipit  day_of_week       date  \n",
       "91       0.0            2 2016-08-31  "
      ]
     },
     "execution_count": 15,
     "metadata": {},
     "output_type": "execute_result"
    }
   ],
   "source": [
    "weather.query(\"date == '2016-08-31'\")"
   ]
  },
  {
   "cell_type": "markdown",
   "id": "855e5fb6",
   "metadata": {},
   "source": [
    "What month had the highest average energy expenditure over all of the years?"
   ]
  },
  {
   "cell_type": "code",
   "execution_count": 16,
   "id": "e5fe4ffe",
   "metadata": {},
   "outputs": [
    {
     "data": {
      "text/plain": [
       "value   2016-08-31\n",
       "dtype: datetime64[ns]"
      ]
     },
     "execution_count": 16,
     "metadata": {},
     "output_type": "execute_result"
    }
   ],
   "source": [
    "power_usage.drop([\"notes\"], axis=1).resample(\"m\").mean().idxmax()"
   ]
  },
  {
   "cell_type": "markdown",
   "id": "f8596e99",
   "metadata": {},
   "source": [
    "What months have the most rain where the data is collected?"
   ]
  },
  {
   "cell_type": "code",
   "execution_count": 23,
   "id": "33605d68",
   "metadata": {},
   "outputs": [
    {
     "data": {
      "text/plain": [
       "Temp_max                int64\n",
       "Temp_avg              float64\n",
       "Temp_min                int64\n",
       "Dew_max                 int64\n",
       "Dew_avg               float64\n",
       "Dew_min                 int64\n",
       "Hum_max                 int64\n",
       "Hum_avg               float64\n",
       "Hum_min                 int64\n",
       "Wind_max                int64\n",
       "Wind_avg              float64\n",
       "Wind_min                int64\n",
       "Press_max             float64\n",
       "Press_avg             float64\n",
       "Press_min             float64\n",
       "Precipit              float64\n",
       "day_of_week             int64\n",
       "date           datetime64[ns]\n",
       "dtype: object"
      ]
     },
     "execution_count": 23,
     "metadata": {},
     "output_type": "execute_result"
    }
   ],
   "source": [
    "weather.dtypes"
   ]
  },
  {
   "cell_type": "code",
   "execution_count": 25,
   "id": "bd77ce23",
   "metadata": {},
   "outputs": [],
   "source": [
    "weather[\"moy\"] = weather[\"date\"].dt.month"
   ]
  },
  {
   "cell_type": "code",
   "execution_count": 30,
   "id": "8b729845",
   "metadata": {},
   "outputs": [
    {
     "data": {
      "text/plain": [
       "moy\n",
       "1     0.139194\n",
       "2     0.101416\n",
       "3     0.092903\n",
       "4     0.109500\n",
       "5     0.133790\n",
       "6     0.256333\n",
       "7     0.113548\n",
       "8     0.367013\n",
       "9     0.220583\n",
       "10    0.111774\n",
       "11    0.058167\n",
       "12    0.122581\n",
       "Name: Precipit, dtype: float64"
      ]
     },
     "execution_count": 30,
     "metadata": {},
     "output_type": "execute_result"
    }
   ],
   "source": [
    "weather.groupby(\"moy\")[\"Precipit\"].mean()"
   ]
  },
  {
   "cell_type": "markdown",
   "id": "02baa459",
   "metadata": {},
   "source": [
    "What months have the most wind?"
   ]
  },
  {
   "cell_type": "code",
   "execution_count": null,
   "id": "dd424c8e",
   "metadata": {},
   "outputs": [],
   "source": []
  },
  {
   "cell_type": "markdown",
   "id": "654e4010",
   "metadata": {},
   "source": [
    "Compute the rolling 24 hour average of energy expenditure.\n",
    "\n",
    "How might you measure whether certain observations are an anomaly? According to your measure, are there anomalies? Do these anomalies correspond to something happening in the weather?"
   ]
  },
  {
   "cell_type": "code",
   "execution_count": null,
   "id": "c6a29e6f",
   "metadata": {},
   "outputs": [],
   "source": []
  },
  {
   "cell_type": "code",
   "execution_count": null,
   "id": "7ecdf5f7",
   "metadata": {},
   "outputs": [],
   "source": []
  },
  {
   "cell_type": "code",
   "execution_count": null,
   "id": "f1b4561d",
   "metadata": {},
   "outputs": [],
   "source": []
  },
  {
   "cell_type": "markdown",
   "id": "02a90971",
   "metadata": {},
   "source": [
    "Compute the rolling 7 day average of energy expenditure.\n",
    "\n",
    "How might you measure whether certain hourly observations are an anomaly? According to your measure, are there anomalies? Do these anomalies correspond to something happening in the weather?"
   ]
  },
  {
   "cell_type": "code",
   "execution_count": 41,
   "id": "f1d9bf00",
   "metadata": {},
   "outputs": [],
   "source": [
    "power_df = power_usage.resample(\"d\")[\"value\"].sum()"
   ]
  },
  {
   "cell_type": "code",
   "execution_count": 48,
   "id": "63957fba",
   "metadata": {},
   "outputs": [
    {
     "data": {
      "text/plain": [
       "<AxesSubplot:xlabel='dt'>"
      ]
     },
     "execution_count": 48,
     "metadata": {},
     "output_type": "execute_result"
    },
    {
     "data": {
      "image/png": "[encoded data removed]",
      "text/plain": [
       "<Figure size 432x288 with 1 Axes>"
      ]
     },
     "metadata": {
      "needs_background": "light"
     },
     "output_type": "display_data"
    }
   ],
   "source": [
    "power_df.rolling(window=\"7d\", min_periods=7).mean().plot()"
   ]
  },
  {
   "cell_type": "code",
   "execution_count": 44,
   "id": "0661d82b",
   "metadata": {},
   "outputs": [
    {
     "data": {
      "text/plain": [
       "<AxesSubplot:xlabel='dt'>"
      ]
     },
     "execution_count": 44,
     "metadata": {},
     "output_type": "execute_result"
    },
    {
     "data": {
      "image/png": "[encoded data removed]",
      "text/plain": [
       "<Figure size 432x288 with 1 Axes>"
      ]
     },
     "metadata": {
      "needs_background": "light"
     },
     "output_type": "display_data"
    }
   ],
   "source": [
    "power_df.plot()"
   ]
  },
  {
   "cell_type": "code",
   "execution_count": 51,
   "id": "30892956",
   "metadata": {},
   "outputs": [],
   "source": [
    "import numpy as np"
   ]
  },
  {
   "cell_type": "code",
   "execution_count": 55,
   "id": "48d639e8",
   "metadata": {},
   "outputs": [],
   "source": [
    "foo = 100 * np.abs(power_df - power_df.rolling(window=\"7d\", min_periods=7).mean()) / power_df.rolling(window=\"7d\", min_periods=7).mean()"
   ]
  },
  {
   "cell_type": "code",
   "execution_count": 56,
   "id": "c8a8ee86",
   "metadata": {},
   "outputs": [
    {
     "data": {
      "text/plain": [
       "count    1492.000000\n",
       "mean       19.006162\n",
       "std        17.347957\n",
       "min         0.028335\n",
       "25%         6.697390\n",
       "50%        14.529506\n",
       "75%        26.523168\n",
       "max       190.476707\n",
       "Name: value, dtype: float64"
      ]
     },
     "execution_count": 56,
     "metadata": {},
     "output_type": "execute_result"
    }
   ],
   "source": [
    "foo.describe()"
   ]
  },
  {
   "cell_type": "code",
   "execution_count": null,
   "id": "73581586",
   "metadata": {},
   "outputs": [],
   "source": []
  },
  {
   "cell_type": "code",
   "execution_count": 64,
   "id": "139228a8",
   "metadata": {},
   "outputs": [
    {
     "data": {
      "text/plain": [
       "dt\n",
       "2016-07-15     60.044307\n",
       "2016-07-16     56.104402\n",
       "2016-07-17     56.572747\n",
       "2016-07-18     51.497675\n",
       "2016-07-19     48.870813\n",
       "2016-07-20     19.588124\n",
       "2016-07-21     23.463254\n",
       "2016-07-22    190.476707\n",
       "2016-07-23    115.968826\n",
       "2016-07-24     62.064104\n",
       "Freq: D, Name: value, dtype: float64"
      ]
     },
     "execution_count": 64,
     "metadata": {},
     "output_type": "execute_result"
    }
   ],
   "source": [
    "foo.loc[\"2016-07-15\":\"2016-07-24\"]"
   ]
  },
  {
   "cell_type": "code",
   "execution_count": 70,
   "id": "22fc4c3c",
   "metadata": {},
   "outputs": [
    {
     "data": {
      "text/html": [
       "<div>\n",
       "<style scoped>\n",
       "    .dataframe tbody tr th:only-of-type {\n",
       "        vertical-align: middle;\n",
       "    }\n",
       "\n",
       "    .dataframe tbody tr th {\n",
       "        vertical-align: top;\n",
       "    }\n",
       "\n",
       "    .dataframe thead th {\n",
       "        text-align: right;\n",
       "    }\n",
       "</style>\n",
       "<table border=\"1\" class=\"dataframe\">\n",
       "  <thead>\n",
       "    <tr style=\"text-align: right;\">\n",
       "      <th></th>\n",
       "      <th>value</th>\n",
       "      <th>notes</th>\n",
       "    </tr>\n",
       "    <tr>\n",
       "      <th>dt</th>\n",
       "      <th></th>\n",
       "      <th></th>\n",
       "    </tr>\n",
       "  </thead>\n",
       "  <tbody>\n",
       "    <tr>\n",
       "      <th>2016-07-15</th>\n",
       "      <td>16.696</td>\n",
       "      <td>vacation</td>\n",
       "    </tr>\n",
       "    <tr>\n",
       "      <th>2016-07-16</th>\n",
       "      <td>16.299</td>\n",
       "      <td>vacation</td>\n",
       "    </tr>\n",
       "    <tr>\n",
       "      <th>2016-07-17</th>\n",
       "      <td>14.246</td>\n",
       "      <td>vacation</td>\n",
       "    </tr>\n",
       "    <tr>\n",
       "      <th>2016-07-18</th>\n",
       "      <td>13.840</td>\n",
       "      <td>vacation</td>\n",
       "    </tr>\n",
       "    <tr>\n",
       "      <th>2016-07-19</th>\n",
       "      <td>12.329</td>\n",
       "      <td>vacation</td>\n",
       "    </tr>\n",
       "    <tr>\n",
       "      <th>2016-07-20</th>\n",
       "      <td>15.786</td>\n",
       "      <td>vacation</td>\n",
       "    </tr>\n",
       "    <tr>\n",
       "      <th>2016-07-21</th>\n",
       "      <td>19.101</td>\n",
       "      <td>vacation</td>\n",
       "    </tr>\n",
       "    <tr>\n",
       "      <th>2016-07-22</th>\n",
       "      <td>64.973</td>\n",
       "      <td>weekday</td>\n",
       "    </tr>\n",
       "  </tbody>\n",
       "</table>\n",
       "</div>"
      ],
      "text/plain": [
       "             value     notes\n",
       "dt                          \n",
       "2016-07-15  16.696  vacation\n",
       "2016-07-16  16.299  vacation\n",
       "2016-07-17  14.246  vacation\n",
       "2016-07-18  13.840  vacation\n",
       "2016-07-19  12.329  vacation\n",
       "2016-07-20  15.786  vacation\n",
       "2016-07-21  19.101  vacation\n",
       "2016-07-22  64.973   weekday"
      ]
     },
     "execution_count": 70,
     "metadata": {},
     "output_type": "execute_result"
    }
   ],
   "source": [
    "power_usage.resample(\"d\").agg({\"value\": \"sum\", \"notes\": \"first\"}).loc[\"2016-07-15\":\"2016-07-22\"]"
   ]
  },
  {
   "cell_type": "code",
   "execution_count": 65,
   "id": "89ad5392",
   "metadata": {},
   "outputs": [
    {
     "data": {
      "text/plain": [
       "dt\n",
       "2016-07-15    16.696\n",
       "2016-07-16    16.299\n",
       "2016-07-17    14.246\n",
       "2016-07-18    13.840\n",
       "2016-07-19    12.329\n",
       "2016-07-20    15.786\n",
       "2016-07-21    19.101\n",
       "2016-07-22    64.973\n",
       "2016-07-23    62.589\n",
       "2016-07-24    56.825\n",
       "Freq: D, Name: value, dtype: float64"
      ]
     },
     "execution_count": 65,
     "metadata": {},
     "output_type": "execute_result"
    }
   ],
   "source": [
    "power_df.loc[\"2016-07-15\":\"2016-07-24\"]"
   ]
  },
  {
   "cell_type": "code",
   "execution_count": 63,
   "id": "a1287e91",
   "metadata": {},
   "outputs": [
    {
     "data": {
      "text/html": [
       "<div>\n",
       "<style scoped>\n",
       "    .dataframe tbody tr th:only-of-type {\n",
       "        vertical-align: middle;\n",
       "    }\n",
       "\n",
       "    .dataframe tbody tr th {\n",
       "        vertical-align: top;\n",
       "    }\n",
       "\n",
       "    .dataframe thead th {\n",
       "        text-align: right;\n",
       "    }\n",
       "</style>\n",
       "<table border=\"1\" class=\"dataframe\">\n",
       "  <thead>\n",
       "    <tr style=\"text-align: right;\">\n",
       "      <th></th>\n",
       "      <th>Temp_max</th>\n",
       "      <th>Temp_avg</th>\n",
       "      <th>Temp_min</th>\n",
       "      <th>Dew_max</th>\n",
       "      <th>Dew_avg</th>\n",
       "      <th>Dew_min</th>\n",
       "      <th>Hum_max</th>\n",
       "      <th>Hum_avg</th>\n",
       "      <th>Hum_min</th>\n",
       "      <th>Wind_max</th>\n",
       "      <th>Wind_avg</th>\n",
       "      <th>Wind_min</th>\n",
       "      <th>Press_max</th>\n",
       "      <th>Press_avg</th>\n",
       "      <th>Press_min</th>\n",
       "      <th>Precipit</th>\n",
       "      <th>day_of_week</th>\n",
       "      <th>moy</th>\n",
       "    </tr>\n",
       "    <tr>\n",
       "      <th>date</th>\n",
       "      <th></th>\n",
       "      <th></th>\n",
       "      <th></th>\n",
       "      <th></th>\n",
       "      <th></th>\n",
       "      <th></th>\n",
       "      <th></th>\n",
       "      <th></th>\n",
       "      <th></th>\n",
       "      <th></th>\n",
       "      <th></th>\n",
       "      <th></th>\n",
       "      <th></th>\n",
       "      <th></th>\n",
       "      <th></th>\n",
       "      <th></th>\n",
       "      <th></th>\n",
       "      <th></th>\n",
       "    </tr>\n",
       "  </thead>\n",
       "  <tbody>\n",
       "    <tr>\n",
       "      <th>2016-07-15</th>\n",
       "      <td>98</td>\n",
       "      <td>87.2</td>\n",
       "      <td>77</td>\n",
       "      <td>77</td>\n",
       "      <td>73.1</td>\n",
       "      <td>66</td>\n",
       "      <td>94</td>\n",
       "      <td>65.8</td>\n",
       "      <td>35</td>\n",
       "      <td>18</td>\n",
       "      <td>6.9</td>\n",
       "      <td>0</td>\n",
       "      <td>29.9</td>\n",
       "      <td>29.9</td>\n",
       "      <td>29.8</td>\n",
       "      <td>0.00</td>\n",
       "      <td>4</td>\n",
       "      <td>7</td>\n",
       "    </tr>\n",
       "    <tr>\n",
       "      <th>2016-07-16</th>\n",
       "      <td>96</td>\n",
       "      <td>86.0</td>\n",
       "      <td>77</td>\n",
       "      <td>77</td>\n",
       "      <td>72.3</td>\n",
       "      <td>66</td>\n",
       "      <td>94</td>\n",
       "      <td>66.3</td>\n",
       "      <td>38</td>\n",
       "      <td>16</td>\n",
       "      <td>5.6</td>\n",
       "      <td>0</td>\n",
       "      <td>29.9</td>\n",
       "      <td>29.9</td>\n",
       "      <td>29.8</td>\n",
       "      <td>0.00</td>\n",
       "      <td>5</td>\n",
       "      <td>7</td>\n",
       "    </tr>\n",
       "    <tr>\n",
       "      <th>2016-07-17</th>\n",
       "      <td>95</td>\n",
       "      <td>84.7</td>\n",
       "      <td>77</td>\n",
       "      <td>76</td>\n",
       "      <td>73.0</td>\n",
       "      <td>70</td>\n",
       "      <td>90</td>\n",
       "      <td>69.3</td>\n",
       "      <td>46</td>\n",
       "      <td>18</td>\n",
       "      <td>6.0</td>\n",
       "      <td>0</td>\n",
       "      <td>30.0</td>\n",
       "      <td>29.9</td>\n",
       "      <td>29.9</td>\n",
       "      <td>0.00</td>\n",
       "      <td>6</td>\n",
       "      <td>7</td>\n",
       "    </tr>\n",
       "    <tr>\n",
       "      <th>2016-07-18</th>\n",
       "      <td>96</td>\n",
       "      <td>84.1</td>\n",
       "      <td>77</td>\n",
       "      <td>77</td>\n",
       "      <td>75.0</td>\n",
       "      <td>72</td>\n",
       "      <td>94</td>\n",
       "      <td>75.0</td>\n",
       "      <td>49</td>\n",
       "      <td>9</td>\n",
       "      <td>3.5</td>\n",
       "      <td>0</td>\n",
       "      <td>30.0</td>\n",
       "      <td>30.0</td>\n",
       "      <td>30.0</td>\n",
       "      <td>0.00</td>\n",
       "      <td>0</td>\n",
       "      <td>7</td>\n",
       "    </tr>\n",
       "    <tr>\n",
       "      <th>2016-07-19</th>\n",
       "      <td>91</td>\n",
       "      <td>82.7</td>\n",
       "      <td>77</td>\n",
       "      <td>77</td>\n",
       "      <td>75.4</td>\n",
       "      <td>73</td>\n",
       "      <td>96</td>\n",
       "      <td>79.3</td>\n",
       "      <td>55</td>\n",
       "      <td>12</td>\n",
       "      <td>5.3</td>\n",
       "      <td>0</td>\n",
       "      <td>30.1</td>\n",
       "      <td>30.0</td>\n",
       "      <td>30.0</td>\n",
       "      <td>0.24</td>\n",
       "      <td>1</td>\n",
       "      <td>7</td>\n",
       "    </tr>\n",
       "    <tr>\n",
       "      <th>2016-07-20</th>\n",
       "      <td>97</td>\n",
       "      <td>85.6</td>\n",
       "      <td>76</td>\n",
       "      <td>77</td>\n",
       "      <td>74.0</td>\n",
       "      <td>71</td>\n",
       "      <td>97</td>\n",
       "      <td>70.8</td>\n",
       "      <td>43</td>\n",
       "      <td>12</td>\n",
       "      <td>3.9</td>\n",
       "      <td>0</td>\n",
       "      <td>30.1</td>\n",
       "      <td>30.0</td>\n",
       "      <td>30.0</td>\n",
       "      <td>0.22</td>\n",
       "      <td>2</td>\n",
       "      <td>7</td>\n",
       "    </tr>\n",
       "    <tr>\n",
       "      <th>2016-07-21</th>\n",
       "      <td>97</td>\n",
       "      <td>86.8</td>\n",
       "      <td>76</td>\n",
       "      <td>77</td>\n",
       "      <td>71.9</td>\n",
       "      <td>64</td>\n",
       "      <td>94</td>\n",
       "      <td>64.8</td>\n",
       "      <td>34</td>\n",
       "      <td>12</td>\n",
       "      <td>3.9</td>\n",
       "      <td>0</td>\n",
       "      <td>30.0</td>\n",
       "      <td>30.0</td>\n",
       "      <td>29.9</td>\n",
       "      <td>0.01</td>\n",
       "      <td>3</td>\n",
       "      <td>7</td>\n",
       "    </tr>\n",
       "    <tr>\n",
       "      <th>2016-07-22</th>\n",
       "      <td>98</td>\n",
       "      <td>87.5</td>\n",
       "      <td>77</td>\n",
       "      <td>76</td>\n",
       "      <td>72.6</td>\n",
       "      <td>67</td>\n",
       "      <td>94</td>\n",
       "      <td>64.0</td>\n",
       "      <td>37</td>\n",
       "      <td>12</td>\n",
       "      <td>3.4</td>\n",
       "      <td>0</td>\n",
       "      <td>30.0</td>\n",
       "      <td>29.9</td>\n",
       "      <td>29.8</td>\n",
       "      <td>0.00</td>\n",
       "      <td>4</td>\n",
       "      <td>7</td>\n",
       "    </tr>\n",
       "    <tr>\n",
       "      <th>2016-07-23</th>\n",
       "      <td>98</td>\n",
       "      <td>87.5</td>\n",
       "      <td>78</td>\n",
       "      <td>76</td>\n",
       "      <td>73.8</td>\n",
       "      <td>70</td>\n",
       "      <td>90</td>\n",
       "      <td>65.4</td>\n",
       "      <td>40</td>\n",
       "      <td>10</td>\n",
       "      <td>5.5</td>\n",
       "      <td>0</td>\n",
       "      <td>29.9</td>\n",
       "      <td>29.8</td>\n",
       "      <td>29.8</td>\n",
       "      <td>0.00</td>\n",
       "      <td>5</td>\n",
       "      <td>7</td>\n",
       "    </tr>\n",
       "    <tr>\n",
       "      <th>2016-07-24</th>\n",
       "      <td>98</td>\n",
       "      <td>88.3</td>\n",
       "      <td>78</td>\n",
       "      <td>77</td>\n",
       "      <td>73.9</td>\n",
       "      <td>69</td>\n",
       "      <td>93</td>\n",
       "      <td>64.4</td>\n",
       "      <td>40</td>\n",
       "      <td>15</td>\n",
       "      <td>5.5</td>\n",
       "      <td>0</td>\n",
       "      <td>29.9</td>\n",
       "      <td>29.8</td>\n",
       "      <td>29.8</td>\n",
       "      <td>0.00</td>\n",
       "      <td>6</td>\n",
       "      <td>7</td>\n",
       "    </tr>\n",
       "  </tbody>\n",
       "</table>\n",
       "</div>"
      ],
      "text/plain": [
       "            Temp_max  Temp_avg  Temp_min  Dew_max  Dew_avg  Dew_min  Hum_max  \\\n",
       "date                                                                           \n",
       "2016-07-15        98      87.2        77       77     73.1       66       94   \n",
       "2016-07-16        96      86.0        77       77     72.3       66       94   \n",
       "2016-07-17        95      84.7        77       76     73.0       70       90   \n",
       "2016-07-18        96      84.1        77       77     75.0       72       94   \n",
       "2016-07-19        91      82.7        77       77     75.4       73       96   \n",
       "2016-07-20        97      85.6        76       77     74.0       71       97   \n",
       "2016-07-21        97      86.8        76       77     71.9       64       94   \n",
       "2016-07-22        98      87.5        77       76     72.6       67       94   \n",
       "2016-07-23        98      87.5        78       76     73.8       70       90   \n",
       "2016-07-24        98      88.3        78       77     73.9       69       93   \n",
       "\n",
       "            Hum_avg  Hum_min  Wind_max  Wind_avg  Wind_min  Press_max  \\\n",
       "date                                                                    \n",
       "2016-07-15     65.8       35        18       6.9         0       29.9   \n",
       "2016-07-16     66.3       38        16       5.6         0       29.9   \n",
       "2016-07-17     69.3       46        18       6.0         0       30.0   \n",
       "2016-07-18     75.0       49         9       3.5         0       30.0   \n",
       "2016-07-19     79.3       55        12       5.3         0       30.1   \n",
       "2016-07-20     70.8       43        12       3.9         0       30.1   \n",
       "2016-07-21     64.8       34        12       3.9         0       30.0   \n",
       "2016-07-22     64.0       37        12       3.4         0       30.0   \n",
       "2016-07-23     65.4       40        10       5.5         0       29.9   \n",
       "2016-07-24     64.4       40        15       5.5         0       29.9   \n",
       "\n",
       "            Press_avg  Press_min  Precipit  day_of_week  moy  \n",
       "date                                                          \n",
       "2016-07-15       29.9       29.8      0.00            4    7  \n",
       "2016-07-16       29.9       29.8      0.00            5    7  \n",
       "2016-07-17       29.9       29.9      0.00            6    7  \n",
       "2016-07-18       30.0       30.0      0.00            0    7  \n",
       "2016-07-19       30.0       30.0      0.24            1    7  \n",
       "2016-07-20       30.0       30.0      0.22            2    7  \n",
       "2016-07-21       30.0       29.9      0.01            3    7  \n",
       "2016-07-22       29.9       29.8      0.00            4    7  \n",
       "2016-07-23       29.8       29.8      0.00            5    7  \n",
       "2016-07-24       29.8       29.8      0.00            6    7  "
      ]
     },
     "execution_count": 63,
     "metadata": {},
     "output_type": "execute_result"
    }
   ],
   "source": [
    "weather.set_index(\"date\").loc[\"2016-07-15\":\"2016-07-24\"]"
   ]
  }
 ],
 "metadata": {
  "kernelspec": {
   "display_name": "Python 3 (ipykernel)",
   "language": "python",
   "name": "python3"
  },
  "language_info": {
   "codemirror_mode": {
    "name": "ipython",
    "version": 3
   },
   "file_extension": ".py",
   "mimetype": "text/x-python",
   "name": "python",
   "nbconvert_exporter": "python",
   "pygments_lexer": "ipython3",
   "version": "3.9.7"
  }
 },
 "nbformat": 4,
 "nbformat_minor": 5
}
