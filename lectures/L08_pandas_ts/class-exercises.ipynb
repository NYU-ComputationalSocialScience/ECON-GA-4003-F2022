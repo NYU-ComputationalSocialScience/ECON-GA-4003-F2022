{
 "cells": [
  {
   "cell_type": "markdown",
   "id": "f4ce2755",
   "metadata": {},
   "source": [
    "# Timeseries: In class exercise"
   ]
  },
  {
   "cell_type": "markdown",
   "id": "603a7450",
   "metadata": {},
   "source": [
    "We will be using a version of the \"Residential power usage 3years data - Timeseries\" dataset from Kaggle (see https://www.kaggle.com/datasets/srinuti/residential-power-usage-3years-data-timeseries).\n",
    "\n",
    "This dataset includes two data files:\n",
    "\n",
    "1. `power_usage_2016_to_2020.csv`: This includes the data on the number of kWh of energy used on each day from 2016 to 2020. The value column is measured in [kWh](https://en.wikipedia.org/wiki/Kilowatt-hour). The notes column can take values: `weekday`, `weekend`, `vacation`, `COVID_lockdown`.\n",
    "2. `weather_2016_2020_daily.csv`: This includes various pieces of weather information for each relevant day"
   ]
  },
  {
   "cell_type": "code",
   "execution_count": null,
   "id": "630ad110",
   "metadata": {},
   "outputs": [],
   "source": [
    "import pandas as pd"
   ]
  },
  {
   "cell_type": "markdown",
   "id": "b2258748",
   "metadata": {},
   "source": [
    "Load power usage data"
   ]
  },
  {
   "cell_type": "code",
   "execution_count": null,
   "id": "b4b60a76",
   "metadata": {},
   "outputs": [],
   "source": [
    "power_usage = pd.read_csv(\"power_usage_2016_to_2020.csv\")\n",
    "\n",
    "# According to the documentation, datetimes are formatted\n",
    "# incorrectly so they need to be reset\n",
    "power_usage[\"dt\"] = pd.date_range(\n",
    "    \"2016-06-01 00:00:00\", freq=\"1H\",\n",
    "    periods=power_usage.shape[0]\n",
    ")\n",
    "power_usage = (\n",
    "    power_usage.drop(\n",
    "        columns=[\"day_of_week\", \"StartDate\"]\n",
    "    )\n",
    "    .rename(\n",
    "        columns={\"Value (kWh)\": \"value\"}\n",
    "    )\n",
    ")"
   ]
  },
  {
   "cell_type": "code",
   "execution_count": null,
   "id": "9a95ed16",
   "metadata": {},
   "outputs": [],
   "source": [
    "power_usage.head()"
   ]
  },
  {
   "cell_type": "markdown",
   "id": "c5c549ac",
   "metadata": {},
   "source": [
    "Load weather data"
   ]
  },
  {
   "cell_type": "code",
   "execution_count": null,
   "id": "0578d8ff",
   "metadata": {},
   "outputs": [],
   "source": [
    "weather = pd.read_csv(\"weather_2016_2020_daily.csv\")\n",
    "\n",
    "# According to the documentation, datetimes are formatted\n",
    "# incorrectly so they need to be reset\n",
    "weather[\"date\"] = pd.date_range(\n",
    "    \"2016-06-01\", freq=\"1D\", periods=weather.shape[0]\n",
    ")\n",
    "\n",
    "weather = weather.drop(columns=[\"Date\", \"Day\"])"
   ]
  },
  {
   "cell_type": "code",
   "execution_count": null,
   "id": "5c3e900a",
   "metadata": {},
   "outputs": [],
   "source": [
    "weather.head()"
   ]
  },
  {
   "cell_type": "markdown",
   "id": "fa7ac1d9",
   "metadata": {},
   "source": [
    "**Questions**\n",
    "\n",
    "Feel free to explore the data on your own, but these are some hints for directions that we think could be interesting."
   ]
  },
  {
   "cell_type": "markdown",
   "id": "cf915e85",
   "metadata": {},
   "source": [
    "What week had the biggest difference between the largest and smallest hourly energy expenditure?"
   ]
  },
  {
   "cell_type": "code",
   "execution_count": null,
   "id": "01e16562",
   "metadata": {},
   "outputs": [],
   "source": []
  },
  {
   "cell_type": "markdown",
   "id": "162b1993",
   "metadata": {},
   "source": [
    "Plot daily energy usage vs daily temperature"
   ]
  },
  {
   "cell_type": "code",
   "execution_count": null,
   "id": "2f680fe0",
   "metadata": {},
   "outputs": [],
   "source": []
  },
  {
   "cell_type": "markdown",
   "id": "8bf37bd6",
   "metadata": {},
   "source": [
    "What month had the highest total energy expenditure?"
   ]
  },
  {
   "cell_type": "code",
   "execution_count": null,
   "id": "98b71ed2",
   "metadata": {},
   "outputs": [],
   "source": []
  },
  {
   "cell_type": "markdown",
   "id": "855e5fb6",
   "metadata": {},
   "source": [
    "What month had the highest average energy expenditure over all of the years?"
   ]
  },
  {
   "cell_type": "code",
   "execution_count": null,
   "id": "e5fe4ffe",
   "metadata": {},
   "outputs": [],
   "source": []
  },
  {
   "cell_type": "markdown",
   "id": "f8596e99",
   "metadata": {},
   "source": [
    "What months have the most rain where the data is collected?"
   ]
  },
  {
   "cell_type": "code",
   "execution_count": null,
   "id": "bd77ce23",
   "metadata": {},
   "outputs": [],
   "source": []
  },
  {
   "cell_type": "markdown",
   "id": "02baa459",
   "metadata": {},
   "source": [
    "What months have the most wind?"
   ]
  },
  {
   "cell_type": "code",
   "execution_count": null,
   "id": "dd424c8e",
   "metadata": {},
   "outputs": [],
   "source": []
  },
  {
   "cell_type": "markdown",
   "id": "654e4010",
   "metadata": {},
   "source": [
    "Compute the rolling 24 hour average of energy expenditure.\n",
    "\n",
    "How might you measure whether certain observations are an anomaly? According to your measure, are there anomalies? Do these anomalies correspond to something happening in the weather?"
   ]
  },
  {
   "cell_type": "code",
   "execution_count": null,
   "id": "c6a29e6f",
   "metadata": {},
   "outputs": [],
   "source": []
  },
  {
   "cell_type": "code",
   "execution_count": null,
   "id": "7ecdf5f7",
   "metadata": {},
   "outputs": [],
   "source": []
  },
  {
   "cell_type": "code",
   "execution_count": null,
   "id": "f1b4561d",
   "metadata": {},
   "outputs": [],
   "source": []
  },
  {
   "cell_type": "markdown",
   "id": "02a90971",
   "metadata": {},
   "source": [
    "Compute the rolling 7 day average of energy expenditure.\n",
    "\n",
    "How might you measure whether certain observations are an anomaly? According to your measure, are there anomalies? Do these anomalies correspond to something happening in the weather?"
   ]
  },
  {
   "cell_type": "code",
   "execution_count": null,
   "id": "63957fba",
   "metadata": {},
   "outputs": [],
   "source": []
  },
  {
   "cell_type": "code",
   "execution_count": null,
   "id": "0661d82b",
   "metadata": {},
   "outputs": [],
   "source": []
  },
  {
   "cell_type": "code",
   "execution_count": null,
   "id": "139228a8",
   "metadata": {},
   "outputs": [],
   "source": []
  }
 ],
 "metadata": {
  "kernelspec": {
   "display_name": "Python 3 (ipykernel)",
   "language": "python",
   "name": "python3"
  },
  "language_info": {
   "codemirror_mode": {
    "name": "ipython",
    "version": 3
   },
   "file_extension": ".py",
   "mimetype": "text/x-python",
   "name": "python",
   "nbconvert_exporter": "python",
   "pygments_lexer": "ipython3",
   "version": "3.9.7"
  }
 },
 "nbformat": 4,
 "nbformat_minor": 5
}
