{
 "cells": [
  {
   "cell_type": "markdown",
   "metadata": {
    "slideshow": {
     "slide_type": "slide"
    }
   },
   "source": [
    "# BLS Labor Statistics\n",
    "\n",
    "We will now use the data that we downloaded to explore the labor market reactions during times of economic turbulence"
   ]
  },
  {
   "cell_type": "code",
   "execution_count": null,
   "metadata": {
    "slideshow": {
     "slide_type": "-"
    }
   },
   "outputs": [],
   "source": [
    "import matplotlib.pyplot as plt\n",
    "import numpy as np\n",
    "import pandas as pd\n",
    "\n",
    "%matplotlib inline"
   ]
  },
  {
   "cell_type": "markdown",
   "metadata": {
    "slideshow": {
     "slide_type": "subslide"
    }
   },
   "source": [
    "## Clean the data\n",
    "\n",
    "We are going to assume that the data is stored in the same directory as you are in right now under `bls_metadata.parquet` and `bls_data.parquet`."
   ]
  },
  {
   "cell_type": "code",
   "execution_count": null,
   "metadata": {
    "slideshow": {
     "slide_type": "-"
    }
   },
   "outputs": [],
   "source": [
    "data = pd.read_parquet(\"bls_data.parquet\")\n",
    "metadata = pd.read_parquet(\"bls_metadata.parquet\")\n"
   ]
  },
  {
   "cell_type": "markdown",
   "metadata": {
    "slideshow": {
     "slide_type": "subslide"
    }
   },
   "source": [
    "### Convert to numeric data"
   ]
  },
  {
   "cell_type": "code",
   "execution_count": null,
   "metadata": {
    "slideshow": {
     "slide_type": "-"
    }
   },
   "outputs": [],
   "source": [
    "data[\"value\"] = pd.to_numeric(data[\"value\"])"
   ]
  },
  {
   "cell_type": "markdown",
   "metadata": {
    "slideshow": {
     "slide_type": "subslide"
    }
   },
   "source": [
    "### Convert date information to datetime\n"
   ]
  },
  {
   "cell_type": "code",
   "execution_count": null,
   "metadata": {},
   "outputs": [],
   "source": [
    "data.head()"
   ]
  },
  {
   "cell_type": "code",
   "execution_count": null,
   "metadata": {
    "slideshow": {
     "slide_type": "-"
    }
   },
   "outputs": [],
   "source": [
    "data[\"dt\"] = pd.to_datetime(\n",
    "    data.apply(lambda x: f\"1 {x['periodName']} {x['year']}\", axis=1)\n",
    ")\n",
    "\n",
    "# Drop unneeded date info\n",
    "data = data.drop(\n",
    "    [\"year\", \"periodName\", \"period\"], axis=1\n",
    ").sort_values(\n",
    "    [\"series_id\", \"dt\"]\n",
    ")[[\"series_id\", \"dt\", \"value\"]]\n",
    "\n",
    "data.head(3)\n"
   ]
  },
  {
   "cell_type": "markdown",
   "metadata": {
    "slideshow": {
     "slide_type": "subslide"
    }
   },
   "source": [
    "### Rename `cps_labor_force_status`"
   ]
  },
  {
   "cell_type": "code",
   "execution_count": null,
   "metadata": {
    "slideshow": {
     "slide_type": "-"
    }
   },
   "outputs": [],
   "source": [
    "lfs_status = {\n",
    "    \"Employed\": \"employed\",\n",
    "    \"Unemployed\": \"unemployed\",\n",
    "    \"Labor Force Flows Employed to Employed\": \"ee\",\n",
    "    \"Labor Force Flows Employed to Unemployed\": \"eu\",\n",
    "    \"Labor Force Flows Unemployed to Employed\": \"ue\",\n",
    "    \"Labor Force Flows Unemployed to Unemployed\": \"uu\",                \n",
    "}\n",
    "\n",
    "metadata = metadata.replace({\"cps_labor_force_status\": lfs_status})\n",
    "\n",
    "metadata.head(2)\n"
   ]
  },
  {
   "cell_type": "markdown",
   "metadata": {
    "slideshow": {
     "slide_type": "subslide"
    }
   },
   "source": [
    "### Only keep subset of metadata"
   ]
  },
  {
   "cell_type": "code",
   "execution_count": null,
   "metadata": {
    "slideshow": {
     "slide_type": "-"
    }
   },
   "outputs": [],
   "source": [
    "and_filters = [\n",
    "    \"(commerce_industry == 'All Industries')\",\n",
    "    \"(occupation == 'All Occupations')\",\n",
    "    \"(seasonality == 'Not Seasonally Adjusted')\",\n",
    "    \"(demographic_race == 'All Races')\",\n",
    "    \"(demographic_gender == 'Both Sexes')\",\n",
    "]\n",
    "\n",
    "metadata_lf = metadata.query(\n",
    "    \"&\".join(and_filters)\n",
    ").loc[metadata[\"cps_labor_force_status\"].isin(lfs_status.values()), :]\n",
    "\n",
    "metadata_lf.head(2)\n"
   ]
  },
  {
   "cell_type": "markdown",
   "metadata": {
    "slideshow": {
     "slide_type": "subslide"
    }
   },
   "source": [
    "### Merge variable names to `data`"
   ]
  },
  {
   "cell_type": "code",
   "execution_count": null,
   "metadata": {
    "slideshow": {
     "slide_type": "-"
    }
   },
   "outputs": [],
   "source": [
    "df = pd.merge(\n",
    "    data, metadata_lf[[\"series_id\", \"cps_labor_force_status\"]],\n",
    "    on=\"series_id\", how=\"right\"\n",
    ").rename(\n",
    "    columns={\"cps_labor_force_status\": \"variable\"}\n",
    ")[[\"variable\", \"dt\", \"value\"]]\n",
    "\n",
    "df.head()\n"
   ]
  },
  {
   "cell_type": "markdown",
   "metadata": {
    "slideshow": {
     "slide_type": "slide"
    }
   },
   "source": [
    "## Generate series from dates\n",
    "\n",
    "Create a function that will give us a series starting from a particular date and going forward a certain number of days"
   ]
  },
  {
   "cell_type": "code",
   "execution_count": null,
   "metadata": {
    "slideshow": {
     "slide_type": "-"
    }
   },
   "outputs": [],
   "source": [
    "def filter_days_from(data, start_date, ndays=3*365):\n",
    "    \"\"\"\n",
    "    Creates a history of data starting at a particular date and running\n",
    "    forward for `ndays` days.\n",
    "    \n",
    "    Parameters\n",
    "    ----------\n",
    "    data : pd.DataFrame\n",
    "        A DataFrame with relevant data that we'd like to  consider\n",
    "        starting from a particular date. Must have a column `dt` with\n",
    "        datetime data\n",
    "    start_date : str or datetime\n",
    "        The moment we would like our history to start\n",
    "    ndays : int\n",
    "        The number of days that we would like to keep in our history\n",
    "    \n",
    "    Returns\n",
    "    -------\n",
    "    out : pd.DataFrame\n",
    "        A copy of `data` with only data from `start_date` to\n",
    "        `start_date + f'{ndays} days'` and a new column that counts\n",
    "        the number of days since `start_date`\n",
    "    \"\"\"\n",
    "    # Determine number of days from certain date\n",
    "    days_from = (data[\"dt\"] - pd.to_datetime(start_date)).dt.days\n",
    "    \n",
    "    # Check for >=0 days and <ndays\n",
    "    dates_to_keep = (days_from >= 0) & (days_from < ndays)\n",
    "    \n",
    "    # Create copy of DataFrame that we'll use as the return\n",
    "    out = data.copy()\n",
    "    out[\"days_from\"] = days_from\n",
    "    out = out.loc[dates_to_keep, :]\n",
    "\n",
    "    return out"
   ]
  },
  {
   "cell_type": "markdown",
   "metadata": {
    "slideshow": {
     "slide_type": "subslide"
    }
   },
   "source": [
    "### What does this function do?"
   ]
  },
  {
   "cell_type": "code",
   "execution_count": null,
   "metadata": {
    "slideshow": {
     "slide_type": "-"
    }
   },
   "outputs": [],
   "source": [
    "df_nt = filter_days_from(df, \"2012-01-01\", ndays=5*365)\n",
    "\n",
    "df_nt.head()\n"
   ]
  },
  {
   "cell_type": "markdown",
   "metadata": {
    "slideshow": {
     "slide_type": "slide"
    }
   },
   "source": [
    "## UE and EU during 'normal times'"
   ]
  },
  {
   "cell_type": "code",
   "execution_count": null,
   "metadata": {
    "slideshow": {
     "slide_type": "-"
    }
   },
   "outputs": [],
   "source": [
    "pt_nt = df_nt.pivot(index=\"dt\", columns=\"variable\", values=\"value\")\n",
    "\n",
    "pt_nt[\"laborforce\"] = pt_nt.eval(\"employed + unemployed\")\n",
    "\n",
    "for col in [\"ee\", \"eu\"]:\n",
    "    pt_nt.loc[:, col] = pt_nt.eval(f\"{col} / employed\")\n",
    "\n",
    "for col in [\"ue\", \"uu\"]:\n",
    "    pt_nt.loc[:, col] = pt_nt.eval(f\"{col} / unemployed\")\n",
    "\n",
    "pt_nt.head()\n"
   ]
  },
  {
   "cell_type": "code",
   "execution_count": null,
   "metadata": {
    "scrolled": false,
    "slideshow": {
     "slide_type": "fragment"
    }
   },
   "outputs": [],
   "source": [
    "fig, ax = plt.subplots(figsize=(10, 8))\n",
    "\n",
    "pt_nt.plot(\n",
    "    y=\"eu\", ax=ax,\n",
    "    color=\"Red\", legend=False, linewidth=2.0\n",
    ")\n",
    "pt_nt.plot(\n",
    "    y=\"ue\", ax=ax,\n",
    "    color=\"Green\", legend=False, linewidth=2.0\n",
    ")\n",
    "\n",
    "ax.hlines(\n",
    "    pt_nt[\"eu\"].mean(), pt_nt.index[0], pt_nt.index[-1],\n",
    "    linewidth=1.0, linestyle=\"--\", color=\"Red\"\n",
    ")\n",
    "ax.hlines(\n",
    "    pt_nt[\"ue\"].mean(), pt_nt.index[0], pt_nt.index[-1],\n",
    "    linewidth=1.0, linestyle=\"--\", color=\"Green\"\n",
    ")\n",
    "\n",
    "xs, xe = ax.get_xlim()\n",
    "ax.annotate(\n",
    "    \"EU\", xy=(xs + 0.33*(xe-xs), 0.020),\n",
    "    color=\"Red\", size=16\n",
    ")\n",
    "ax.annotate(\n",
    "    \"UE\", xy=(xs + 0.15*(xe-xs), 0.22),\n",
    "    color=\"Green\", size=16\n",
    ")\n",
    "\n",
    "ax.spines[\"right\"].set_visible(False)\n",
    "ax.spines[\"top\"].set_visible(False)\n",
    "\n",
    "ax.set_title(\"EU and UE during 'normal times'\", size=18)"
   ]
  },
  {
   "cell_type": "markdown",
   "metadata": {
    "slideshow": {
     "slide_type": "slide"
    }
   },
   "source": [
    "## Labor statistics during 'turbulent times'\n",
    "\n",
    "We are going to start our plots of \"turbulent times\" one year prior to the trough of unemployment...\n",
    "\n",
    "\n",
    "Note that we did this approximately, but writing code to do this would be a great exercise if you're looking for practice!"
   ]
  },
  {
   "cell_type": "code",
   "execution_count": null,
   "metadata": {
    "slideshow": {
     "slide_type": "-"
    }
   },
   "outputs": [],
   "source": [
    "df_covid = filter_days_from(\n",
    "    df, \"2019-03-01\", 5*365\n",
    ").pivot(\n",
    "    index=\"days_from\", columns=\"variable\", values=\"value\"\n",
    ").assign(\n",
    "    laborforce= lambda x: x.eval(\"employed + unemployed\"),\n",
    "    ee=lambda x: x.eval(\"ee / employed\"),\n",
    "    eu=lambda x: x.eval(\"eu / employed\"),\n",
    "    ue=lambda x: x.eval(\"ue / unemployed\"),\n",
    "    uu=lambda x: x.eval(\"uu / unemployed\"),\n",
    ")\n"
   ]
  },
  {
   "cell_type": "code",
   "execution_count": null,
   "metadata": {
    "slideshow": {
     "slide_type": "-"
    }
   },
   "outputs": [],
   "source": [
    "df_gr = filter_days_from(\n",
    "    df, \"2007-02-01\", 5*365\n",
    ").pivot(\n",
    "    index=\"days_from\", columns=\"variable\", values=\"value\"\n",
    ").assign(\n",
    "    laborforce= lambda x: x.eval(\"employed + unemployed\"),\n",
    "    ee=lambda x: x.eval(\"ee / employed\"),\n",
    "    eu=lambda x: x.eval(\"eu / employed\"),\n",
    "    ue=lambda x: x.eval(\"ue / unemployed\"),\n",
    "    uu=lambda x: x.eval(\"uu / unemployed\"),\n",
    ")\n"
   ]
  },
  {
   "cell_type": "markdown",
   "metadata": {
    "slideshow": {
     "slide_type": "subslide"
    }
   },
   "source": [
    "### Changes in employment and unemployment"
   ]
  },
  {
   "cell_type": "code",
   "execution_count": null,
   "metadata": {
    "slideshow": {
     "slide_type": "-"
    }
   },
   "outputs": [],
   "source": [
    "fig, ax = plt.subplots(2, 1, figsize=(10, 8), sharex=True)\n",
    "\n",
    "df_covid.plot(\n",
    "    y=\"employed\", ax=ax[0],\n",
    "    color=\"k\", linewidth=1.0, legend=False\n",
    ")\n",
    "df_gr.plot(\n",
    "    y=\"employed\", ax=ax[0],\n",
    "    color=\"k\", alpha=0.5, linestyle=\"--\", linewidth=0.5,\n",
    "    legend=False\n",
    ")\n",
    "ax[0].set_title(\"Number of employed\")\n",
    "ax[0].set_ylabel(\"People in thousands\")\n",
    "\n",
    "df_covid.plot(\n",
    "    y=\"unemployed\", ax=ax[1],\n",
    "    color=\"k\", linewidth=1.0, legend=False\n",
    ")\n",
    "df_gr.plot(\n",
    "    y=\"unemployed\", ax=ax[1],\n",
    "    color=\"k\", alpha=0.5, linestyle=\"--\", linewidth=0.5,\n",
    "    legend=False\n",
    ")\n",
    "ax[1].set_title(\"Number of unemployed\")\n",
    "ax[1].set_xlabel(\"Days since one year before trough\")\n",
    "ax[1].set_ylabel(\"People in thousands\")\n",
    "\n",
    "for _ax in ax:\n",
    "    _ax.spines[\"right\"].set_visible(False)\n",
    "    _ax.spines[\"top\"].set_visible(False)\n",
    "\n",
    "ax[0].annotate(\"COVID\", (385, 155_000))\n",
    "ax[0].annotate(\"Great Recession\", (1_250, 142_000), alpha=0.5)\n",
    "\n",
    "fig.tight_layout()"
   ]
  },
  {
   "cell_type": "markdown",
   "metadata": {
    "slideshow": {
     "slide_type": "subslide"
    }
   },
   "source": [
    "### Changes in EU and UE"
   ]
  },
  {
   "cell_type": "code",
   "execution_count": null,
   "metadata": {
    "slideshow": {
     "slide_type": "-"
    }
   },
   "outputs": [],
   "source": [
    "fig, ax = plt.subplots(2, 1, figsize=(10, 8), sharex=True)\n",
    "\n",
    "df_covid.plot(\n",
    "    y=\"ue\", ax=ax[0],\n",
    "    color=\"k\", linewidth=1.0, legend=False\n",
    ")\n",
    "df_gr.plot(\n",
    "    y=\"ue\", ax=ax[0],\n",
    "    color=\"k\", alpha=0.5, linestyle=\"--\", linewidth=0.5,\n",
    "    legend=False\n",
    ")\n",
    "ax[0].set_title(\"Unemployed to Employed\")\n",
    "ax[0].set_ylabel(\"Percent of unemployed\")\n",
    "\n",
    "df_covid.plot(\n",
    "    y=\"eu\", ax=ax[1],\n",
    "    color=\"k\", linewidth=1.0, legend=False\n",
    ")\n",
    "df_gr.plot(\n",
    "    y=\"eu\", ax=ax[1],\n",
    "    color=\"k\", alpha=0.5, linestyle=\"--\", linewidth=0.5,\n",
    "    legend=False\n",
    ")\n",
    "ax[1].set_title(\"Employed to Unmployed\")\n",
    "ax[1].set_xlabel(\"Days since one year before trough\")\n",
    "ax[1].set_ylabel(\"Percent of employed\")\n",
    "\n",
    "for _ax in ax:\n",
    "    _ax.spines[\"right\"].set_visible(False)\n",
    "    _ax.spines[\"top\"].set_visible(False)\n",
    "\n",
    "ax[0].hlines(pt_nt[\"ue\"].mean(), 0, 5*365, color=\"Green\", linewidth=0.75, alpha=0.75)\n",
    "ax[1].hlines(pt_nt[\"eu\"].mean(), 0, 5*365, color=\"Green\", linewidth=0.75, alpha=0.75)\n",
    "\n",
    "ax[0].annotate(\"COVID\", (550, 0.35))\n",
    "ax[0].annotate(\"Great Recession\", (750, 0.10), alpha=0.5)\n",
    "ax[0].annotate(\"Normal times\", (1000, 0.24), color=\"Green\", alpha=0.75)\n",
    "\n",
    "fig.tight_layout()\n"
   ]
  }
 ],
 "metadata": {
  "celltoolbar": "Slideshow",
  "kernelspec": {
   "display_name": "Python 3 (ipykernel)",
   "language": "python",
   "name": "python3"
  },
  "language_info": {
   "codemirror_mode": {
    "name": "ipython",
    "version": 3
   },
   "file_extension": ".py",
   "mimetype": "text/x-python",
   "name": "python",
   "nbconvert_exporter": "python",
   "pygments_lexer": "ipython3",
   "version": "3.9.7"
  }
 },
 "nbformat": 4,
 "nbformat_minor": 4
}
