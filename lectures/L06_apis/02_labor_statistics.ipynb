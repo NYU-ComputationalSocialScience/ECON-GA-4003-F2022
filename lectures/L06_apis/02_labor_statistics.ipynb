{
 "cells": [
  {
   "cell_type": "markdown",
   "metadata": {
    "slideshow": {
     "slide_type": "slide"
    }
   },
   "source": [
    "# Labor Statistics\n"
   ]
  },
  {
   "cell_type": "markdown",
   "metadata": {
    "slideshow": {
     "slide_type": "slide"
    }
   },
   "source": [
    "## Current Population Survey\n",
    "\n",
    "The [Current Population Survey](https://en.wikipedia.org/wiki/Current_Population_Survey) (CPS) is one of the oldest, largest, and most well-recognized surveys in the United States.\n",
    "\n",
    "* A version of this survey has been administered since the late 1930s\n",
    "* The data is used for many major demographic and economic reports\n",
    "* Considered reliable at the state level and for the 12 largest metropolitan statistical areas\n",
    "* Administered to ~60,000 households per month with an average response rate of ~90%"
   ]
  },
  {
   "cell_type": "markdown",
   "metadata": {
    "slideshow": {
     "slide_type": "subslide"
    }
   },
   "source": [
    "### CPS: How is it administered?\n",
    "\n",
    "One of the strengths of the CPS is it's panel nature:\n",
    "\n",
    "* When a household is selected for the CPS, they are interviewed for 4 consecutive months\n",
    "* The household is then interviewed for 4 consecutive months again 8 months later\n",
    "\n",
    "Consider an example:\n",
    "\n",
    "Imagine you were selected for the CPS with your first interview starting in February 2020, then you are interviewed in February 2020, March 2020, April 2020, May 2020, February 2021, March 2021, April 2021, and May 2021.\n",
    "\n",
    "Details on their methodology can be found [online](https://www.census.gov/programs-surveys/cps/technical-documentation/methodology.html)"
   ]
  },
  {
   "cell_type": "markdown",
   "metadata": {
    "slideshow": {
     "slide_type": "subslide"
    }
   },
   "source": [
    "### CPS: What is asked?\n",
    "\n",
    "The CPS collects lots of information on demographics and labor status:\n",
    "\n",
    "* Number of people in the household? Sex? Age? Race? Relationship between each person?\n",
    "* Working? Full-time or part-time? Hourly pay? Hours worked?\n",
    "* Looking for work? How? Why?\n",
    "* Retired?\n",
    "* Disabilities?\n",
    "\n",
    "You can find their exact questionaires [online](https://www.census.gov/programs-surveys/cps/technical-documentation/questionnaires.html)"
   ]
  },
  {
   "cell_type": "markdown",
   "metadata": {
    "slideshow": {
     "slide_type": "subslide"
    }
   },
   "source": [
    "### CPS: Who uses it?\n",
    "\n",
    "* Government organizations: Bureau of Labor Statistics (BLS) issues a jobs report once a month based on these numbers\n",
    "* Researchers: Anyone can access the microdata behind the CPS and use it for their own research"
   ]
  },
  {
   "cell_type": "markdown",
   "metadata": {
    "slideshow": {
     "slide_type": "slide"
    }
   },
   "source": [
    "## Labor Statistics:\n",
    "\n",
    "Below are definitions for common terms in labor statistics:"
   ]
  },
  {
   "cell_type": "markdown",
   "metadata": {
    "slideshow": {
     "slide_type": "-"
    }
   },
   "source": [
    "* **Employed**: Individual who did any work at all as a paid employee, worked in their own business or profession, worked on their own farm, worked 15 or more hours as unpaid workers in a family member's business, or were temporarily absent from their jobs or businesses.\n",
    "  * (Usually) **Part-time**: Individual who usually works less than 35 hours per week (at all jobs combined)\n",
    "  * (Usually) **Full-time**: Individual who usually works 35 or more hours per week (at all jobs combined)\n",
    "* **Unemployed**: Individual who is not employed, was available to work, AND made an active effort to find employment sometime during the 4-week period ending with the survey reference week.\n",
    "* **Labor force**: The sum of employed and unemployed individuals\n",
    "* **Unemployment rate**: The number of unemployed people as a percentage of the labor force\n",
    "* **Not in the labor force**: An individual (aged 16 or older) who was neither employed nor unemployed.\n",
    "\n",
    "Can find more detail in the [BLS documentation](https://www.bls.gov/opub/hom/cps/pdf/cps.pdf)"
   ]
  },
  {
   "cell_type": "markdown",
   "metadata": {
    "slideshow": {
     "slide_type": "subslide"
    }
   },
   "source": [
    "### Transition Rates"
   ]
  },
  {
   "cell_type": "markdown",
   "metadata": {
    "slideshow": {
     "slide_type": "-"
    }
   },
   "source": [
    "One key statistic that people often analyze are the transition rates between different states of employment:\n",
    "\n",
    "* *EE*: The fraction of people who were employed during the current month and in the previous month\n",
    "* *EU*: The fraction of people who were unemployed during the current month and employed in the previous month\n",
    "* *UE*: The fraction of people who were employed during the current month and unemployed in the previous month\n",
    "* *UU*: The fraction of people who were unemployed during the current month and in the previous month\n",
    "\n",
    "Note, `EE + EU + UE + UU = 1` if we hold the labor force constant"
   ]
  },
  {
   "cell_type": "markdown",
   "metadata": {
    "slideshow": {
     "slide_type": "subslide"
    }
   },
   "source": [
    "### What drives unemployment levels?"
   ]
  },
  {
   "cell_type": "markdown",
   "metadata": {
    "slideshow": {
     "slide_type": "-"
    }
   },
   "source": [
    "**Two possible ways to increase unemployment**\n",
    "\n",
    "1. A decrease in UE\n",
    "2. An increase in EU\n",
    "\n",
    "In the back of your mind, we'd like you to think about which of these channels will have a larger effect on unemployment levels. We will ask you to investigate this formally next class."
   ]
  },
  {
   "cell_type": "markdown",
   "metadata": {
    "slideshow": {
     "slide_type": "subslide"
    }
   },
   "source": [
    "### Great Recession vs COVID-19\n",
    "\n",
    "We will use this class to explore how the changes in the transition rates changed during two periods of economic turbulence in the United States."
   ]
  }
 ],
 "metadata": {
  "celltoolbar": "Slideshow",
  "kernelspec": {
   "display_name": "Python 3",
   "language": "python",
   "name": "python3"
  },
  "language_info": {
   "codemirror_mode": {
    "name": "ipython",
    "version": 3
   },
   "file_extension": ".py",
   "mimetype": "text/x-python",
   "name": "python",
   "nbconvert_exporter": "python",
   "pygments_lexer": "ipython3",
   "version": "3.8.3"
  }
 },
 "nbformat": 4,
 "nbformat_minor": 4
}
