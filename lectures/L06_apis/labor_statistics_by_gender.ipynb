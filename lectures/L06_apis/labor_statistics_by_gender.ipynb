{
 "cells": [
  {
   "cell_type": "code",
   "execution_count": null,
   "metadata": {},
   "outputs": [],
   "source": [
    "import matplotlib.pyplot as plt\n",
    "import numpy as np\n",
    "import pandas as pd\n",
    "\n",
    "%matplotlib inline"
   ]
  },
  {
   "cell_type": "markdown",
   "metadata": {},
   "source": [
    "## Load data"
   ]
  },
  {
   "cell_type": "code",
   "execution_count": null,
   "metadata": {},
   "outputs": [],
   "source": [
    "data = pd.read_parquet(\"bls_data.parquet\")\n",
    "metadata = pd.read_parquet(\"bls_metadata.parquet\")\n"
   ]
  },
  {
   "cell_type": "code",
   "execution_count": null,
   "metadata": {},
   "outputs": [],
   "source": [
    "metadata[\"cps_labor_force_status\"].unique()"
   ]
  },
  {
   "cell_type": "code",
   "execution_count": null,
   "metadata": {},
   "outputs": [],
   "source": [
    "data[\"value\"] = pd.to_numeric(data[\"value\"])\n",
    "\n",
    "data[\"dt\"] = pd.to_datetime(\n",
    "    data.apply(lambda x: f\"1 {x['periodName']} {x['year']}\", axis=1)\n",
    ")\n",
    "\n",
    "# Drop unneeded date info\n",
    "data = data.drop(\n",
    "    [\"year\", \"periodName\", \"period\"], axis=1\n",
    ").sort_values(\n",
    "    [\"series_id\", \"dt\"]\n",
    ")[[\"series_id\", \"dt\", \"value\"]]\n",
    "\n",
    "lfs_status = {\n",
    "    \"Employed\": \"employed\",\n",
    "    \"Unemployed\": \"unemployed\",\n",
    "    \"Not in labor force\": \"nilf\",\n",
    "    \"Labor Force Flows Employed to Employed\": \"ee\",\n",
    "    \"Labor Force Flows Employed to Unemployed\": \"eu\",\n",
    "    \"Labor Force Flows Unemployed to Employed\": \"ue\",\n",
    "    \"Labor Force Flows Unemployed to Unemployed\": \"uu\",               \n",
    "}\n",
    "\n",
    "metadata = metadata.replace({\"cps_labor_force_status\": lfs_status})\n",
    "\n",
    "and_filters = [\n",
    "    \"(commerce_industry == 'All Industries')\",\n",
    "    \"(occupation == 'All Occupations')\",\n",
    "    \"(seasonality == 'Not Seasonally Adjusted')\",\n",
    "    \"(demographic_race == 'All Races')\",\n",
    "]\n",
    "\n",
    "metadata_lf = metadata.query(\n",
    "    \"&\".join(and_filters)\n",
    ").loc[metadata[\"cps_labor_force_status\"].isin(lfs_status.values()), :]\n",
    "\n",
    "df = pd.merge(\n",
    "    data, metadata_lf[[\"series_id\", \"cps_labor_force_status\", \"demographic_gender\"]],\n",
    "    on=\"series_id\", how=\"right\"\n",
    ").rename(\n",
    "    columns={\"cps_labor_force_status\": \"variable\"}\n",
    ")[[\"variable\", \"demographic_gender\", \"dt\", \"value\"]]\n",
    "\n",
    "df = df.pivot_table(\n",
    "    index=[\"dt\", \"variable\"], columns=\"demographic_gender\", values=\"value\"\n",
    ").rename(\n",
    "    columns={\"Both Sexes\": \"all\", \"Men\": \"men\", \"Women\": \"women\"}\n",
    ").reset_index()\n"
   ]
  },
  {
   "cell_type": "markdown",
   "metadata": {},
   "source": [
    "## Filter function from `v4_bls_exploration`"
   ]
  },
  {
   "cell_type": "code",
   "execution_count": null,
   "metadata": {},
   "outputs": [],
   "source": [
    "def filter_days_from(data, start_date, ndays=3*365):\n",
    "    \"\"\"\n",
    "    Creates a history of data starting at a particular date and running\n",
    "    forward for `ndays` days.\n",
    "    \n",
    "    Parameters\n",
    "    ----------\n",
    "    data : pd.DataFrame\n",
    "        A DataFrame with relevant data that we'd like to consider\n",
    "        starting from a particular date. Must have a column `dt` with\n",
    "        datetime data\n",
    "    start_date : str or datetime\n",
    "        The moment we would like our history to start\n",
    "    ndays : int\n",
    "        The number of days that we would like to keep in our history\n",
    "    \n",
    "    Returns\n",
    "    -------\n",
    "    out : pd.DataFrame\n",
    "        A copy of `data` with only data from `start_date` to\n",
    "        `start_date + f'{ndays} days'` and a new column that counts\n",
    "        the number of days since `start_date`\n",
    "    \"\"\"\n",
    "    # Determine number of days from certain date\n",
    "    days_from = (data[\"dt\"] - pd.to_datetime(start_date)).dt.days\n",
    "    \n",
    "    # Check for >=0 days and <ndays\n",
    "    dates_to_keep = (days_from >= 0) & (days_from < ndays)\n",
    "    \n",
    "    # Create copy of DataFrame that we'll use as the return\n",
    "    out = data.copy()\n",
    "    out[\"days_from\"] = days_from\n",
    "    out = out.loc[dates_to_keep, :]\n",
    "\n",
    "    return out.reset_index(drop=True)"
   ]
  },
  {
   "cell_type": "markdown",
   "metadata": {},
   "source": [
    "## Put data in the right shape"
   ]
  },
  {
   "cell_type": "code",
   "execution_count": null,
   "metadata": {},
   "outputs": [],
   "source": [
    "def clean_and_pivot_data(df):\n",
    "    foo = df.pivot(index=\"days_from\", columns=\"variable\", values=\"value\")\n",
    "    foo[\"eu\"] = foo.eval(\"eu / employed\")\n",
    "    foo[\"ue\"] = foo.eval(\"ue / unemployed\")\n",
    "    \n",
    "    return foo.loc[:, [\"eu\", \"ue\"]]\n",
    "\n",
    "def split_by_sex(df):\n",
    "    df_bs = clean_and_pivot_data(\n",
    "        df.loc[:, [\"days_from\", \"dt\", \"variable\", \"all\"]].rename(\n",
    "            columns={\"all\": \"value\"}\n",
    "        )\n",
    "    )\n",
    "    df_m = clean_and_pivot_data(\n",
    "        df.loc[:, [\"days_from\", \"dt\", \"variable\", \"men\"]].rename(\n",
    "            columns={\"men\": \"value\"}\n",
    "        )\n",
    "    )\n",
    "    df_w = clean_and_pivot_data(\n",
    "        df.loc[:, [\"days_from\", \"dt\", \"variable\", \"women\"]].rename(\n",
    "            columns={\"women\": \"value\"}\n",
    "        )\n",
    "    )\n",
    "    \n",
    "    return df_bs, df_m, df_w"
   ]
  },
  {
   "cell_type": "code",
   "execution_count": null,
   "metadata": {},
   "outputs": [],
   "source": [
    "df_covid = filter_days_from(\n",
    "    df, \"2019-03-01\", 5*365\n",
    ")\n",
    "\n",
    "df_covid_bs, df_covid_m, df_covid_w = split_by_sex(df_covid)\n",
    "\n",
    "df_gr = filter_days_from(\n",
    "    df, \"2007-02-01\", 5*365\n",
    ")\n",
    "\n",
    "df_gr_bs, df_gr_m, df_gr_w = split_by_sex(df_gr)"
   ]
  },
  {
   "cell_type": "code",
   "execution_count": null,
   "metadata": {},
   "outputs": [],
   "source": [
    "df_covid.query(\n",
    "    \"variable == 'employed' | variable == 'unemployed'\"\n",
    ").loc[\n",
    "    :, [\"dt\", \"variable\", \"all\"]\n",
    "].pivot_table(\n",
    "    index=\"dt\", columns=\"variable\", values=\"all\"\n",
    ").sum(axis=1)"
   ]
  },
  {
   "cell_type": "markdown",
   "metadata": {},
   "source": [
    "## Make plots"
   ]
  },
  {
   "cell_type": "code",
   "execution_count": null,
   "metadata": {},
   "outputs": [],
   "source": [
    "mcolor = \"#138bb0\"\n",
    "wcolor = \"#c10ac4\"\n"
   ]
  },
  {
   "cell_type": "code",
   "execution_count": null,
   "metadata": {},
   "outputs": [],
   "source": [
    "fig, ax = plt.subplots(2, 1, figsize=(10, 8), sharex=True)\n",
    "\n",
    "df_covid_bs.plot(\n",
    "    y=\"eu\", ax=ax[0],\n",
    "    color=\"k\", linestyle=\"--\", linewidth=1.0, legend=False\n",
    ")\n",
    "df_covid_m.plot(\n",
    "    y=\"eu\", ax=ax[0],\n",
    "    color=mcolor, linestyle=\"-\", linewidth=2.0, legend=False\n",
    ")\n",
    "df_covid_w.plot(\n",
    "    y=\"eu\", ax=ax[0],\n",
    "    color=wcolor, linestyle=\"-\", linewidth=2.0, legend=False\n",
    ")\n",
    "\n",
    "df_covid_bs.plot(\n",
    "    y=\"ue\", ax=ax[1],\n",
    "    color=\"k\", linestyle=\"--\", linewidth=1.0, legend=False\n",
    ")\n",
    "df_covid_m.plot(\n",
    "    y=\"ue\", ax=ax[1],\n",
    "    color=mcolor, linestyle=\"-\", linewidth=2.0, legend=False\n",
    ")\n",
    "df_covid_w.plot(\n",
    "    y=\"ue\", ax=ax[1],\n",
    "    color=wcolor, linestyle=\"-\", linewidth=2.0, legend=False\n",
    ")\n",
    "\n",
    "\n",
    "ax[0].set_title(\"EU Transition Rate\")\n",
    "ax[1].set_title(\"UE Transition Rate\")\n",
    "ax[1].set_xlabel(\"Days since one year before trough\")\n",
    "ax[1].set_ylabel(\"People in thousands\")\n",
    "\n",
    "for _ax in ax:\n",
    "    _ax.spines[\"right\"].set_visible(False)\n",
    "    _ax.spines[\"top\"].set_visible(False)\n",
    "    _ax.set_facecolor((0.975, 0.975, 0.975))\n",
    "\n",
    "fig.set_facecolor((0.975, 0.975, 0.975))\n",
    "    \n",
    "ax[0].annotate(\"Men\", (410, 0.02), color=mcolor, size=12)\n",
    "ax[0].annotate(\"Women\", (410, 0.12), color=wcolor, size=12)\n",
    "\n",
    "ax[0].set_ylim(0.0, 0.15)\n",
    "ax[1].set_ylim(0.0, 0.5)\n",
    "\n",
    "fig.tight_layout()"
   ]
  },
  {
   "cell_type": "code",
   "execution_count": null,
   "metadata": {},
   "outputs": [],
   "source": [
    "fig, ax = plt.subplots(2, 1, figsize=(10, 8), sharex=True)\n",
    "\n",
    "df_gr_bs.plot(\n",
    "    y=\"eu\", ax=ax[0],\n",
    "    color=\"k\", linestyle=\"--\", linewidth=1.0, legend=False\n",
    ")\n",
    "df_gr_m.plot(\n",
    "    y=\"eu\", ax=ax[0],\n",
    "    color=mcolor, linestyle=\"-\", linewidth=2.0, legend=False\n",
    ")\n",
    "df_gr_w.plot(\n",
    "    y=\"eu\", ax=ax[0],\n",
    "    color=wcolor, linestyle=\"-\", linewidth=2.0, legend=False\n",
    ")\n",
    "\n",
    "df_gr_bs.plot(\n",
    "    y=\"ue\", ax=ax[1],\n",
    "    color=\"k\", linestyle=\"--\", linewidth=1.0, legend=False\n",
    ")\n",
    "df_gr_m.plot(\n",
    "    y=\"ue\", ax=ax[1],\n",
    "    color=mcolor, linestyle=\"-\", linewidth=2.0, legend=False\n",
    ")\n",
    "df_gr_w.plot(\n",
    "    y=\"ue\", ax=ax[1],\n",
    "    color=wcolor, linestyle=\"-\", linewidth=2.0, legend=False\n",
    ")\n",
    "\n",
    "\n",
    "ax[0].set_title(\"EU Transition Rate\")\n",
    "ax[1].set_title(\"UE Transition Rate\")\n",
    "ax[1].set_xlabel(\"Days since one year before trough\")\n",
    "ax[1].set_ylabel(\"People in thousands\")\n",
    "\n",
    "for _ax in ax:\n",
    "    _ax.spines[\"right\"].set_visible(False)\n",
    "    _ax.spines[\"top\"].set_visible(False)\n",
    "    _ax.set_facecolor((0.975, 0.975, 0.975))\n",
    "\n",
    "fig.set_facecolor((0.975, 0.975, 0.975))\n",
    "    \n",
    "ax[0].annotate(\"Men\", (1000, 0.04), color=mcolor, size=12)\n",
    "ax[0].annotate(\"Women\", (225, 0.03), color=wcolor, size=12)\n",
    "\n",
    "ax[0].set_ylim(0.0, 0.15)\n",
    "ax[1].set_ylim(0.0, 0.5)\n",
    "\n",
    "fig.tight_layout()"
   ]
  },
  {
   "cell_type": "markdown",
   "metadata": {},
   "source": [
    "## More graphs"
   ]
  },
  {
   "cell_type": "code",
   "execution_count": null,
   "metadata": {},
   "outputs": [],
   "source": [
    "df_covid.query(\n",
    "    \"variable == 'employed'\"\n",
    ").reset_index(\n",
    "    drop=True\n",
    ").set_index(\n",
    "    \"days_from\"\n",
    ").loc[\n",
    "    :, [\"all\", \"men\", \"women\"]\n",
    "].diff().cumsum().plot()"
   ]
  }
 ],
 "metadata": {
  "kernelspec": {
   "display_name": "Python 3 (ipykernel)",
   "language": "python",
   "name": "python3"
  },
  "language_info": {
   "codemirror_mode": {
    "name": "ipython",
    "version": 3
   },
   "file_extension": ".py",
   "mimetype": "text/x-python",
   "name": "python",
   "nbconvert_exporter": "python",
   "pygments_lexer": "ipython3",
   "version": "3.9.7"
  }
 },
 "nbformat": 4,
 "nbformat_minor": 4
}
