{
 "cells": [
  {
   "cell_type": "markdown",
   "metadata": {
    "slideshow": {
     "slide_type": "slide"
    }
   },
   "source": [
    "# Storage Formats\n",
    "\n",
    "**Prerequisites**\n",
    "\n",
    "- [Intro to DataFrames and Series](../p01_pandas_intro/v01_pandas_intro.ipynb)\n",
    "\n",
    "\n",
    "**Outcomes**\n",
    "\n",
    "- Understand that data can be saved in various formats  \n",
    "- Know where to get help on file input and output  \n",
    "- Know when to use csv, xlsx, feather, and sql formats  \n",
    "\n",
    "\n",
    "**Data**\n",
    "\n",
    "- Results for all NFL games between September 1920 to February 2017  "
   ]
  },
  {
   "cell_type": "markdown",
   "metadata": {
    "slideshow": {
     "slide_type": "subslide"
    }
   },
   "source": [
    "## Outline\n",
    "\n",
    "- [Storage Formats](#Storage-Formats)  \n",
    "  - [File Formats](#File-Formats)  \n",
    "  - [Writing DataFrames](#Writing-DataFrames)  \n",
    "  - [Reading Files into DataFrames](#Reading-Files-into-DataFrames)  \n",
    "  - [Practice](#Practice)  "
   ]
  },
  {
   "cell_type": "code",
   "execution_count": null,
   "metadata": {
    "hide-output": false
   },
   "outputs": [],
   "source": [
    "# Uncomment following line to install on colab\n",
    "#! pip install qeds"
   ]
  },
  {
   "cell_type": "code",
   "execution_count": null,
   "metadata": {
    "hide-output": false
   },
   "outputs": [],
   "source": [
    "import pandas as pd\n",
    "import numpy as np"
   ]
  },
  {
   "cell_type": "markdown",
   "metadata": {
    "slideshow": {
     "slide_type": "slide"
    }
   },
   "source": [
    "## File Formats\n",
    "\n",
    "Data can be saved in a variety of formats\n",
    "\n",
    "pandas understands how to write and read DataFrames to and from many of\n",
    "these formats\n",
    "\n",
    "We defer to the [official\n",
    "documentation](https://pandas.pydata.org/pandas-docs/stable/io.html)\n",
    "for a full description of how to interact with all the file formats, but\n",
    "will briefly discuss a few of them here"
   ]
  },
  {
   "cell_type": "markdown",
   "metadata": {
    "slideshow": {
     "slide_type": "slide"
    }
   },
   "source": [
    "## CSV\n",
    "\n",
    "**What is it?** CSVs store data as plain text (strings) where each row is a\n",
    "line and columns are separated by `,`"
   ]
  },
  {
   "cell_type": "markdown",
   "metadata": {
    "slideshow": {
     "slide_type": "subslide"
    }
   },
   "source": [
    "### CSV: Pros\n",
    "\n",
    "- Widely used (you should be familiar with it)  \n",
    "- Plain text file (can open on any computer, “future proof”)  \n",
    "- Can be read from and written to by most data software  "
   ]
  },
  {
   "cell_type": "markdown",
   "metadata": {
    "slideshow": {
     "slide_type": "subslide"
    }
   },
   "source": [
    "### CSV: Cons\n",
    "\n",
    "- Not the most efficient way to store or access  \n",
    "- No formal standard, so there is room for user interpretation on how to\n",
    "  handle edge cases (e.g. what to do about a data field that itself includes\n",
    "  a comma)  "
   ]
  },
  {
   "cell_type": "markdown",
   "metadata": {
    "slideshow": {
     "slide_type": "subslide"
    }
   },
   "source": [
    "### CSV: When to use\n",
    "\n",
    "- A great default option for most use cases  "
   ]
  },
  {
   "cell_type": "markdown",
   "metadata": {
    "slideshow": {
     "slide_type": "slide"
    }
   },
   "source": [
    "## xlsx\n",
    "\n",
    "**What is it?** xlsx is a binary file format used as Excel’s default.\n"
   ]
  },
  {
   "cell_type": "markdown",
   "metadata": {
    "slideshow": {
     "slide_type": "subslide"
    }
   },
   "source": [
    "### xlsx: Pros\n",
    "\n",
    "- Standard format in many industries  \n",
    "- Easy to share with colleagues that use Excel  "
   ]
  },
  {
   "cell_type": "markdown",
   "metadata": {
    "slideshow": {
     "slide_type": "subslide"
    }
   },
   "source": [
    "### xlsx: Cons\n",
    "\n",
    "- Quite slow to read/write large amounts of data  \n",
    "- Stores both data and *metadata* like styling and display information\n",
    "  and even plots. This metadata is not always portable to other file formats\n",
    "  or programs.  \n",
    "- Non-human readable"
   ]
  },
  {
   "cell_type": "markdown",
   "metadata": {
    "slideshow": {
     "slide_type": "subslide"
    }
   },
   "source": [
    "### xlsx: When to use\n",
    "\n",
    "**When to use**:\n",
    "\n",
    "- When sharing data with Excel  \n",
    "- When you would like special formatting to be applied to the\n",
    "  spreadsheet when viewed in Excel  "
   ]
  },
  {
   "cell_type": "markdown",
   "metadata": {
    "slideshow": {
     "slide_type": "slide"
    }
   },
   "source": [
    "## Parquet\n",
    "\n",
    "**What is it?** Parquet is a custom binary format designed for efficient reading and\n",
    "writing of data stored in columns."
   ]
  },
  {
   "cell_type": "markdown",
   "metadata": {
    "slideshow": {
     "slide_type": "subslide"
    }
   },
   "source": [
    "### Parquet: pros\n",
    "\n",
    "- *Very* fast  \n",
    "- Naturally understands all `dtypes` used by pandas, including\n",
    "  multi-index DataFrames  \n",
    "- Very common in “big data” systems like Hadoop or Spark  \n",
    "- Supports various compression algorithms  "
   ]
  },
  {
   "cell_type": "markdown",
   "metadata": {
    "slideshow": {
     "slide_type": "subslide"
    }
   },
   "source": [
    "### Parquet: Cons\n",
    "\n",
    "- Binary storage format that is not human-readable  "
   ]
  },
  {
   "cell_type": "markdown",
   "metadata": {
    "slideshow": {
     "slide_type": "subslide"
    }
   },
   "source": [
    "### Parquet: When to use\n",
    "\n",
    "- If you have “not small” amounts (> 100 MB) of unchanging data that\n",
    "  you want to read quickly  \n",
    "- If you want to store data in an size-and-time-efficient way that may\n",
    "  be accessed by external systems  "
   ]
  },
  {
   "cell_type": "markdown",
   "metadata": {
    "slideshow": {
     "slide_type": "slide"
    }
   },
   "source": [
    "## Feather\n",
    "\n",
    "**What is it?** Feather is a custom binary format designed for efficient reading and\n",
    "writing of data stored in columns."
   ]
  },
  {
   "cell_type": "markdown",
   "metadata": {
    "slideshow": {
     "slide_type": "subslide"
    }
   },
   "source": [
    "### Feather: Pros\n",
    "\n",
    "- *Very* fast – even faster than parquet  \n",
    "- Naturally understands all `dtypes` used by pandas  "
   ]
  },
  {
   "cell_type": "markdown",
   "metadata": {
    "slideshow": {
     "slide_type": "subslide"
    }
   },
   "source": [
    "### Feather: Cons\n",
    "\n",
    "- Can only read and write from Python and a handful of other\n",
    "  programming languages  \n",
    "- New file format (introduced in March ‘16), so most files don’t come\n",
    "  in this format  \n",
    "- Only supports standard pandas index, so you need to `reset_index`\n",
    "  before saving and then `set_index` after loading  "
   ]
  },
  {
   "cell_type": "markdown",
   "metadata": {
    "slideshow": {
     "slide_type": "subslide"
    }
   },
   "source": [
    "### Feather: When to use\n",
    "\n",
    "- Use as an alternative to Parquet if you need the absolute best read and write\n",
    "  speeds for unchanging datasets  \n",
    "- Only use when you will not need to access the data in a programming language\n",
    "  or software outside of Python, R, and Julia  "
   ]
  },
  {
   "cell_type": "markdown",
   "metadata": {
    "slideshow": {
     "slide_type": "slide"
    }
   },
   "source": [
    "## SQL\n",
    "\n",
    "**What is it?** SQL is a language used to interact with relational\n",
    "databases… [more info](https://en.wikipedia.org/wiki/SQL)"
   ]
  },
  {
   "cell_type": "markdown",
   "metadata": {
    "slideshow": {
     "slide_type": "subslide"
    }
   },
   "source": [
    "### SQL: Pros\n",
    "\n",
    "- Well established industry standard for handling data  \n",
    "- Much of the world’s data is in a SQL database somewhere  "
   ]
  },
  {
   "cell_type": "markdown",
   "metadata": {
    "slideshow": {
     "slide_type": "subslide"
    }
   },
   "source": [
    "### SQL: Cons\n",
    "\n",
    "- Complicated: to have full control you need to learn another language\n",
    "  (SQL)  "
   ]
  },
  {
   "cell_type": "markdown",
   "metadata": {
    "slideshow": {
     "slide_type": "subslide"
    }
   },
   "source": [
    "### SQL: When to use\n",
    "\n",
    "- When reading from or writing to existing SQL databases  \n",
    "\n",
    "\n",
    "**NOTE**: We will likely cover interacting with SQL databases in a later lecture"
   ]
  },
  {
   "cell_type": "markdown",
   "metadata": {
    "slideshow": {
     "slide_type": "slide"
    }
   },
   "source": [
    "## JSON\n",
    "\n",
    "TODO: check what the S means, might just be \"script\"\n",
    "\n",
    "**What is is?** JSON is an acronym for \"Javascript serialized object notation\". It is a very common way to store data, especially when interacting with web services.\n",
    "\n",
    "Data is stored almost how we would write a Python `dict` by hand using `{` and `}` to provide  key, value pairs"
   ]
  },
  {
   "cell_type": "markdown",
   "metadata": {
    "slideshow": {
     "slide_type": "subslide"
    }
   },
   "source": [
    "### JSON: Pros\n",
    "\n",
    "- Very commonly used when interacting with websites and web apis\n",
    "- Maps naturally into a Python dict\n",
    "- Human readable\n",
    "- Can store non-tabular data (each record or row can have different keys)"
   ]
  },
  {
   "cell_type": "markdown",
   "metadata": {
    "slideshow": {
     "slide_type": "subslide"
    }
   },
   "source": [
    "### JSON: Cons\n",
    "\n",
    "- Relatively inefficient when stored as an array of records (must repeat column names for every row)\n",
    "- Non-binary, so can be slow to read and write\n",
    "- Ambiguous for how to represent certain data (array of records, record of arrays by column, record of arrays by row, etc.)"
   ]
  },
  {
   "cell_type": "markdown",
   "metadata": {
    "slideshow": {
     "slide_type": "subslide"
    }
   },
   "source": [
    "### JSON: When to use\n",
    "\n",
    "- When recieving data from or preparing data for web APIs\n",
    "- When you want to store relatively small amounts of non or semi-structured data"
   ]
  },
  {
   "cell_type": "markdown",
   "metadata": {
    "slideshow": {
     "slide_type": "slide"
    }
   },
   "source": [
    "## Writing DataFrames\n",
    "\n",
    "Let’s now talk about saving a DataFrame to a file.\n",
    "\n",
    "**Rule of thumb**: To save `df` to a file of type `FOO` use `df.to_FOO`\n",
    "\n",
    "We'll test this out for a few of the data formats above using some artificial data"
   ]
  },
  {
   "cell_type": "markdown",
   "metadata": {
    "slideshow": {
     "slide_type": "subslide"
    }
   },
   "source": [
    "**Note**: by default `df2` will be approximately 10 MB. You can change this by adjusting `wanted_mb` in the cell below"
   ]
  },
  {
   "cell_type": "code",
   "execution_count": null,
   "metadata": {
    "hide-output": false,
    "tags": []
   },
   "outputs": [],
   "source": [
    "np.random.seed(42)  # makes sure we get the same random numbers each time\n",
    "df1 = pd.DataFrame(\n",
    "    np.random.randint(0, 100, size=(10, 4)),\n",
    "    columns=[\"a\", \"b\", \"c\", \"d\"]\n",
    ")\n",
    "\n",
    "wanted_mb = 10  # CHANGE THIS LINE\n",
    "nrow = 100000\n",
    "ncol = int(((wanted_mb * 1024**2) / 8) / nrow)\n",
    "df2 = pd.DataFrame(\n",
    "    np.random.rand(nrow, ncol),\n",
    "    columns=[\"x{}\".format(i) for i in range(ncol)]\n",
    ")\n",
    "\n",
    "print(\"df2.shape = \", df2.shape)\n",
    "print(\"df2 is approximately {} MB\".format(df2.memory_usage().sum() / (1024**2)))"
   ]
  },
  {
   "cell_type": "markdown",
   "metadata": {
    "slideshow": {
     "slide_type": "slide"
    }
   },
   "source": [
    "### [df.to_csv](https://pandas.pydata.org/pandas-docs/stable/generated/pandas.DataFrame.to_csv.html)\n",
    "\n",
    "Let’s start with `df.to_csv`\n",
    "\n",
    "Without any additional arguments, the `df.to_csv` function will return\n",
    "a string containing the csv form of the DataFrame:"
   ]
  },
  {
   "cell_type": "code",
   "execution_count": null,
   "metadata": {
    "hide-output": false,
    "tags": []
   },
   "outputs": [],
   "source": [
    "# notice the plain text format -- one row per line, columns separated by `'`\n",
    "print(df1.to_csv())"
   ]
  },
  {
   "cell_type": "markdown",
   "metadata": {
    "slideshow": {
     "slide_type": "subslide"
    }
   },
   "source": [
    "If we do pass an argument, the first argument will be used as the file name."
   ]
  },
  {
   "cell_type": "code",
   "execution_count": null,
   "metadata": {
    "hide-output": false
   },
   "outputs": [],
   "source": [
    "df1.to_csv(\"df1.csv\")"
   ]
  },
  {
   "cell_type": "markdown",
   "metadata": {
    "slideshow": {
     "slide_type": "subslide"
    }
   },
   "source": [
    "Run the cell below to verify that the file was created."
   ]
  },
  {
   "cell_type": "code",
   "execution_count": null,
   "metadata": {
    "hide-output": false
   },
   "outputs": [],
   "source": [
    "import os\n",
    "os.path.isfile(\"df1.csv\")"
   ]
  },
  {
   "cell_type": "markdown",
   "metadata": {
    "slideshow": {
     "slide_type": "subslide"
    }
   },
   "source": [
    "Let’s see how long it takes to save `df2` to a file. (Because of the `%%time` at\n",
    "the top, Jupyter will report the total time to run all code in\n",
    "the cell)"
   ]
  },
  {
   "cell_type": "code",
   "execution_count": null,
   "metadata": {
    "hide-output": false,
    "tags": []
   },
   "outputs": [],
   "source": [
    "%%time\n",
    "df2.to_csv(\"df2.csv\")"
   ]
  },
  {
   "cell_type": "markdown",
   "metadata": {
    "slideshow": {
     "slide_type": "fragment"
    }
   },
   "source": [
    "As we will see below, this isn’t as fastest file format we could choose."
   ]
  },
  {
   "cell_type": "markdown",
   "metadata": {
    "slideshow": {
     "slide_type": "slide"
    }
   },
   "source": [
    "### [df.to_excel](https://pandas.pydata.org/pandas-docs/stable/generated/pandas.DataFrame.to_excel.html)\n",
    "\n",
    "The `df.to_excel` method writes a DataFrame to an excel workbook\n",
    "\n",
    "The first argument is the name of the file\n",
    "\n",
    "The second argument is the name of the sheet in that file (this is optional, and is `Sheet1` by default)"
   ]
  },
  {
   "cell_type": "code",
   "execution_count": null,
   "metadata": {
    "hide-output": false
   },
   "outputs": [],
   "source": [
    "df1.to_excel(\"df1.xlsx\", \"df1\")"
   ]
  },
  {
   "cell_type": "markdown",
   "metadata": {
    "slideshow": {
     "slide_type": "subslide"
    }
   },
   "source": [
    "We can write multiple DataFrames to a single workbook, eacn in a different sheet\n",
    "\n",
    "To do this we use `pd.ExcelWriter(filename)` and then pass the returned object instead of a file name to `df.to_excel`:"
   ]
  },
  {
   "cell_type": "code",
   "execution_count": null,
   "metadata": {
    "hide-output": false
   },
   "outputs": [],
   "source": [
    "with pd.ExcelWriter(\"df1.xlsx\") as writer:\n",
    "    df1.to_excel(writer, \"df1\")\n",
    "    (df1 + 10).to_excel(writer, \"df1 plus 10\")"
   ]
  },
  {
   "cell_type": "markdown",
   "metadata": {
    "slideshow": {
     "slide_type": "subslide"
    }
   },
   "source": [
    "The\n",
    "\n",
    "```python\n",
    "with ... as ... :\n",
    "```\n",
    "\n",
    "syntax used above is an example of a *context manager*"
   ]
  },
  {
   "cell_type": "markdown",
   "metadata": {
    "slideshow": {
     "slide_type": "subslide"
    }
   },
   "source": [
    "We don’t need to understand all the details behind what this means\n",
    "(google it if you are curious)\n",
    "\n",
    "For our purposes we used it so that Python could:\n",
    "\n",
    "1. create the `df1.xlsx` file\n",
    "2. Ensure that the file remains open while pandas writes the two DataFrames\n",
    "3. Close the file when finished to finalize storing data"
   ]
  },
  {
   "cell_type": "markdown",
   "metadata": {
    "slideshow": {
     "slide_type": "subslide"
    }
   },
   "source": [
    "<p style=\"color:red;\">\n",
    "\n",
    "WARNING:\n",
    "\n",
    "</p>\n",
    "\n",
    "Saving `df2` to an excel file takes a very long time.\n",
    "\n",
    "For that reason, we will just show the code and hard-code the output\n",
    "we saw when we ran the code."
   ]
  },
  {
   "cell_type": "code",
   "execution_count": null,
   "metadata": {
    "hide-output": false,
    "tags": []
   },
   "outputs": [],
   "source": [
    "%%time\n",
    "df2.to_excel(\"df2.xlsx\")"
   ]
  },
  {
   "cell_type": "markdown",
   "metadata": {
    "hide-output": false
   },
   "source": [
    "```python\n",
    " Wall time: 25.7 s\n",
    "```\n"
   ]
  },
  {
   "cell_type": "markdown",
   "metadata": {
    "slideshow": {
     "slide_type": "slide"
    }
   },
   "source": [
    "### [pyarrow.feather.write_feather](https://arrow.apache.org/docs/python/generated/pyarrow.feather.write_feather.html#pyarrow.feather.write_feather)\n",
    "\n",
    "As noted above, the feather file format was developed for very efficient\n",
    "reading and writing between Python and your computer\n",
    "\n",
    "Support for this format is provided by a separate Python package called `pyarrow`\n",
    "\n",
    "This package is not installed by default\n",
    "\n",
    "If you do not have it, but would like to install `pyarrow`, uncomment and execute the cell below"
   ]
  },
  {
   "cell_type": "code",
   "execution_count": null,
   "metadata": {
    "hide-output": false
   },
   "outputs": [],
   "source": [
    "# %pip install pyarrow"
   ]
  },
  {
   "cell_type": "markdown",
   "metadata": {
    "slideshow": {
     "slide_type": "subslide"
    }
   },
   "source": [
    "The parameters for `pyarrow.feather.write_feather` are the DataFrame and file name\n",
    "\n",
    "Let’s try it out"
   ]
  },
  {
   "cell_type": "code",
   "execution_count": null,
   "metadata": {
    "hide-output": false
   },
   "outputs": [],
   "source": [
    "import pyarrow.feather\n",
    "pyarrow.feather.write_feather(df1, \"df1.feather\")"
   ]
  },
  {
   "cell_type": "code",
   "execution_count": null,
   "metadata": {
    "hide-output": false,
    "tags": []
   },
   "outputs": [],
   "source": [
    "%%time\n",
    "pyarrow.feather.write_feather(df2, \"df2.feather\")"
   ]
  },
  {
   "cell_type": "markdown",
   "metadata": {
    "slideshow": {
     "slide_type": "subslide"
    }
   },
   "source": [
    "An example timing result:\n",
    "\n",
    "|format|time|\n",
    "|:---------:|:----------------------:|\n",
    "|csv|2.66 seconds|\n",
    "|xlsx|25.7 seconds|\n",
    "|feather|43 milliseconds|\n",
    "\n",
    "As you can see, saving this DataFrame in the feather format was far\n",
    "faster than either CSV or Excel."
   ]
  },
  {
   "cell_type": "markdown",
   "metadata": {
    "slideshow": {
     "slide_type": "slide"
    }
   },
   "source": [
    "## Reading Files into DataFrames\n",
    "\n",
    "As with the `df.to_FOO` family of methods, there are similar\n",
    "`pd.read_FOO` functions. (Note: they are in defined pandas, not as\n",
    "methods on a DataFrame.)\n",
    "\n",
    "These methods have many more options because data storage can be messy or wrong"
   ]
  },
  {
   "cell_type": "markdown",
   "metadata": {
    "slideshow": {
     "slide_type": "subslide"
    }
   },
   "source": [
    "We will explore these in more detail in a separate lecture\n",
    "\n",
    "For now, we just want to highlight the differences in how to read data\n",
    "from each of the file formats\n",
    "\n",
    "Let’s start by reading the files we just created to verify that they\n",
    "match the data we began with"
   ]
  },
  {
   "cell_type": "code",
   "execution_count": null,
   "metadata": {
    "hide-output": false,
    "slideshow": {
     "slide_type": "subslide"
    }
   },
   "outputs": [],
   "source": [
    "# notice that index was specified in the first (0th -- why?) column of the file\n",
    "df1_csv = pd.read_csv(\"df1.csv\", index_col=0)\n",
    "df1_csv.head()"
   ]
  },
  {
   "cell_type": "code",
   "execution_count": null,
   "metadata": {
    "hide-output": false,
    "slideshow": {
     "slide_type": "subslide"
    }
   },
   "outputs": [],
   "source": [
    "df1_xlsx = pd.read_excel(\"df1.xlsx\", \"df1\", index_col=0)\n",
    "df1_xlsx.head()"
   ]
  },
  {
   "cell_type": "code",
   "execution_count": null,
   "metadata": {
    "hide-output": false,
    "slideshow": {
     "slide_type": "subslide"
    }
   },
   "outputs": [],
   "source": [
    "# notice feather already knows what the index is\n",
    "df1_feather = pyarrow.feather.read_feather(\"df1.feather\")\n",
    "df1_feather.head()"
   ]
  },
  {
   "cell_type": "markdown",
   "metadata": {
    "slideshow": {
     "slide_type": "subslide"
    }
   },
   "source": [
    "`pd.read_FOO`functions can read files stored online\n",
    "\n",
    "To do this, we pass a URL as the first argument:"
   ]
  },
  {
   "cell_type": "code",
   "execution_count": null,
   "metadata": {
    "hide-output": false
   },
   "outputs": [],
   "source": [
    "df1_url = \"https://storage.googleapis.com/workshop_materials/df1.csv\"\n",
    "df1_web = pd.read_csv(df1_url, index_col=0)\n",
    "df1_web.head()"
   ]
  },
  {
   "cell_type": "markdown",
   "metadata": {
    "slideshow": {
     "slide_type": "slide"
    }
   },
   "source": [
    "## Practice\n",
    "\n",
    "Now it’s your turn…"
   ]
  },
  {
   "cell_type": "markdown",
   "metadata": {
    "slideshow": {
     "slide_type": "subslide"
    }
   },
   "source": [
    "In the cell below, the variable `url` contains a web address to a csv\n",
    "file containing the result of all NFL games from September 1920 to\n",
    "February 2017\n",
    "\n",
    "Your task is to do the following:\n",
    "\n",
    "- Use `pd.read_csv` to read this file into a DataFrame named `nfl`  \n",
    "- Print the shape and column names of `nfl`  \n",
    "- Save the DataFrame to a file named `nfl.xlsx`  \n",
    "- Open the spreadsheet using Excel on your computer  "
   ]
  },
  {
   "cell_type": "markdown",
   "metadata": {
    "slideshow": {
     "slide_type": "subslide"
    }
   },
   "source": [
    "If you finish quickly, do some basic analysis of the data. Try to do\n",
    "something interesting. If you get stuck, here are some suggestions for\n",
    "what to try:\n",
    "\n",
    "- Compute the average total points in each game (note, you will need to\n",
    "  sum two of the columns to get total points).  \n",
    "- Repeat the above calculation, but only for playoff games.  \n",
    "- Compute the average score for your favorite team (you’ll need to\n",
    "  consider when they were team1 vs team2).  \n",
    "- Compute the ratio of “upsets” to total games played. An upset is\n",
    "  defined as a team with a lower ELO winning the game.  "
   ]
  },
  {
   "cell_type": "code",
   "execution_count": null,
   "metadata": {
    "hide-output": false
   },
   "outputs": [],
   "source": [
    "url = \"https://raw.githubusercontent.com/fivethirtyeight/nfl-elo-game/\"\n",
    "url = url + \"3488b7d0b46c5f6583679bc40fb3a42d729abd39/data/nfl_games.csv\"\n",
    "\n",
    "# your code here --- create more cells if necessary"
   ]
  },
  {
   "cell_type": "markdown",
   "metadata": {
    "slideshow": {
     "slide_type": "slide"
    }
   },
   "source": [
    "### Cleanup\n",
    "\n",
    "If you want to remove the files we just created, run the following cell."
   ]
  },
  {
   "cell_type": "code",
   "execution_count": null,
   "metadata": {
    "hide-output": false
   },
   "outputs": [],
   "source": [
    "def try_remove(file):\n",
    "    if os.path.isfile(file):\n",
    "        os.remove(file)\n",
    "\n",
    "for df in [\"df1\", \"df2\"]:\n",
    "    for extension in [\"csv\", \"feather\", \"xlsx\"]:\n",
    "        filename = df + \".\" + extension\n",
    "        try_remove(filename)"
   ]
  },
  {
   "cell_type": "code",
   "execution_count": null,
   "metadata": {},
   "outputs": [],
   "source": []
  }
 ],
 "metadata": {
  "celltoolbar": "Slideshow",
  "filename": "storage_formats.rst",
  "kernelspec": {
   "display_name": "Python 3 (ipykernel)",
   "language": "python",
   "name": "python3"
  },
  "language_info": {
   "codemirror_mode": {
    "name": "ipython",
    "version": 3
   },
   "file_extension": ".py",
   "mimetype": "text/x-python",
   "name": "python",
   "nbconvert_exporter": "python",
   "pygments_lexer": "ipython3",
   "version": "3.9.7"
  },
  "title": "Storage Formats"
 },
 "nbformat": 4,
 "nbformat_minor": 4
}
