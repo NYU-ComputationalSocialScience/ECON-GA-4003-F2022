{
 "cells": [
  {
   "cell_type": "code",
   "execution_count": null,
   "id": "7d2762b1",
   "metadata": {},
   "outputs": [],
   "source": [
    "import pandas as pd"
   ]
  },
  {
   "cell_type": "markdown",
   "id": "29146704",
   "metadata": {},
   "source": [
    "**Non-unique index**"
   ]
  },
  {
   "cell_type": "code",
   "execution_count": null,
   "id": "d41c2348",
   "metadata": {},
   "outputs": [],
   "source": [
    "df = pd.DataFrame(\n",
    "    index=[0, 0, 2, 4, 5, 8, 15],\n",
    "    data={\n",
    "        \"abcs\": [\"a\", \"b\", \"c\", \"d\", \"e\", \"f\", \"g\"],\n",
    "        \"123s\": [0, 1, 2, 3, 4, 5, 6]\n",
    "    }\n",
    ")"
   ]
  },
  {
   "cell_type": "code",
   "execution_count": null,
   "id": "0f257040",
   "metadata": {},
   "outputs": [],
   "source": [
    "df"
   ]
  },
  {
   "cell_type": "code",
   "execution_count": null,
   "id": "8d25bfe4",
   "metadata": {},
   "outputs": [],
   "source": [
    "df.loc[0, :]"
   ]
  },
  {
   "cell_type": "code",
   "execution_count": null,
   "id": "1ce9db49",
   "metadata": {},
   "outputs": [],
   "source": [
    "df.loc[2, :]"
   ]
  },
  {
   "cell_type": "code",
   "execution_count": null,
   "id": "fa03a031",
   "metadata": {},
   "outputs": [],
   "source": [
    "df.index.duplicated().any()"
   ]
  },
  {
   "cell_type": "code",
   "execution_count": null,
   "id": "23a8279d",
   "metadata": {},
   "outputs": [],
   "source": [
    "df.index.duplicated?"
   ]
  },
  {
   "cell_type": "code",
   "execution_count": null,
   "id": "acaf45e3",
   "metadata": {},
   "outputs": [],
   "source": [
    "df.loc[~df.index.duplicated(), :]"
   ]
  },
  {
   "cell_type": "code",
   "execution_count": null,
   "id": "a0f23b61",
   "metadata": {},
   "outputs": [],
   "source": []
  },
  {
   "cell_type": "markdown",
   "id": "cdca80a9",
   "metadata": {},
   "source": [
    "**Non-unique columns?** (Can't do)"
   ]
  },
  {
   "cell_type": "code",
   "execution_count": null,
   "id": "777f23d1",
   "metadata": {},
   "outputs": [],
   "source": [
    "df = pd.DataFrame(\n",
    "    index=[0, 0, 1, 2, 3, 4, 5],\n",
    "    data={\n",
    "        \"abcs\": [\"a\", \"b\", \"c\", \"d\", \"e\", \"f\", \"g\"],\n",
    "        \"123s\": [0, 1, 2, 3, 4, 5, 6],\n",
    "        \"abcs\": [\"aa\", \"bb\", \"cc\", \"dd\", \"ee\", \"ff\", \"gg\"],\n",
    "    }\n",
    ")"
   ]
  },
  {
   "cell_type": "code",
   "execution_count": null,
   "id": "e91ec587",
   "metadata": {},
   "outputs": [],
   "source": [
    "df"
   ]
  },
  {
   "cell_type": "code",
   "execution_count": null,
   "id": "da9d1aed",
   "metadata": {},
   "outputs": [],
   "source": []
  }
 ],
 "metadata": {
  "kernelspec": {
   "display_name": "Python 3 (ipykernel)",
   "language": "python",
   "name": "python3"
  },
  "language_info": {
   "codemirror_mode": {
    "name": "ipython",
    "version": 3
   },
   "file_extension": ".py",
   "mimetype": "text/x-python",
   "name": "python",
   "nbconvert_exporter": "python",
   "pygments_lexer": "ipython3",
   "version": "3.8.13"
  }
 },
 "nbformat": 4,
 "nbformat_minor": 5
}
