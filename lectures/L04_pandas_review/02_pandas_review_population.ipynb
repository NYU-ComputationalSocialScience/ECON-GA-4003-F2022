{
 "cells": [
  {
   "cell_type": "markdown",
   "metadata": {
    "slideshow": {
     "slide_type": "slide"
    }
   },
   "source": [
    "# Pandas Review: UN Population Data\n",
    "\n",
    "**Attribution**: _This notebook is based on a notebook created by Dave Backus, Chase Coleman, Brian LeBlanc, and Spencer Lyon for the NYU Stern Data Bootcamp course_"
   ]
  },
  {
   "cell_type": "code",
   "execution_count": 2,
   "metadata": {
    "slideshow": {
     "slide_type": "-"
    }
   },
   "outputs": [],
   "source": [
    "import matplotlib.pyplot as plt\n",
    "import pandas as pd\n",
    "\n",
    "from urllib.parse import urljoin\n",
    "\n",
    "%matplotlib inline"
   ]
  },
  {
   "cell_type": "markdown",
   "metadata": {
    "slideshow": {
     "slide_type": "slide"
    }
   },
   "source": [
    "## UN Population Data\n",
    "\n",
    "We will look at the UN's [population data](http://esa.un.org/unpd/wpp/Download/Standard/Population/). In this notebook, we will focus specifically the age distribution of the population.\n"
   ]
  },
  {
   "cell_type": "markdown",
   "metadata": {
    "slideshow": {
     "slide_type": "-"
    }
   },
   "source": [
    "### Projection Variants\n",
    "\n",
    "The population numbers for a particular year are reported as corresopnding to 1 July 2020. There will be two types of population numbers that we discuss:\n",
    "\n",
    "* *estimates*: Estimates of the population at a point in the past\n",
    "* *projections*: Forecasts of what the population might be for a given year\n",
    "\n",
    "Furthermore, the UN will provide various versions of the projections using different modeling assumptions. We will consider three of their population models:\n",
    "\n",
    "1. *Low variant*: Assumes a low fertility with normal mortality and normal migration.\n",
    "2. *Medium variant*: Assumes a medium fertility with normal mortality and normal migration.\n",
    "3. *High variant*: Assumes a high fertility with normal mortality and normal migration"
   ]
  },
  {
   "cell_type": "markdown",
   "metadata": {
    "slideshow": {
     "slide_type": "subslide"
    }
   },
   "source": [
    "### Loading the data \n",
    "\n",
    "We start, as usual, by loading the data.  This will take a minute because the file is about 10 MB in size."
   ]
  },
  {
   "cell_type": "code",
   "execution_count": 3,
   "metadata": {
    "slideshow": {
     "slide_type": "-"
    }
   },
   "outputs": [],
   "source": [
    "un_base_url = \"https://population.un.org/\"\n",
    "path_to_file = \"wpp/Download/Files/1_Indicators%20(Standard)/EXCEL_FILES/2_Population/\"\n",
    "filename = (\"WPP2022_POP_F02_1_POPULATION_5-YEAR_AGE_GROUPS_BOTH_SEXES.xlsx\")\n",
    "\n",
    "url = urljoin(un_base_url, path_to_file+filename)"
   ]
  },
  {
   "cell_type": "code",
   "execution_count": 4,
   "metadata": {
    "slideshow": {
     "slide_type": "-"
    }
   },
   "outputs": [],
   "source": [
    "cols_to_read = [\n",
    "    \"Variant\", \"Region, subregion, country or area *\", \"Location code\",\n",
    "    \"Type\", \"Year\"\n",
    "]\n",
    "\n",
    "age_cols = [f\"{5*i}-{5*i+4}\" for i in range(20)]\n",
    "age_cols.append(\"100+\")\n",
    "\n",
    "cols_to_read.extend(age_cols)\n",
    "\n",
    "sheets = pd.read_excel(\n",
    "    url, sheet_name=[\"Estimates\", \"Low variant\", \"Medium variant\", \"High variant\"],\n",
    "    skiprows=16, usecols=cols_to_read, na_values=[\"...\"]\n",
    ")\n",
    "\n",
    "est = sheets[\"Estimates\"]\n",
    "low_proj = sheets[\"Low variant\"]\n",
    "med_proj = sheets[\"Medium variant\"]\n",
    "hgh_proj = sheets[\"High variant\"]\n",
    "\n",
    "# Combine all of the datasets into one\n",
    "df = pd.concat([est, low_proj, med_proj, hgh_proj], axis=0, ignore_index=True)"
   ]
  },
  {
   "cell_type": "markdown",
   "metadata": {
    "slideshow": {
     "slide_type": "subslide"
    }
   },
   "source": [
    "What does our data contain?\n"
   ]
  },
  {
   "cell_type": "code",
   "execution_count": 5,
   "metadata": {
    "slideshow": {
     "slide_type": "-"
    }
   },
   "outputs": [
    {
     "data": {
      "text/html": [
       "<div>\n",
       "<style scoped>\n",
       "    .dataframe tbody tr th:only-of-type {\n",
       "        vertical-align: middle;\n",
       "    }\n",
       "\n",
       "    .dataframe tbody tr th {\n",
       "        vertical-align: top;\n",
       "    }\n",
       "\n",
       "    .dataframe thead th {\n",
       "        text-align: right;\n",
       "    }\n",
       "</style>\n",
       "<table border=\"1\" class=\"dataframe\">\n",
       "  <thead>\n",
       "    <tr style=\"text-align: right;\">\n",
       "      <th></th>\n",
       "      <th>Variant</th>\n",
       "      <th>Region, subregion, country or area *</th>\n",
       "      <th>Location code</th>\n",
       "      <th>Type</th>\n",
       "      <th>Year</th>\n",
       "      <th>0-4</th>\n",
       "      <th>5-9</th>\n",
       "      <th>10-14</th>\n",
       "      <th>15-19</th>\n",
       "      <th>20-24</th>\n",
       "      <th>...</th>\n",
       "      <th>55-59</th>\n",
       "      <th>60-64</th>\n",
       "      <th>65-69</th>\n",
       "      <th>70-74</th>\n",
       "      <th>75-79</th>\n",
       "      <th>80-84</th>\n",
       "      <th>85-89</th>\n",
       "      <th>90-94</th>\n",
       "      <th>95-99</th>\n",
       "      <th>100+</th>\n",
       "    </tr>\n",
       "  </thead>\n",
       "  <tbody>\n",
       "    <tr>\n",
       "      <th>0</th>\n",
       "      <td>Estimates</td>\n",
       "      <td>WORLD</td>\n",
       "      <td>900</td>\n",
       "      <td>World</td>\n",
       "      <td>1950.0</td>\n",
       "      <td>341876.7950</td>\n",
       "      <td>267730.5835</td>\n",
       "      <td>258080.8680</td>\n",
       "      <td>237173.3670</td>\n",
       "      <td>220115.6645</td>\n",
       "      <td>...</td>\n",
       "      <td>85393.6340</td>\n",
       "      <td>70796.6355</td>\n",
       "      <td>53122.9840</td>\n",
       "      <td>36652.5500</td>\n",
       "      <td>22440.7090</td>\n",
       "      <td>10870.4940</td>\n",
       "      <td>3977.1190</td>\n",
       "      <td>969.3095</td>\n",
       "      <td>159.9325</td>\n",
       "      <td>14.4690</td>\n",
       "    </tr>\n",
       "    <tr>\n",
       "      <th>1</th>\n",
       "      <td>Estimates</td>\n",
       "      <td>WORLD</td>\n",
       "      <td>900</td>\n",
       "      <td>World</td>\n",
       "      <td>1951.0</td>\n",
       "      <td>356600.7580</td>\n",
       "      <td>271480.9885</td>\n",
       "      <td>259191.6295</td>\n",
       "      <td>240517.5250</td>\n",
       "      <td>223052.4080</td>\n",
       "      <td>...</td>\n",
       "      <td>87045.7935</td>\n",
       "      <td>71417.9795</td>\n",
       "      <td>53923.7740</td>\n",
       "      <td>37034.4615</td>\n",
       "      <td>22701.1225</td>\n",
       "      <td>10913.2255</td>\n",
       "      <td>3958.6660</td>\n",
       "      <td>966.8275</td>\n",
       "      <td>147.4660</td>\n",
       "      <td>15.6710</td>\n",
       "    </tr>\n",
       "    <tr>\n",
       "      <th>2</th>\n",
       "      <td>Estimates</td>\n",
       "      <td>WORLD</td>\n",
       "      <td>900</td>\n",
       "      <td>World</td>\n",
       "      <td>1952.0</td>\n",
       "      <td>370486.8310</td>\n",
       "      <td>278772.1345</td>\n",
       "      <td>259555.3610</td>\n",
       "      <td>244720.1870</td>\n",
       "      <td>225200.6470</td>\n",
       "      <td>...</td>\n",
       "      <td>89000.4945</td>\n",
       "      <td>71930.1680</td>\n",
       "      <td>54969.3695</td>\n",
       "      <td>37521.5325</td>\n",
       "      <td>22937.1710</td>\n",
       "      <td>11036.6195</td>\n",
       "      <td>3956.9670</td>\n",
       "      <td>966.5605</td>\n",
       "      <td>144.5635</td>\n",
       "      <td>16.1695</td>\n",
       "    </tr>\n",
       "    <tr>\n",
       "      <th>3</th>\n",
       "      <td>Estimates</td>\n",
       "      <td>WORLD</td>\n",
       "      <td>900</td>\n",
       "      <td>World</td>\n",
       "      <td>1953.0</td>\n",
       "      <td>384395.5565</td>\n",
       "      <td>288553.0855</td>\n",
       "      <td>259638.1515</td>\n",
       "      <td>248515.4415</td>\n",
       "      <td>226814.9770</td>\n",
       "      <td>...</td>\n",
       "      <td>91230.9570</td>\n",
       "      <td>72475.1835</td>\n",
       "      <td>56236.3750</td>\n",
       "      <td>38144.8960</td>\n",
       "      <td>23140.1195</td>\n",
       "      <td>11245.7490</td>\n",
       "      <td>3973.4965</td>\n",
       "      <td>972.5360</td>\n",
       "      <td>144.1590</td>\n",
       "      <td>16.0480</td>\n",
       "    </tr>\n",
       "    <tr>\n",
       "      <th>4</th>\n",
       "      <td>Estimates</td>\n",
       "      <td>WORLD</td>\n",
       "      <td>900</td>\n",
       "      <td>World</td>\n",
       "      <td>1954.0</td>\n",
       "      <td>396316.3890</td>\n",
       "      <td>301220.4095</td>\n",
       "      <td>260539.1030</td>\n",
       "      <td>251193.7310</td>\n",
       "      <td>228855.5790</td>\n",
       "      <td>...</td>\n",
       "      <td>93357.6225</td>\n",
       "      <td>73358.0965</td>\n",
       "      <td>57461.3020</td>\n",
       "      <td>38867.1490</td>\n",
       "      <td>23379.9635</td>\n",
       "      <td>11452.1330</td>\n",
       "      <td>4021.7115</td>\n",
       "      <td>982.4180</td>\n",
       "      <td>145.4270</td>\n",
       "      <td>15.4260</td>\n",
       "    </tr>\n",
       "  </tbody>\n",
       "</table>\n",
       "<p>5 rows × 26 columns</p>\n",
       "</div>"
      ],
      "text/plain": [
       "     Variant Region, subregion, country or area *  Location code   Type  \\\n",
       "0  Estimates                                WORLD            900  World   \n",
       "1  Estimates                                WORLD            900  World   \n",
       "2  Estimates                                WORLD            900  World   \n",
       "3  Estimates                                WORLD            900  World   \n",
       "4  Estimates                                WORLD            900  World   \n",
       "\n",
       "     Year          0-4          5-9        10-14        15-19        20-24  \\\n",
       "0  1950.0  341876.7950  267730.5835  258080.8680  237173.3670  220115.6645   \n",
       "1  1951.0  356600.7580  271480.9885  259191.6295  240517.5250  223052.4080   \n",
       "2  1952.0  370486.8310  278772.1345  259555.3610  244720.1870  225200.6470   \n",
       "3  1953.0  384395.5565  288553.0855  259638.1515  248515.4415  226814.9770   \n",
       "4  1954.0  396316.3890  301220.4095  260539.1030  251193.7310  228855.5790   \n",
       "\n",
       "   ...       55-59       60-64       65-69       70-74       75-79  \\\n",
       "0  ...  85393.6340  70796.6355  53122.9840  36652.5500  22440.7090   \n",
       "1  ...  87045.7935  71417.9795  53923.7740  37034.4615  22701.1225   \n",
       "2  ...  89000.4945  71930.1680  54969.3695  37521.5325  22937.1710   \n",
       "3  ...  91230.9570  72475.1835  56236.3750  38144.8960  23140.1195   \n",
       "4  ...  93357.6225  73358.0965  57461.3020  38867.1490  23379.9635   \n",
       "\n",
       "        80-84      85-89     90-94     95-99     100+  \n",
       "0  10870.4940  3977.1190  969.3095  159.9325  14.4690  \n",
       "1  10913.2255  3958.6660  966.8275  147.4660  15.6710  \n",
       "2  11036.6195  3956.9670  966.5605  144.5635  16.1695  \n",
       "3  11245.7490  3973.4965  972.5360  144.1590  16.0480  \n",
       "4  11452.1330  4021.7115  982.4180  145.4270  15.4260  \n",
       "\n",
       "[5 rows x 26 columns]"
      ]
     },
     "execution_count": 5,
     "metadata": {},
     "output_type": "execute_result"
    }
   ],
   "source": [
    "df.head()"
   ]
  },
  {
   "cell_type": "code",
   "execution_count": 6,
   "metadata": {
    "slideshow": {
     "slide_type": "-"
    }
   },
   "outputs": [
    {
     "name": "stdout",
     "output_type": "stream",
     "text": [
      "Dimensions and dtypes of estimates:\n",
      "(88081, 26)\n",
      "Variant                                  object\n",
      "Region, subregion, country or area *     object\n",
      "Location code                             int64\n",
      "Type                                     object\n",
      "Year                                    float64\n",
      "0-4                                     float64\n",
      "5-9                                     float64\n",
      "10-14                                   float64\n",
      "15-19                                   float64\n",
      "20-24                                   float64\n",
      "25-29                                   float64\n",
      "30-34                                   float64\n",
      "35-39                                   float64\n",
      "40-44                                   float64\n",
      "45-49                                   float64\n",
      "50-54                                   float64\n",
      "55-59                                   float64\n",
      "60-64                                   float64\n",
      "65-69                                   float64\n",
      "70-74                                   float64\n",
      "75-79                                   float64\n",
      "80-84                                   float64\n",
      "85-89                                   float64\n",
      "90-94                                   float64\n",
      "95-99                                   float64\n",
      "100+                                    float64\n",
      "dtype: object\n"
     ]
    }
   ],
   "source": [
    "print(\"Dimensions and dtypes of estimates:\")\n",
    "print(df.shape)\n",
    "print(df.dtypes)"
   ]
  },
  {
   "cell_type": "markdown",
   "metadata": {
    "slideshow": {
     "slide_type": "slide"
    }
   },
   "source": [
    "### Clean data\n",
    "\n",
    "The first step to using this data is to make sure that the data is clean."
   ]
  },
  {
   "cell_type": "code",
   "execution_count": 7,
   "metadata": {
    "slideshow": {
     "slide_type": "-"
    }
   },
   "outputs": [
    {
     "data": {
      "text/html": [
       "<div>\n",
       "<style scoped>\n",
       "    .dataframe tbody tr th:only-of-type {\n",
       "        vertical-align: middle;\n",
       "    }\n",
       "\n",
       "    .dataframe tbody tr th {\n",
       "        vertical-align: top;\n",
       "    }\n",
       "\n",
       "    .dataframe thead th {\n",
       "        text-align: right;\n",
       "    }\n",
       "</style>\n",
       "<table border=\"1\" class=\"dataframe\">\n",
       "  <thead>\n",
       "    <tr style=\"text-align: right;\">\n",
       "      <th></th>\n",
       "      <th>Variant</th>\n",
       "      <th>Region, subregion, country or area *</th>\n",
       "      <th>Location code</th>\n",
       "      <th>Type</th>\n",
       "      <th>Year</th>\n",
       "      <th>0-4</th>\n",
       "      <th>5-9</th>\n",
       "      <th>10-14</th>\n",
       "      <th>15-19</th>\n",
       "      <th>20-24</th>\n",
       "      <th>...</th>\n",
       "      <th>55-59</th>\n",
       "      <th>60-64</th>\n",
       "      <th>65-69</th>\n",
       "      <th>70-74</th>\n",
       "      <th>75-79</th>\n",
       "      <th>80-84</th>\n",
       "      <th>85-89</th>\n",
       "      <th>90-94</th>\n",
       "      <th>95-99</th>\n",
       "      <th>100+</th>\n",
       "    </tr>\n",
       "  </thead>\n",
       "  <tbody>\n",
       "    <tr>\n",
       "      <th>0</th>\n",
       "      <td>Estimates</td>\n",
       "      <td>WORLD</td>\n",
       "      <td>900</td>\n",
       "      <td>World</td>\n",
       "      <td>1950.0</td>\n",
       "      <td>341876.7950</td>\n",
       "      <td>267730.5835</td>\n",
       "      <td>258080.8680</td>\n",
       "      <td>237173.3670</td>\n",
       "      <td>220115.6645</td>\n",
       "      <td>...</td>\n",
       "      <td>85393.6340</td>\n",
       "      <td>70796.6355</td>\n",
       "      <td>53122.9840</td>\n",
       "      <td>36652.5500</td>\n",
       "      <td>22440.7090</td>\n",
       "      <td>10870.4940</td>\n",
       "      <td>3977.1190</td>\n",
       "      <td>969.3095</td>\n",
       "      <td>159.9325</td>\n",
       "      <td>14.4690</td>\n",
       "    </tr>\n",
       "    <tr>\n",
       "      <th>1</th>\n",
       "      <td>Estimates</td>\n",
       "      <td>WORLD</td>\n",
       "      <td>900</td>\n",
       "      <td>World</td>\n",
       "      <td>1951.0</td>\n",
       "      <td>356600.7580</td>\n",
       "      <td>271480.9885</td>\n",
       "      <td>259191.6295</td>\n",
       "      <td>240517.5250</td>\n",
       "      <td>223052.4080</td>\n",
       "      <td>...</td>\n",
       "      <td>87045.7935</td>\n",
       "      <td>71417.9795</td>\n",
       "      <td>53923.7740</td>\n",
       "      <td>37034.4615</td>\n",
       "      <td>22701.1225</td>\n",
       "      <td>10913.2255</td>\n",
       "      <td>3958.6660</td>\n",
       "      <td>966.8275</td>\n",
       "      <td>147.4660</td>\n",
       "      <td>15.6710</td>\n",
       "    </tr>\n",
       "    <tr>\n",
       "      <th>2</th>\n",
       "      <td>Estimates</td>\n",
       "      <td>WORLD</td>\n",
       "      <td>900</td>\n",
       "      <td>World</td>\n",
       "      <td>1952.0</td>\n",
       "      <td>370486.8310</td>\n",
       "      <td>278772.1345</td>\n",
       "      <td>259555.3610</td>\n",
       "      <td>244720.1870</td>\n",
       "      <td>225200.6470</td>\n",
       "      <td>...</td>\n",
       "      <td>89000.4945</td>\n",
       "      <td>71930.1680</td>\n",
       "      <td>54969.3695</td>\n",
       "      <td>37521.5325</td>\n",
       "      <td>22937.1710</td>\n",
       "      <td>11036.6195</td>\n",
       "      <td>3956.9670</td>\n",
       "      <td>966.5605</td>\n",
       "      <td>144.5635</td>\n",
       "      <td>16.1695</td>\n",
       "    </tr>\n",
       "    <tr>\n",
       "      <th>3</th>\n",
       "      <td>Estimates</td>\n",
       "      <td>WORLD</td>\n",
       "      <td>900</td>\n",
       "      <td>World</td>\n",
       "      <td>1953.0</td>\n",
       "      <td>384395.5565</td>\n",
       "      <td>288553.0855</td>\n",
       "      <td>259638.1515</td>\n",
       "      <td>248515.4415</td>\n",
       "      <td>226814.9770</td>\n",
       "      <td>...</td>\n",
       "      <td>91230.9570</td>\n",
       "      <td>72475.1835</td>\n",
       "      <td>56236.3750</td>\n",
       "      <td>38144.8960</td>\n",
       "      <td>23140.1195</td>\n",
       "      <td>11245.7490</td>\n",
       "      <td>3973.4965</td>\n",
       "      <td>972.5360</td>\n",
       "      <td>144.1590</td>\n",
       "      <td>16.0480</td>\n",
       "    </tr>\n",
       "    <tr>\n",
       "      <th>4</th>\n",
       "      <td>Estimates</td>\n",
       "      <td>WORLD</td>\n",
       "      <td>900</td>\n",
       "      <td>World</td>\n",
       "      <td>1954.0</td>\n",
       "      <td>396316.3890</td>\n",
       "      <td>301220.4095</td>\n",
       "      <td>260539.1030</td>\n",
       "      <td>251193.7310</td>\n",
       "      <td>228855.5790</td>\n",
       "      <td>...</td>\n",
       "      <td>93357.6225</td>\n",
       "      <td>73358.0965</td>\n",
       "      <td>57461.3020</td>\n",
       "      <td>38867.1490</td>\n",
       "      <td>23379.9635</td>\n",
       "      <td>11452.1330</td>\n",
       "      <td>4021.7115</td>\n",
       "      <td>982.4180</td>\n",
       "      <td>145.4270</td>\n",
       "      <td>15.4260</td>\n",
       "    </tr>\n",
       "  </tbody>\n",
       "</table>\n",
       "<p>5 rows × 26 columns</p>\n",
       "</div>"
      ],
      "text/plain": [
       "     Variant Region, subregion, country or area *  Location code   Type  \\\n",
       "0  Estimates                                WORLD            900  World   \n",
       "1  Estimates                                WORLD            900  World   \n",
       "2  Estimates                                WORLD            900  World   \n",
       "3  Estimates                                WORLD            900  World   \n",
       "4  Estimates                                WORLD            900  World   \n",
       "\n",
       "     Year          0-4          5-9        10-14        15-19        20-24  \\\n",
       "0  1950.0  341876.7950  267730.5835  258080.8680  237173.3670  220115.6645   \n",
       "1  1951.0  356600.7580  271480.9885  259191.6295  240517.5250  223052.4080   \n",
       "2  1952.0  370486.8310  278772.1345  259555.3610  244720.1870  225200.6470   \n",
       "3  1953.0  384395.5565  288553.0855  259638.1515  248515.4415  226814.9770   \n",
       "4  1954.0  396316.3890  301220.4095  260539.1030  251193.7310  228855.5790   \n",
       "\n",
       "   ...       55-59       60-64       65-69       70-74       75-79  \\\n",
       "0  ...  85393.6340  70796.6355  53122.9840  36652.5500  22440.7090   \n",
       "1  ...  87045.7935  71417.9795  53923.7740  37034.4615  22701.1225   \n",
       "2  ...  89000.4945  71930.1680  54969.3695  37521.5325  22937.1710   \n",
       "3  ...  91230.9570  72475.1835  56236.3750  38144.8960  23140.1195   \n",
       "4  ...  93357.6225  73358.0965  57461.3020  38867.1490  23379.9635   \n",
       "\n",
       "        80-84      85-89     90-94     95-99     100+  \n",
       "0  10870.4940  3977.1190  969.3095  159.9325  14.4690  \n",
       "1  10913.2255  3958.6660  966.8275  147.4660  15.6710  \n",
       "2  11036.6195  3956.9670  966.5605  144.5635  16.1695  \n",
       "3  11245.7490  3973.4965  972.5360  144.1590  16.0480  \n",
       "4  11452.1330  4021.7115  982.4180  145.4270  15.4260  \n",
       "\n",
       "[5 rows x 26 columns]"
      ]
     },
     "execution_count": 7,
     "metadata": {},
     "output_type": "execute_result"
    }
   ],
   "source": [
    "df.head()"
   ]
  },
  {
   "cell_type": "markdown",
   "metadata": {
    "slideshow": {
     "slide_type": "subslide"
    }
   },
   "source": [
    "**Geography types**\n",
    "\n",
    "There are currently many different geography types including `World`, `Label/Separator`, `Development Group`, `Income Group`, ..., and `Country/Area`.\n",
    "\n",
    "For what we're going to do today, we're going to focus on country level information."
   ]
  },
  {
   "cell_type": "code",
   "execution_count": 8,
   "metadata": {
    "slideshow": {
     "slide_type": "-"
    }
   },
   "outputs": [
    {
     "data": {
      "text/html": [
       "<div>\n",
       "<style scoped>\n",
       "    .dataframe tbody tr th:only-of-type {\n",
       "        vertical-align: middle;\n",
       "    }\n",
       "\n",
       "    .dataframe tbody tr th {\n",
       "        vertical-align: top;\n",
       "    }\n",
       "\n",
       "    .dataframe thead th {\n",
       "        text-align: right;\n",
       "    }\n",
       "</style>\n",
       "<table border=\"1\" class=\"dataframe\">\n",
       "  <thead>\n",
       "    <tr style=\"text-align: right;\">\n",
       "      <th></th>\n",
       "      <th>Variant</th>\n",
       "      <th>Region, subregion, country or area *</th>\n",
       "      <th>Location code</th>\n",
       "      <th>Type</th>\n",
       "      <th>Year</th>\n",
       "      <th>0-4</th>\n",
       "      <th>5-9</th>\n",
       "      <th>10-14</th>\n",
       "      <th>15-19</th>\n",
       "      <th>20-24</th>\n",
       "      <th>...</th>\n",
       "      <th>55-59</th>\n",
       "      <th>60-64</th>\n",
       "      <th>65-69</th>\n",
       "      <th>70-74</th>\n",
       "      <th>75-79</th>\n",
       "      <th>80-84</th>\n",
       "      <th>85-89</th>\n",
       "      <th>90-94</th>\n",
       "      <th>95-99</th>\n",
       "      <th>100+</th>\n",
       "    </tr>\n",
       "  </thead>\n",
       "  <tbody>\n",
       "    <tr>\n",
       "      <th>1732</th>\n",
       "      <td>Estimates</td>\n",
       "      <td>Burundi</td>\n",
       "      <td>108</td>\n",
       "      <td>Country/Area</td>\n",
       "      <td>1950.0</td>\n",
       "      <td>377.7885</td>\n",
       "      <td>294.3825</td>\n",
       "      <td>256.9245</td>\n",
       "      <td>227.3800</td>\n",
       "      <td>198.7540</td>\n",
       "      <td>...</td>\n",
       "      <td>55.0635</td>\n",
       "      <td>44.1260</td>\n",
       "      <td>33.4145</td>\n",
       "      <td>21.7990</td>\n",
       "      <td>11.9270</td>\n",
       "      <td>4.1050</td>\n",
       "      <td>1.2055</td>\n",
       "      <td>0.2030</td>\n",
       "      <td>0.0180</td>\n",
       "      <td>0.0015</td>\n",
       "    </tr>\n",
       "    <tr>\n",
       "      <th>1733</th>\n",
       "      <td>Estimates</td>\n",
       "      <td>Burundi</td>\n",
       "      <td>108</td>\n",
       "      <td>Country/Area</td>\n",
       "      <td>1951.0</td>\n",
       "      <td>398.5735</td>\n",
       "      <td>301.2855</td>\n",
       "      <td>261.3300</td>\n",
       "      <td>230.3730</td>\n",
       "      <td>200.1685</td>\n",
       "      <td>...</td>\n",
       "      <td>56.7595</td>\n",
       "      <td>44.4995</td>\n",
       "      <td>33.8680</td>\n",
       "      <td>22.2515</td>\n",
       "      <td>12.2615</td>\n",
       "      <td>4.4205</td>\n",
       "      <td>1.1835</td>\n",
       "      <td>0.1880</td>\n",
       "      <td>0.0095</td>\n",
       "      <td>0.0005</td>\n",
       "    </tr>\n",
       "    <tr>\n",
       "      <th>1734</th>\n",
       "      <td>Estimates</td>\n",
       "      <td>Burundi</td>\n",
       "      <td>108</td>\n",
       "      <td>Country/Area</td>\n",
       "      <td>1952.0</td>\n",
       "      <td>417.8590</td>\n",
       "      <td>308.1205</td>\n",
       "      <td>265.9210</td>\n",
       "      <td>233.7265</td>\n",
       "      <td>201.9180</td>\n",
       "      <td>...</td>\n",
       "      <td>58.9135</td>\n",
       "      <td>44.8090</td>\n",
       "      <td>34.3050</td>\n",
       "      <td>22.7510</td>\n",
       "      <td>12.5265</td>\n",
       "      <td>4.7830</td>\n",
       "      <td>1.1520</td>\n",
       "      <td>0.1845</td>\n",
       "      <td>0.0080</td>\n",
       "      <td>0.0000</td>\n",
       "    </tr>\n",
       "    <tr>\n",
       "      <th>1735</th>\n",
       "      <td>Estimates</td>\n",
       "      <td>Burundi</td>\n",
       "      <td>108</td>\n",
       "      <td>Country/Area</td>\n",
       "      <td>1953.0</td>\n",
       "      <td>436.0210</td>\n",
       "      <td>315.0790</td>\n",
       "      <td>270.9130</td>\n",
       "      <td>237.3240</td>\n",
       "      <td>203.8430</td>\n",
       "      <td>...</td>\n",
       "      <td>61.3025</td>\n",
       "      <td>45.1960</td>\n",
       "      <td>34.7155</td>\n",
       "      <td>23.2605</td>\n",
       "      <td>12.7630</td>\n",
       "      <td>5.1305</td>\n",
       "      <td>1.1500</td>\n",
       "      <td>0.1870</td>\n",
       "      <td>0.0070</td>\n",
       "      <td>0.0000</td>\n",
       "    </tr>\n",
       "    <tr>\n",
       "      <th>1736</th>\n",
       "      <td>Estimates</td>\n",
       "      <td>Burundi</td>\n",
       "      <td>108</td>\n",
       "      <td>Country/Area</td>\n",
       "      <td>1954.0</td>\n",
       "      <td>455.1015</td>\n",
       "      <td>320.3660</td>\n",
       "      <td>276.5405</td>\n",
       "      <td>241.1685</td>\n",
       "      <td>205.9435</td>\n",
       "      <td>...</td>\n",
       "      <td>63.5580</td>\n",
       "      <td>45.9395</td>\n",
       "      <td>35.0830</td>\n",
       "      <td>23.7305</td>\n",
       "      <td>13.0220</td>\n",
       "      <td>5.4105</td>\n",
       "      <td>1.2050</td>\n",
       "      <td>0.1875</td>\n",
       "      <td>0.0050</td>\n",
       "      <td>0.0000</td>\n",
       "    </tr>\n",
       "  </tbody>\n",
       "</table>\n",
       "<p>5 rows × 26 columns</p>\n",
       "</div>"
      ],
      "text/plain": [
       "        Variant Region, subregion, country or area *  Location code  \\\n",
       "1732  Estimates                              Burundi            108   \n",
       "1733  Estimates                              Burundi            108   \n",
       "1734  Estimates                              Burundi            108   \n",
       "1735  Estimates                              Burundi            108   \n",
       "1736  Estimates                              Burundi            108   \n",
       "\n",
       "              Type    Year       0-4       5-9     10-14     15-19     20-24  \\\n",
       "1732  Country/Area  1950.0  377.7885  294.3825  256.9245  227.3800  198.7540   \n",
       "1733  Country/Area  1951.0  398.5735  301.2855  261.3300  230.3730  200.1685   \n",
       "1734  Country/Area  1952.0  417.8590  308.1205  265.9210  233.7265  201.9180   \n",
       "1735  Country/Area  1953.0  436.0210  315.0790  270.9130  237.3240  203.8430   \n",
       "1736  Country/Area  1954.0  455.1015  320.3660  276.5405  241.1685  205.9435   \n",
       "\n",
       "      ...    55-59    60-64    65-69    70-74    75-79   80-84   85-89  \\\n",
       "1732  ...  55.0635  44.1260  33.4145  21.7990  11.9270  4.1050  1.2055   \n",
       "1733  ...  56.7595  44.4995  33.8680  22.2515  12.2615  4.4205  1.1835   \n",
       "1734  ...  58.9135  44.8090  34.3050  22.7510  12.5265  4.7830  1.1520   \n",
       "1735  ...  61.3025  45.1960  34.7155  23.2605  12.7630  5.1305  1.1500   \n",
       "1736  ...  63.5580  45.9395  35.0830  23.7305  13.0220  5.4105  1.2050   \n",
       "\n",
       "       90-94   95-99    100+  \n",
       "1732  0.2030  0.0180  0.0015  \n",
       "1733  0.1880  0.0095  0.0005  \n",
       "1734  0.1845  0.0080  0.0000  \n",
       "1735  0.1870  0.0070  0.0000  \n",
       "1736  0.1875  0.0050  0.0000  \n",
       "\n",
       "[5 rows x 26 columns]"
      ]
     },
     "execution_count": 8,
     "metadata": {},
     "output_type": "execute_result"
    }
   ],
   "source": [
    "df = df.query(\"Type == 'Country/Area'\")\n",
    "\n",
    "df.head()\n"
   ]
  },
  {
   "cell_type": "markdown",
   "metadata": {
    "slideshow": {
     "slide_type": "subslide"
    }
   },
   "source": [
    "**Renaming**\n",
    "\n",
    "Many column names aren't easily typable or usable. We will resolve this by renaming the columns and will use the conventions below for renaming our columns:\n",
    "\n",
    "* Short and memorable (using standard conventions where possible)\n",
    "* Lower case with underscores to separate words when needed\n",
    "* Consistent <- Most important"
   ]
  },
  {
   "cell_type": "code",
   "execution_count": 9,
   "metadata": {
    "slideshow": {
     "slide_type": "-"
    }
   },
   "outputs": [
    {
     "data": {
      "text/html": [
       "<div>\n",
       "<style scoped>\n",
       "    .dataframe tbody tr th:only-of-type {\n",
       "        vertical-align: middle;\n",
       "    }\n",
       "\n",
       "    .dataframe tbody tr th {\n",
       "        vertical-align: top;\n",
       "    }\n",
       "\n",
       "    .dataframe thead th {\n",
       "        text-align: right;\n",
       "    }\n",
       "</style>\n",
       "<table border=\"1\" class=\"dataframe\">\n",
       "  <thead>\n",
       "    <tr style=\"text-align: right;\">\n",
       "      <th></th>\n",
       "      <th>variant</th>\n",
       "      <th>country</th>\n",
       "      <th>alpha3</th>\n",
       "      <th>year</th>\n",
       "      <th>0-4</th>\n",
       "      <th>5-9</th>\n",
       "      <th>10-14</th>\n",
       "      <th>15-19</th>\n",
       "      <th>20-24</th>\n",
       "      <th>25-29</th>\n",
       "      <th>...</th>\n",
       "      <th>55-59</th>\n",
       "      <th>60-64</th>\n",
       "      <th>65-69</th>\n",
       "      <th>70-74</th>\n",
       "      <th>75-79</th>\n",
       "      <th>80-84</th>\n",
       "      <th>85-89</th>\n",
       "      <th>90-94</th>\n",
       "      <th>95-99</th>\n",
       "      <th>100+</th>\n",
       "    </tr>\n",
       "  </thead>\n",
       "  <tbody>\n",
       "    <tr>\n",
       "      <th>1732</th>\n",
       "      <td>Estimates</td>\n",
       "      <td>Burundi</td>\n",
       "      <td>108</td>\n",
       "      <td>1950.0</td>\n",
       "      <td>377.7885</td>\n",
       "      <td>294.3825</td>\n",
       "      <td>256.9245</td>\n",
       "      <td>227.3800</td>\n",
       "      <td>198.7540</td>\n",
       "      <td>173.7115</td>\n",
       "      <td>...</td>\n",
       "      <td>55.0635</td>\n",
       "      <td>44.1260</td>\n",
       "      <td>33.4145</td>\n",
       "      <td>21.7990</td>\n",
       "      <td>11.9270</td>\n",
       "      <td>4.1050</td>\n",
       "      <td>1.2055</td>\n",
       "      <td>0.2030</td>\n",
       "      <td>0.0180</td>\n",
       "      <td>0.0015</td>\n",
       "    </tr>\n",
       "    <tr>\n",
       "      <th>1733</th>\n",
       "      <td>Estimates</td>\n",
       "      <td>Burundi</td>\n",
       "      <td>108</td>\n",
       "      <td>1951.0</td>\n",
       "      <td>398.5735</td>\n",
       "      <td>301.2855</td>\n",
       "      <td>261.3300</td>\n",
       "      <td>230.3730</td>\n",
       "      <td>200.1685</td>\n",
       "      <td>174.6250</td>\n",
       "      <td>...</td>\n",
       "      <td>56.7595</td>\n",
       "      <td>44.4995</td>\n",
       "      <td>33.8680</td>\n",
       "      <td>22.2515</td>\n",
       "      <td>12.2615</td>\n",
       "      <td>4.4205</td>\n",
       "      <td>1.1835</td>\n",
       "      <td>0.1880</td>\n",
       "      <td>0.0095</td>\n",
       "      <td>0.0005</td>\n",
       "    </tr>\n",
       "    <tr>\n",
       "      <th>1734</th>\n",
       "      <td>Estimates</td>\n",
       "      <td>Burundi</td>\n",
       "      <td>108</td>\n",
       "      <td>1952.0</td>\n",
       "      <td>417.8590</td>\n",
       "      <td>308.1205</td>\n",
       "      <td>265.9210</td>\n",
       "      <td>233.7265</td>\n",
       "      <td>201.9180</td>\n",
       "      <td>175.4405</td>\n",
       "      <td>...</td>\n",
       "      <td>58.9135</td>\n",
       "      <td>44.8090</td>\n",
       "      <td>34.3050</td>\n",
       "      <td>22.7510</td>\n",
       "      <td>12.5265</td>\n",
       "      <td>4.7830</td>\n",
       "      <td>1.1520</td>\n",
       "      <td>0.1845</td>\n",
       "      <td>0.0080</td>\n",
       "      <td>0.0000</td>\n",
       "    </tr>\n",
       "    <tr>\n",
       "      <th>1735</th>\n",
       "      <td>Estimates</td>\n",
       "      <td>Burundi</td>\n",
       "      <td>108</td>\n",
       "      <td>1953.0</td>\n",
       "      <td>436.0210</td>\n",
       "      <td>315.0790</td>\n",
       "      <td>270.9130</td>\n",
       "      <td>237.3240</td>\n",
       "      <td>203.8430</td>\n",
       "      <td>176.0925</td>\n",
       "      <td>...</td>\n",
       "      <td>61.3025</td>\n",
       "      <td>45.1960</td>\n",
       "      <td>34.7155</td>\n",
       "      <td>23.2605</td>\n",
       "      <td>12.7630</td>\n",
       "      <td>5.1305</td>\n",
       "      <td>1.1500</td>\n",
       "      <td>0.1870</td>\n",
       "      <td>0.0070</td>\n",
       "      <td>0.0000</td>\n",
       "    </tr>\n",
       "    <tr>\n",
       "      <th>1736</th>\n",
       "      <td>Estimates</td>\n",
       "      <td>Burundi</td>\n",
       "      <td>108</td>\n",
       "      <td>1954.0</td>\n",
       "      <td>455.1015</td>\n",
       "      <td>320.3660</td>\n",
       "      <td>276.5405</td>\n",
       "      <td>241.1685</td>\n",
       "      <td>205.9435</td>\n",
       "      <td>176.7645</td>\n",
       "      <td>...</td>\n",
       "      <td>63.5580</td>\n",
       "      <td>45.9395</td>\n",
       "      <td>35.0830</td>\n",
       "      <td>23.7305</td>\n",
       "      <td>13.0220</td>\n",
       "      <td>5.4105</td>\n",
       "      <td>1.2050</td>\n",
       "      <td>0.1875</td>\n",
       "      <td>0.0050</td>\n",
       "      <td>0.0000</td>\n",
       "    </tr>\n",
       "  </tbody>\n",
       "</table>\n",
       "<p>5 rows × 25 columns</p>\n",
       "</div>"
      ],
      "text/plain": [
       "        variant  country  alpha3    year       0-4       5-9     10-14  \\\n",
       "1732  Estimates  Burundi     108  1950.0  377.7885  294.3825  256.9245   \n",
       "1733  Estimates  Burundi     108  1951.0  398.5735  301.2855  261.3300   \n",
       "1734  Estimates  Burundi     108  1952.0  417.8590  308.1205  265.9210   \n",
       "1735  Estimates  Burundi     108  1953.0  436.0210  315.0790  270.9130   \n",
       "1736  Estimates  Burundi     108  1954.0  455.1015  320.3660  276.5405   \n",
       "\n",
       "         15-19     20-24     25-29  ...    55-59    60-64    65-69    70-74  \\\n",
       "1732  227.3800  198.7540  173.7115  ...  55.0635  44.1260  33.4145  21.7990   \n",
       "1733  230.3730  200.1685  174.6250  ...  56.7595  44.4995  33.8680  22.2515   \n",
       "1734  233.7265  201.9180  175.4405  ...  58.9135  44.8090  34.3050  22.7510   \n",
       "1735  237.3240  203.8430  176.0925  ...  61.3025  45.1960  34.7155  23.2605   \n",
       "1736  241.1685  205.9435  176.7645  ...  63.5580  45.9395  35.0830  23.7305   \n",
       "\n",
       "        75-79   80-84   85-89   90-94   95-99    100+  \n",
       "1732  11.9270  4.1050  1.2055  0.2030  0.0180  0.0015  \n",
       "1733  12.2615  4.4205  1.1835  0.1880  0.0095  0.0005  \n",
       "1734  12.5265  4.7830  1.1520  0.1845  0.0080  0.0000  \n",
       "1735  12.7630  5.1305  1.1500  0.1870  0.0070  0.0000  \n",
       "1736  13.0220  5.4105  1.2050  0.1875  0.0050  0.0000  \n",
       "\n",
       "[5 rows x 25 columns]"
      ]
     },
     "execution_count": 9,
     "metadata": {},
     "output_type": "execute_result"
    }
   ],
   "source": [
    "renamers = {\n",
    "    \"Variant\": \"variant\",\n",
    "    \"Region, subregion, country or area *\": \"country\",\n",
    "    \"Location code\": \"alpha3\",\n",
    "    \"Type\": \"type\",\n",
    "    \"Year\": \"year\"\n",
    "}\n",
    "\n",
    "# Rename the columns and drop type column (since we've already restricted\n",
    "# to just countries)\n",
    "df = df.rename(\n",
    "    columns=renamers\n",
    ").drop(\n",
    "    [\"type\"], axis=1\n",
    ")\n",
    "\n",
    "df.head()\n"
   ]
  },
  {
   "cell_type": "code",
   "execution_count": 10,
   "metadata": {},
   "outputs": [],
   "source": [
    "# There were missing years in certain columsn but we've eliminated them\n",
    "# so now we can move the year back to an integer as it should be\n",
    "df[\"year\"] = df[\"year\"].astype(int)"
   ]
  },
  {
   "cell_type": "markdown",
   "metadata": {
    "slideshow": {
     "slide_type": "subslide"
    }
   },
   "source": [
    "**Reshaping**\n",
    "\n",
    "The data currently has one column for each age group. We'll update the data to be a long-form rather than wide-form to make it \"tidy\""
   ]
  },
  {
   "cell_type": "code",
   "execution_count": 11,
   "metadata": {
    "slideshow": {
     "slide_type": "-"
    }
   },
   "outputs": [
    {
     "data": {
      "text/html": [
       "<div>\n",
       "<style scoped>\n",
       "    .dataframe tbody tr th:only-of-type {\n",
       "        vertical-align: middle;\n",
       "    }\n",
       "\n",
       "    .dataframe tbody tr th {\n",
       "        vertical-align: top;\n",
       "    }\n",
       "\n",
       "    .dataframe thead th {\n",
       "        text-align: right;\n",
       "    }\n",
       "</style>\n",
       "<table border=\"1\" class=\"dataframe\">\n",
       "  <thead>\n",
       "    <tr style=\"text-align: right;\">\n",
       "      <th></th>\n",
       "      <th>variant</th>\n",
       "      <th>country</th>\n",
       "      <th>alpha3</th>\n",
       "      <th>year</th>\n",
       "      <th>age</th>\n",
       "      <th>value</th>\n",
       "    </tr>\n",
       "  </thead>\n",
       "  <tbody>\n",
       "    <tr>\n",
       "      <th>0</th>\n",
       "      <td>Estimates</td>\n",
       "      <td>Burundi</td>\n",
       "      <td>108</td>\n",
       "      <td>1950</td>\n",
       "      <td>0-4</td>\n",
       "      <td>377.7885</td>\n",
       "    </tr>\n",
       "    <tr>\n",
       "      <th>1</th>\n",
       "      <td>Estimates</td>\n",
       "      <td>Burundi</td>\n",
       "      <td>108</td>\n",
       "      <td>1951</td>\n",
       "      <td>0-4</td>\n",
       "      <td>398.5735</td>\n",
       "    </tr>\n",
       "    <tr>\n",
       "      <th>2</th>\n",
       "      <td>Estimates</td>\n",
       "      <td>Burundi</td>\n",
       "      <td>108</td>\n",
       "      <td>1952</td>\n",
       "      <td>0-4</td>\n",
       "      <td>417.8590</td>\n",
       "    </tr>\n",
       "    <tr>\n",
       "      <th>3</th>\n",
       "      <td>Estimates</td>\n",
       "      <td>Burundi</td>\n",
       "      <td>108</td>\n",
       "      <td>1953</td>\n",
       "      <td>0-4</td>\n",
       "      <td>436.0210</td>\n",
       "    </tr>\n",
       "    <tr>\n",
       "      <th>4</th>\n",
       "      <td>Estimates</td>\n",
       "      <td>Burundi</td>\n",
       "      <td>108</td>\n",
       "      <td>1954</td>\n",
       "      <td>0-4</td>\n",
       "      <td>455.1015</td>\n",
       "    </tr>\n",
       "  </tbody>\n",
       "</table>\n",
       "</div>"
      ],
      "text/plain": [
       "     variant  country  alpha3  year  age     value\n",
       "0  Estimates  Burundi     108  1950  0-4  377.7885\n",
       "1  Estimates  Burundi     108  1951  0-4  398.5735\n",
       "2  Estimates  Burundi     108  1952  0-4  417.8590\n",
       "3  Estimates  Burundi     108  1953  0-4  436.0210\n",
       "4  Estimates  Burundi     108  1954  0-4  455.1015"
      ]
     },
     "execution_count": 11,
     "metadata": {},
     "output_type": "execute_result"
    }
   ],
   "source": [
    "df = df.melt(id_vars=[\"variant\", \"country\", \"alpha3\", \"year\"], var_name=\"age\")\n",
    "\n",
    "df.head()\n"
   ]
  },
  {
   "cell_type": "markdown",
   "metadata": {
    "slideshow": {
     "slide_type": "subslide"
    }
   },
   "source": [
    "**Population sizes**\n",
    "\n",
    "Let's focus on countries that had more than 50,000,000 people in 2010, 2015, and 2020 according to the estimates data.\n",
    "\n",
    "In order to do this, we're going to use a pivot table to determine how many people were in each country during each year and then use boolean selection"
   ]
  },
  {
   "cell_type": "code",
   "execution_count": 13,
   "metadata": {
    "slideshow": {
     "slide_type": "-"
    }
   },
   "outputs": [],
   "source": [
    "# Sum up over all age-groups\n",
    "pop_sizes = (\n",
    "    df.query(\"variant == 'Estimates'\")\n",
    "      .pivot_table(index=\"country\", columns=\"year\", values=\"value\", aggfunc=\"sum\")\n",
    ")\n",
    "\n",
    "# Get list of the countries with more than 50m people\n",
    "countries_pop_gt_50m_bool = (pop_sizes.loc[:, 2010:2020] > 50_000).all(axis=1)\n",
    "countries_pop_gt_50m = countries_pop_gt_50m_bool.index[countries_pop_gt_50m_bool].tolist()"
   ]
  },
  {
   "cell_type": "code",
   "execution_count": 14,
   "metadata": {},
   "outputs": [
    {
     "data": {
      "text/plain": [
       "['Bangladesh',\n",
       " 'Brazil',\n",
       " 'China',\n",
       " 'Democratic Republic of the Congo',\n",
       " 'Egypt',\n",
       " 'Ethiopia',\n",
       " 'France',\n",
       " 'Germany',\n",
       " 'India',\n",
       " 'Indonesia',\n",
       " 'Iran (Islamic Republic of)',\n",
       " 'Italy',\n",
       " 'Japan',\n",
       " 'Mexico',\n",
       " 'Nigeria',\n",
       " 'Pakistan',\n",
       " 'Philippines',\n",
       " 'Russian Federation',\n",
       " 'South Africa',\n",
       " 'Thailand',\n",
       " 'Türkiye',\n",
       " 'United Kingdom',\n",
       " 'United States of America',\n",
       " 'Viet Nam']"
      ]
     },
     "execution_count": 14,
     "metadata": {},
     "output_type": "execute_result"
    }
   ],
   "source": [
    "countries_pop_gt_50m"
   ]
  },
  {
   "cell_type": "code",
   "execution_count": 15,
   "metadata": {
    "slideshow": {
     "slide_type": "-"
    }
   },
   "outputs": [
    {
     "data": {
      "text/html": [
       "<div>\n",
       "<style scoped>\n",
       "    .dataframe tbody tr th:only-of-type {\n",
       "        vertical-align: middle;\n",
       "    }\n",
       "\n",
       "    .dataframe tbody tr th {\n",
       "        vertical-align: top;\n",
       "    }\n",
       "\n",
       "    .dataframe thead th {\n",
       "        text-align: right;\n",
       "    }\n",
       "</style>\n",
       "<table border=\"1\" class=\"dataframe\">\n",
       "  <thead>\n",
       "    <tr style=\"text-align: right;\">\n",
       "      <th></th>\n",
       "      <th>variant</th>\n",
       "      <th>country</th>\n",
       "      <th>alpha3</th>\n",
       "      <th>year</th>\n",
       "      <th>age</th>\n",
       "      <th>value</th>\n",
       "    </tr>\n",
       "  </thead>\n",
       "  <tbody>\n",
       "    <tr>\n",
       "      <th>288</th>\n",
       "      <td>Estimates</td>\n",
       "      <td>Ethiopia</td>\n",
       "      <td>231</td>\n",
       "      <td>1950</td>\n",
       "      <td>0-4</td>\n",
       "      <td>3214.8235</td>\n",
       "    </tr>\n",
       "    <tr>\n",
       "      <th>289</th>\n",
       "      <td>Estimates</td>\n",
       "      <td>Ethiopia</td>\n",
       "      <td>231</td>\n",
       "      <td>1951</td>\n",
       "      <td>0-4</td>\n",
       "      <td>3245.4725</td>\n",
       "    </tr>\n",
       "    <tr>\n",
       "      <th>290</th>\n",
       "      <td>Estimates</td>\n",
       "      <td>Ethiopia</td>\n",
       "      <td>231</td>\n",
       "      <td>1952</td>\n",
       "      <td>0-4</td>\n",
       "      <td>3273.9440</td>\n",
       "    </tr>\n",
       "    <tr>\n",
       "      <th>291</th>\n",
       "      <td>Estimates</td>\n",
       "      <td>Ethiopia</td>\n",
       "      <td>231</td>\n",
       "      <td>1953</td>\n",
       "      <td>0-4</td>\n",
       "      <td>3312.0260</td>\n",
       "    </tr>\n",
       "    <tr>\n",
       "      <th>292</th>\n",
       "      <td>Estimates</td>\n",
       "      <td>Ethiopia</td>\n",
       "      <td>231</td>\n",
       "      <td>1954</td>\n",
       "      <td>0-4</td>\n",
       "      <td>3364.1320</td>\n",
       "    </tr>\n",
       "  </tbody>\n",
       "</table>\n",
       "</div>"
      ],
      "text/plain": [
       "       variant   country  alpha3  year  age      value\n",
       "288  Estimates  Ethiopia     231  1950  0-4  3214.8235\n",
       "289  Estimates  Ethiopia     231  1951  0-4  3245.4725\n",
       "290  Estimates  Ethiopia     231  1952  0-4  3273.9440\n",
       "291  Estimates  Ethiopia     231  1953  0-4  3312.0260\n",
       "292  Estimates  Ethiopia     231  1954  0-4  3364.1320"
      ]
     },
     "execution_count": 15,
     "metadata": {},
     "output_type": "execute_result"
    }
   ],
   "source": [
    "df_gt_50m = df.query(\"country in @countries_pop_gt_50m\")\n",
    "\n",
    "df_gt_50m.head()\n"
   ]
  },
  {
   "cell_type": "markdown",
   "metadata": {
    "slideshow": {
     "slide_type": "slide"
    }
   },
   "source": [
    "### Visualizations\n",
    "\n",
    "Let's now begin visually exploring our data."
   ]
  },
  {
   "cell_type": "markdown",
   "metadata": {
    "slideshow": {
     "slide_type": "subslide"
    }
   },
   "source": [
    "**Plotting age distribution**\n",
    "\n",
    "Below, we'll begin plotting the age distributions of certain countries in different years. Let's start by plotting the age distribution in China for 1960, 1990, 2020, 2050, and 2080.\n",
    "\n",
    "To do this, we  will need `year` on the index and `age` as the columns."
   ]
  },
  {
   "cell_type": "code",
   "execution_count": 16,
   "metadata": {
    "slideshow": {
     "slide_type": "-"
    }
   },
   "outputs": [],
   "source": [
    "china_sel = \"country == 'China' & (variant=='Estimates' | variant=='Medium')\"\n",
    "df_china = (\n",
    "    df.query(china_sel)\n",
    "      .pivot_table(index=\"age\", columns=\"year\", values=\"value\")\n",
    "      .loc[:, range(1960, 2100, 30)]\n",
    ")\n"
   ]
  },
  {
   "cell_type": "code",
   "execution_count": 17,
   "metadata": {
    "slideshow": {
     "slide_type": "subslide"
    }
   },
   "outputs": [
    {
     "data": {
      "image/png": "[encoded data removed]",
      "text/plain": [
       "<Figure size 720x576 with 5 Axes>"
      ]
     },
     "metadata": {
      "needs_background": "light"
     },
     "output_type": "display_data"
    }
   ],
   "source": [
    "ax = df_china.plot(\n",
    "    kind=\"bar\", figsize=(10, 8), subplots=True, sharey=True,\n",
    "    legend=False\n",
    ")\n",
    "\n",
    "fig = ax[0].get_figure()\n",
    "fig.tight_layout()"
   ]
  },
  {
   "cell_type": "markdown",
   "metadata": {
    "slideshow": {
     "slide_type": "fragment"
    }
   },
   "source": [
    "What's wrong with the graph?"
   ]
  },
  {
   "cell_type": "code",
   "execution_count": 18,
   "metadata": {
    "slideshow": {
     "slide_type": "fragment"
    }
   },
   "outputs": [
    {
     "data": {
      "image/png": "[encoded data removed]",
      "text/plain": [
       "<Figure size 720x576 with 5 Axes>"
      ]
     },
     "metadata": {
      "needs_background": "light"
     },
     "output_type": "display_data"
    }
   ],
   "source": [
    "ax = df_china.loc[age_cols, :].plot(\n",
    "    kind=\"bar\", figsize=(10, 8), subplots=True, sharey=True,\n",
    "    legend=False\n",
    ")\n",
    "\n",
    "fig = ax[0].get_figure()\n",
    "fig.tight_layout()"
   ]
  },
  {
   "cell_type": "markdown",
   "metadata": {
    "slideshow": {
     "slide_type": "subslide"
    }
   },
   "source": [
    "Maybe we want to see the fraction of the population in each bin rather than the number of people"
   ]
  },
  {
   "cell_type": "code",
   "execution_count": 19,
   "metadata": {
    "slideshow": {
     "slide_type": "-"
    }
   },
   "outputs": [
    {
     "data": {
      "image/png": "[encoded data removed]",
      "text/plain": [
       "<Figure size 720x576 with 5 Axes>"
      ]
     },
     "metadata": {
      "needs_background": "light"
     },
     "output_type": "display_data"
    }
   ],
   "source": [
    "ax = (\n",
    "    df_china.divide(df_china.sum(axis=0), axis=1)\n",
    "            .loc[age_cols, :]\n",
    "            .plot(\n",
    "                kind=\"bar\", figsize=(10, 8), subplots=True,\n",
    "                sharey=True, legend=False, ylim=(0.0, 0.2),\n",
    "                title=\"Population Share by Age Bracket\"\n",
    "            )\n",
    ")\n",
    "\n",
    "for (i, _ax) in enumerate(ax):\n",
    "    _population_m = df_china.iloc[:, i].sum()/1000\n",
    "    _title = f\"{df_china.columns[i]}: {_population_m:.2f} million\"\n",
    "    _ax.set_title(\"\")\n",
    "    _ax.set_title(_title, loc=\"right\")\n",
    "    _ax.spines[\"right\"].set_visible(False)\n",
    "    _ax.spines[\"top\"].set_visible(False)\n",
    "\n",
    "fig = ax[0].get_figure()\n",
    "fig.tight_layout()\n"
   ]
  },
  {
   "cell_type": "markdown",
   "metadata": {
    "slideshow": {
     "slide_type": "subslide"
    }
   },
   "source": [
    "If we wanted a similar graph for another country, we could potentially copy and paste what we wrote, but, if we made minor changes then we could potentially introduce unexpected errors when trying to write them.\n",
    "\n",
    "Instead, let's write a function that creates a graph like this."
   ]
  },
  {
   "cell_type": "code",
   "execution_count": 20,
   "metadata": {
    "slideshow": {
     "slide_type": "-"
    }
   },
   "outputs": [],
   "source": [
    "def age_distribution_graph(data, country, years, forecast_variant=\"Medium\"):\n",
    "    # Subset the data\n",
    "    sel = f\"country == '{country}' & (variant=='Estimates' | variant=='{forecast_variant}')\"\n",
    "    plot_df = (\n",
    "        data.query(sel)\n",
    "            .pivot_table(index=\"age\", columns=\"year\", values=\"value\")\n",
    "            .loc[:, years]\n",
    "    )\n",
    "    \n",
    "    # Create the plot\n",
    "    ax = (\n",
    "        plot_df.divide(plot_df.sum(axis=0), axis=1)\n",
    "            .loc[age_cols, :]\n",
    "            .plot(\n",
    "                kind=\"bar\", figsize=(10, 8), subplots=True,\n",
    "                sharey=True, legend=False, ylim=(0.0, 0.2),\n",
    "                title=None\n",
    "            )\n",
    "    )\n",
    "\n",
    "    for (i, _ax) in enumerate(ax):\n",
    "        _population_m = plot_df.iloc[:, i].sum()/1000\n",
    "        _title = f\"{plot_df.columns[i]}: {_population_m:.2f} million\"\n",
    "        _ax.set_title(\"\")\n",
    "        _ax.set_title(_title, loc=\"right\")\n",
    "        _ax.spines[\"right\"].set_visible(False)\n",
    "        _ax.spines[\"top\"].set_visible(False)\n",
    "\n",
    "    fig = ax[0].get_figure()\n",
    "    ax[0].set_title(f\"Population Share by Age Bracket for {country}\", loc=\"left\")\n",
    "    fig.tight_layout()\n",
    "    \n",
    "    return fig\n"
   ]
  },
  {
   "cell_type": "markdown",
   "metadata": {
    "slideshow": {
     "slide_type": "slide"
    }
   },
   "source": [
    "### Population graphs"
   ]
  },
  {
   "cell_type": "code",
   "execution_count": 21,
   "metadata": {
    "slideshow": {
     "slide_type": "-"
    }
   },
   "outputs": [],
   "source": [
    "years_of_interest = [1980, 1990, 2000, 2020, 2050, 2100]"
   ]
  },
  {
   "cell_type": "markdown",
   "metadata": {
    "slideshow": {
     "slide_type": "subslide"
    }
   },
   "source": [
    "**China**"
   ]
  },
  {
   "cell_type": "code",
   "execution_count": 22,
   "metadata": {
    "slideshow": {
     "slide_type": "-"
    }
   },
   "outputs": [
    {
     "data": {
      "image/png": "[encoded data removed]",
      "text/plain": [
       "<Figure size 720x576 with 6 Axes>"
      ]
     },
     "metadata": {
      "needs_background": "light"
     },
     "output_type": "display_data"
    }
   ],
   "source": [
    "age_distribution_graph(df, \"China\", years_of_interest, \"Low\");"
   ]
  },
  {
   "cell_type": "code",
   "execution_count": 23,
   "metadata": {
    "slideshow": {
     "slide_type": "fragment"
    }
   },
   "outputs": [
    {
     "data": {
      "image/png": "[encoded data removed]",
      "text/plain": [
       "<Figure size 720x576 with 6 Axes>"
      ]
     },
     "metadata": {
      "needs_background": "light"
     },
     "output_type": "display_data"
    }
   ],
   "source": [
    "age_distribution_graph(df, \"China\", years_of_interest, \"Medium\");"
   ]
  },
  {
   "cell_type": "code",
   "execution_count": 24,
   "metadata": {
    "slideshow": {
     "slide_type": "fragment"
    }
   },
   "outputs": [
    {
     "data": {
      "image/png": "[encoded data removed]",
      "text/plain": [
       "<Figure size 720x576 with 6 Axes>"
      ]
     },
     "metadata": {
      "needs_background": "light"
     },
     "output_type": "display_data"
    }
   ],
   "source": [
    "age_distribution_graph(df, \"China\", years_of_interest, \"High\");"
   ]
  },
  {
   "cell_type": "markdown",
   "metadata": {
    "slideshow": {
     "slide_type": "subslide"
    }
   },
   "source": [
    "**India**"
   ]
  },
  {
   "cell_type": "code",
   "execution_count": 25,
   "metadata": {
    "slideshow": {
     "slide_type": "-"
    }
   },
   "outputs": [
    {
     "data": {
      "image/png": "[encoded data removed]",
      "text/plain": [
       "<Figure size 720x576 with 6 Axes>"
      ]
     },
     "metadata": {
      "needs_background": "light"
     },
     "output_type": "display_data"
    }
   ],
   "source": [
    "age_distribution_graph(df, \"India\", years_of_interest, \"Low\");"
   ]
  },
  {
   "cell_type": "code",
   "execution_count": 26,
   "metadata": {
    "slideshow": {
     "slide_type": "fragment"
    }
   },
   "outputs": [
    {
     "data": {
      "image/png": "[encoded data removed]",
      "text/plain": [
       "<Figure size 720x576 with 6 Axes>"
      ]
     },
     "metadata": {
      "needs_background": "light"
     },
     "output_type": "display_data"
    }
   ],
   "source": [
    "age_distribution_graph(df, \"India\", years_of_interest, \"Medium\");"
   ]
  },
  {
   "cell_type": "code",
   "execution_count": 27,
   "metadata": {
    "slideshow": {
     "slide_type": "fragment"
    }
   },
   "outputs": [
    {
     "data": {
      "image/png": "[encoded data removed]",
      "text/plain": [
       "<Figure size 720x576 with 6 Axes>"
      ]
     },
     "metadata": {
      "needs_background": "light"
     },
     "output_type": "display_data"
    }
   ],
   "source": [
    "age_distribution_graph(df, \"India\", years_of_interest, \"High\");"
   ]
  },
  {
   "cell_type": "markdown",
   "metadata": {
    "slideshow": {
     "slide_type": "subslide"
    }
   },
   "source": [
    "**United States of America**"
   ]
  },
  {
   "cell_type": "code",
   "execution_count": 28,
   "metadata": {
    "slideshow": {
     "slide_type": "-"
    }
   },
   "outputs": [
    {
     "data": {
      "image/png": "[encoded data removed]",
      "text/plain": [
       "<Figure size 720x576 with 6 Axes>"
      ]
     },
     "metadata": {
      "needs_background": "light"
     },
     "output_type": "display_data"
    }
   ],
   "source": [
    "age_distribution_graph(df, \"United States of America\", years_of_interest, \"Low\");"
   ]
  },
  {
   "cell_type": "code",
   "execution_count": null,
   "metadata": {
    "slideshow": {
     "slide_type": "fragment"
    }
   },
   "outputs": [],
   "source": [
    "age_distribution_graph(df, \"United States of America\", years_of_interest, \"Medium\");"
   ]
  },
  {
   "cell_type": "code",
   "execution_count": null,
   "metadata": {
    "slideshow": {
     "slide_type": "fragment"
    }
   },
   "outputs": [],
   "source": [
    "age_distribution_graph(df, \"United States of America\", years_of_interest, \"High\");"
   ]
  },
  {
   "cell_type": "markdown",
   "metadata": {
    "slideshow": {
     "slide_type": "slide"
    }
   },
   "source": [
    "## Why do we care about age distribution?\n",
    "\n",
    "Lots of reasons, but one that we (as young working-age adults) should be particularly interested in is social security programs.\n",
    "\n",
    "\n",
    "_Definition: **Dependency ratio**_\n",
    "\n",
    "> The (old-age) dependency ratio relates the number of persons aged 65 or over per 100 persons aged 15-64.\n",
    "\n",
    "We care about this measurement because it tells us roughly how many working age people there are to support those who have stopped working. As the population distribution shifts to the right (and if nothing changes), there will be fewer individuals to support the social security programs that support the old (non-working) population."
   ]
  },
  {
   "cell_type": "code",
   "execution_count": null,
   "metadata": {
    "slideshow": {
     "slide_type": "subslide"
    }
   },
   "outputs": [],
   "source": [
    "# Compute old-age dependency ratio for countries with more than\n",
    "# 50,000,000 people\n",
    "working_age = [f\"{5*i}-{5*i + 4}\" for i in range(20) if 5*i >= 15 and 5*i<65]\n",
    "old_age = [f\"{5*i}-{5*i + 4}\" for i in range(20) if 5*i>=65] + [\"100+\"]\n",
    "\n",
    "df_gt_50m.loc[:, \"age_classification\"] = \"young\"\n",
    "wa = df_gt_50m[\"age\"].isin(working_age)\n",
    "df_gt_50m.loc[wa, \"age_classification\"] = \"work\"\n",
    "oa = df_gt_50m[\"age\"].isin(old_age)\n",
    "df_gt_50m.loc[oa, \"age_classification\"] = \"old\"\n",
    "\n",
    "dr = (\n",
    "    df_gt_50m.query(\"variant == 'Estimates' | variant == 'Medium'\")\n",
    "             .pivot_table(\n",
    "                 index=[\"country\", \"year\"],\n",
    "                 columns=\"age_classification\", values=\"value\"\n",
    "             )\n",
    ")\n",
    "\n",
    "dr.loc[:, \"dep_ratio\"] = 100 * (dr.loc[:, \"old\"] / dr.loc[:, \"work\"])\n",
    "\n",
    "dr = dr[\"dep_ratio\"].unstack(level=\"country\")\n",
    "\n",
    "dr.head()\n"
   ]
  },
  {
   "cell_type": "markdown",
   "metadata": {
    "slideshow": {
     "slide_type": "subslide"
    }
   },
   "source": [
    "**Sustainable dependency ratio**\n",
    "\n",
    "Obviously the age of retirement could be adjusted which would make the dependency ratio, as we've calculated it, a worse measure of dependence. However, just as a thought experiment, let's suppose that the dependency ratio that is sustainable long term (i.e. the payments to social security are roughly the same as the social security tax collected) is 50 (which means that there are 2 workers for each person over 65).\n",
    "\n",
    "Of our countries with over 50 million citizens, how many countries will be sustainable in 2080? In 2100?"
   ]
  },
  {
   "cell_type": "code",
   "execution_count": null,
   "metadata": {
    "slideshow": {
     "slide_type": "-"
    }
   },
   "outputs": [],
   "source": [
    "fig, ax = plt.subplots(figsize=(8, 6))\n",
    "\n",
    "dr.plot(kind=\"line\", ax=ax, legend=False)\n",
    "ax.hlines(50, 1950, 2100, color=\"k\", linewidth=2.0, linestyle=\"--\")\n",
    "\n",
    "ax.spines[\"top\"].set_visible(False)\n",
    "ax.spines[\"right\"].set_visible(False)\n",
    "\n",
    "ax.set_title(\"Dependency Ratios for countries with 50m+ citizens\")"
   ]
  },
  {
   "cell_type": "code",
   "execution_count": null,
   "metadata": {
    "slideshow": {
     "slide_type": "fragment"
    }
   },
   "outputs": [],
   "source": [
    "dr_2080 = dr.loc[2080, :]\n",
    "dr_2080.index[dr_2080 < 50]"
   ]
  },
  {
   "cell_type": "code",
   "execution_count": null,
   "metadata": {
    "slideshow": {
     "slide_type": "fragment"
    }
   },
   "outputs": [],
   "source": [
    "dr_2100 = dr.loc[2100, :]\n",
    "dr_2100.index[dr_2100 < 50]"
   ]
  }
 ],
 "metadata": {
  "anaconda-cloud": {},
  "celltoolbar": "Slideshow",
  "kernelspec": {
   "display_name": "Python 3 (ipykernel)",
   "language": "python",
   "name": "python3"
  },
  "language_info": {
   "codemirror_mode": {
    "name": "ipython",
    "version": 3
   },
   "file_extension": ".py",
   "mimetype": "text/x-python",
   "name": "python",
   "nbconvert_exporter": "python",
   "pygments_lexer": "ipython3",
   "version": "3.9.7"
  }
 },
 "nbformat": 4,
 "nbformat_minor": 4
}
