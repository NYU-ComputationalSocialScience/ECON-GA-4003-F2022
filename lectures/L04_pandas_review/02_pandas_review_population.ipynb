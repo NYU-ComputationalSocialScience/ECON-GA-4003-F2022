{
 "cells": [
  {
   "cell_type": "markdown",
   "metadata": {
    "slideshow": {
     "slide_type": "slide"
    }
   },
   "source": [
    "# Pandas Review: UN Population Data\n",
    "\n",
    "**Attribution**: _This notebook is based on a notebook created by Dave Backus, Chase Coleman, Brian LeBlanc, and Spencer Lyon for the NYU Stern Data Bootcamp course_"
   ]
  },
  {
   "cell_type": "code",
   "execution_count": null,
   "metadata": {
    "slideshow": {
     "slide_type": "-"
    }
   },
   "outputs": [],
   "source": [
    "import matplotlib.pyplot as plt\n",
    "import pandas as pd\n",
    "\n",
    "from urllib.parse import urljoin\n",
    "\n",
    "%matplotlib inline"
   ]
  },
  {
   "cell_type": "markdown",
   "metadata": {
    "slideshow": {
     "slide_type": "slide"
    }
   },
   "source": [
    "## UN Population Data\n",
    "\n",
    "We will look at the UN's [population data](http://esa.un.org/unpd/wpp/Download/Standard/Population/). In this notebook, we will focus specifically the age distribution of the population.\n"
   ]
  },
  {
   "cell_type": "markdown",
   "metadata": {
    "slideshow": {
     "slide_type": "-"
    }
   },
   "source": [
    "### Projection Variants\n",
    "\n",
    "The population numbers for a particular year are reported as corresopnding to 1 July 2020. There will be two types of population numbers that we discuss:\n",
    "\n",
    "* *estimates*: Estimates of the population at a point in the past\n",
    "* *projections*: Forecasts of what the population might be for a given year\n",
    "\n",
    "Furthermore, the UN will provide various versions of the projections using different modeling assumptions. We will consider three of their population models:\n",
    "\n",
    "1. *Low variant*: Assumes a low fertility with normal mortality and normal migration.\n",
    "2. *Medium variant*: Assumes a medium fertility with normal mortality and normal migration.\n",
    "3. *High variant*: Assumes a high fertility with normal mortality and normal migration"
   ]
  },
  {
   "cell_type": "markdown",
   "metadata": {
    "slideshow": {
     "slide_type": "subslide"
    }
   },
   "source": [
    "### Loading the data \n",
    "\n",
    "We start, as usual, by loading the data.  This will take a minute because the file is about 10 MB in size."
   ]
  },
  {
   "cell_type": "code",
   "execution_count": null,
   "metadata": {
    "slideshow": {
     "slide_type": "-"
    }
   },
   "outputs": [],
   "source": [
    "un_base_url = \"https://population.un.org/\"\n",
    "path_to_file = \"wpp/Download/Files/1_Indicators%20(Standard)/EXCEL_FILES/2_Population/\"\n",
    "filename = (\"WPP2022_POP_F02_1_POPULATION_5-YEAR_AGE_GROUPS_BOTH_SEXES.xlsx\")\n",
    "\n",
    "url = urljoin(un_base_url, path_to_file+filename)"
   ]
  },
  {
   "cell_type": "code",
   "execution_count": null,
   "metadata": {
    "slideshow": {
     "slide_type": "-"
    }
   },
   "outputs": [],
   "source": [
    "cols_to_read = [\n",
    "    \"Variant\", \"Region, subregion, country or area *\", \"Location code\",\n",
    "    \"Type\", \"Year\"\n",
    "]\n",
    "\n",
    "age_cols = [f\"{5*i}-{5*i+4}\" for i in range(20)]\n",
    "age_cols.append(\"100+\")\n",
    "\n",
    "cols_to_read.extend(age_cols)\n",
    "\n",
    "sheets = pd.read_excel(\n",
    "    url, sheet_name=[\"Estimates\", \"Low variant\", \"Medium variant\", \"High variant\"],\n",
    "    skiprows=16, usecols=cols_to_read, na_values=[\"...\"]\n",
    ")\n",
    "\n",
    "est = sheets[\"Estimates\"]\n",
    "low_proj = sheets[\"Low variant\"]\n",
    "med_proj = sheets[\"Medium variant\"]\n",
    "hgh_proj = sheets[\"High variant\"]\n",
    "\n",
    "# Combine all of the datasets into one\n",
    "df = pd.concat([est, low_proj, med_proj, hgh_proj], axis=0, ignore_index=True)"
   ]
  },
  {
   "cell_type": "markdown",
   "metadata": {
    "slideshow": {
     "slide_type": "subslide"
    }
   },
   "source": [
    "What does our data contain?\n"
   ]
  },
  {
   "cell_type": "code",
   "execution_count": null,
   "metadata": {
    "slideshow": {
     "slide_type": "-"
    }
   },
   "outputs": [],
   "source": [
    "df.head()"
   ]
  },
  {
   "cell_type": "code",
   "execution_count": null,
   "metadata": {
    "slideshow": {
     "slide_type": "-"
    }
   },
   "outputs": [],
   "source": [
    "print(\"Dimensions and dtypes of estimates:\")\n",
    "print(df.shape)\n",
    "print(df.dtypes)"
   ]
  },
  {
   "cell_type": "markdown",
   "metadata": {
    "slideshow": {
     "slide_type": "slide"
    }
   },
   "source": [
    "### Clean data\n",
    "\n",
    "The first step to using this data is to make sure that the data is clean."
   ]
  },
  {
   "cell_type": "code",
   "execution_count": null,
   "metadata": {
    "slideshow": {
     "slide_type": "-"
    }
   },
   "outputs": [],
   "source": [
    "df.head()"
   ]
  },
  {
   "cell_type": "markdown",
   "metadata": {
    "slideshow": {
     "slide_type": "subslide"
    }
   },
   "source": [
    "**Geography types**\n",
    "\n",
    "There are currently many different geography types including `World`, `Label/Separator`, `Development Group`, `Income Group`, ..., and `Country/Area`.\n",
    "\n",
    "For what we're going to do today, we're going to focus on country level information."
   ]
  },
  {
   "cell_type": "code",
   "execution_count": null,
   "metadata": {
    "slideshow": {
     "slide_type": "-"
    }
   },
   "outputs": [],
   "source": [
    "df = df.query(\"Type == 'Country/Area'\")\n",
    "\n",
    "df.head()\n"
   ]
  },
  {
   "cell_type": "markdown",
   "metadata": {
    "slideshow": {
     "slide_type": "subslide"
    }
   },
   "source": [
    "**Renaming**\n",
    "\n",
    "Many column names aren't easily typable or usable. We will resolve this by renaming the columns and will use the conventions below for renaming our columns:\n",
    "\n",
    "* Short and memorable (using standard conventions where possible)\n",
    "* Lower case with underscores to separate words when needed\n",
    "* Consistent <- Most important"
   ]
  },
  {
   "cell_type": "code",
   "execution_count": null,
   "metadata": {
    "slideshow": {
     "slide_type": "-"
    }
   },
   "outputs": [],
   "source": [
    "renamers = {\n",
    "    \"Variant\": \"variant\",\n",
    "    \"Region, subregion, country or area *\": \"country\",\n",
    "    \"Location code\": \"alpha3\",\n",
    "    \"Type\": \"type\",\n",
    "    \"Year\": \"year\"\n",
    "}\n",
    "\n",
    "# Rename the columns and drop type column (since we've already restricted\n",
    "# to just countries)\n",
    "df = df.rename(\n",
    "    columns=renamers\n",
    ").drop(\n",
    "    [\"type\"], axis=1\n",
    ")\n",
    "\n",
    "df.head()\n"
   ]
  },
  {
   "cell_type": "code",
   "execution_count": null,
   "metadata": {},
   "outputs": [],
   "source": [
    "# There were missing years in certain columsn but we've eliminated them\n",
    "# so now we can move the year back to an integer as it should be\n",
    "df[\"year\"] = df[\"year\"].astype(int)"
   ]
  },
  {
   "cell_type": "markdown",
   "metadata": {
    "slideshow": {
     "slide_type": "subslide"
    }
   },
   "source": [
    "**Reshaping**\n",
    "\n",
    "The data currently has one column for each age group. We'll update the data to be a long-form rather than wide-form to make it \"tidy\""
   ]
  },
  {
   "cell_type": "code",
   "execution_count": null,
   "metadata": {
    "slideshow": {
     "slide_type": "-"
    }
   },
   "outputs": [],
   "source": [
    "df = df.melt(id_vars=[\"variant\", \"country\", \"alpha3\", \"year\"], var_name=\"age\")\n",
    "\n",
    "df.head()\n"
   ]
  },
  {
   "cell_type": "markdown",
   "metadata": {
    "slideshow": {
     "slide_type": "subslide"
    }
   },
   "source": [
    "**Population sizes**\n",
    "\n",
    "Let's focus on countries that had more than 50,000,000 people in 2010, 2015, and 2020 according to the estimates data.\n",
    "\n",
    "In order to do this, we're going to use a pivot table to determine how many people were in each country during each year and then use boolean selection"
   ]
  },
  {
   "cell_type": "code",
   "execution_count": null,
   "metadata": {
    "slideshow": {
     "slide_type": "-"
    }
   },
   "outputs": [],
   "source": [
    "# Sum up over all age-groups\n",
    "pop_sizes = (\n",
    "    df.query(\"variant == 'Estimates'\")\n",
    "      .pivot_table(index=\"country\", columns=\"year\", values=\"value\", aggfunc=\"sum\")\n",
    ")\n",
    "\n",
    "# Get list of the countries with more than 50m people\n",
    "countries_pop_gt_50m_bool = (pop_sizes.loc[:, 2010:2020] > 50_000).all(axis=1)\n",
    "countries_pop_gt_50m = countries_pop_gt_50m_bool.index[countries_pop_gt_50m_bool].tolist()"
   ]
  },
  {
   "cell_type": "code",
   "execution_count": null,
   "metadata": {},
   "outputs": [],
   "source": [
    "countries_pop_gt_50m"
   ]
  },
  {
   "cell_type": "code",
   "execution_count": null,
   "metadata": {
    "slideshow": {
     "slide_type": "-"
    }
   },
   "outputs": [],
   "source": [
    "df_gt_50m = df.query(\"country in @countries_pop_gt_50m\")\n",
    "\n",
    "df_gt_50m.head()\n"
   ]
  },
  {
   "cell_type": "markdown",
   "metadata": {
    "slideshow": {
     "slide_type": "slide"
    }
   },
   "source": [
    "### Visualizations\n",
    "\n",
    "Let's now begin visually exploring our data."
   ]
  },
  {
   "cell_type": "markdown",
   "metadata": {
    "slideshow": {
     "slide_type": "subslide"
    }
   },
   "source": [
    "**Plotting age distribution**\n",
    "\n",
    "Below, we'll begin plotting the age distributions of certain countries in different years. Let's start by plotting the age distribution in China for 1960, 1990, 2020, 2050, and 2080.\n",
    "\n",
    "To do this, we  will need `year` on the index and `age` as the columns."
   ]
  },
  {
   "cell_type": "code",
   "execution_count": null,
   "metadata": {
    "slideshow": {
     "slide_type": "-"
    }
   },
   "outputs": [],
   "source": [
    "china_sel = \"country == 'China' & (variant=='Estimates' | variant=='Medium')\"\n",
    "df_china = (\n",
    "    df.query(china_sel)\n",
    "      .pivot_table(index=\"age\", columns=\"year\", values=\"value\")\n",
    "      .loc[:, range(1960, 2100, 30)]\n",
    ")\n"
   ]
  },
  {
   "cell_type": "code",
   "execution_count": null,
   "metadata": {
    "slideshow": {
     "slide_type": "subslide"
    }
   },
   "outputs": [],
   "source": [
    "ax = df_china.plot(\n",
    "    kind=\"bar\", figsize=(10, 8), subplots=True, sharey=True,\n",
    "    legend=False\n",
    ")\n",
    "\n",
    "fig = ax[0].get_figure()\n",
    "fig.tight_layout()"
   ]
  },
  {
   "cell_type": "markdown",
   "metadata": {
    "slideshow": {
     "slide_type": "fragment"
    }
   },
   "source": [
    "What's wrong with the graph?"
   ]
  },
  {
   "cell_type": "code",
   "execution_count": null,
   "metadata": {
    "slideshow": {
     "slide_type": "fragment"
    }
   },
   "outputs": [],
   "source": [
    "ax = df_china.loc[age_cols, :].plot(\n",
    "    kind=\"bar\", figsize=(10, 8), subplots=True, sharey=True,\n",
    "    legend=False\n",
    ")\n",
    "\n",
    "fig = ax[0].get_figure()\n",
    "fig.tight_layout()"
   ]
  },
  {
   "cell_type": "markdown",
   "metadata": {
    "slideshow": {
     "slide_type": "subslide"
    }
   },
   "source": [
    "Maybe we want to see the fraction of the population in each bin rather than the number of people"
   ]
  },
  {
   "cell_type": "code",
   "execution_count": null,
   "metadata": {
    "slideshow": {
     "slide_type": "-"
    }
   },
   "outputs": [],
   "source": [
    "ax = (\n",
    "    df_china.divide(df_china.sum(axis=0), axis=1)\n",
    "            .loc[age_cols, :]\n",
    "            .plot(\n",
    "                kind=\"bar\", figsize=(10, 8), subplots=True,\n",
    "                sharey=True, legend=False, ylim=(0.0, 0.2),\n",
    "                title=\"Population Share by Age Bracket\"\n",
    "            )\n",
    ")\n",
    "\n",
    "for (i, _ax) in enumerate(ax):\n",
    "    _population_m = df_china.iloc[:, i].sum()/1000\n",
    "    _title = f\"{df_china.columns[i]}: {_population_m:.2f} million\"\n",
    "    _ax.set_title(\"\")\n",
    "    _ax.set_title(_title, loc=\"right\")\n",
    "    _ax.spines[\"right\"].set_visible(False)\n",
    "    _ax.spines[\"top\"].set_visible(False)\n",
    "\n",
    "fig = ax[0].get_figure()\n",
    "fig.tight_layout()\n"
   ]
  },
  {
   "cell_type": "markdown",
   "metadata": {
    "slideshow": {
     "slide_type": "subslide"
    }
   },
   "source": [
    "If we wanted a similar graph for another country, we could potentially copy and paste what we wrote, but, if we made minor changes then we could potentially introduce unexpected errors when trying to write them.\n",
    "\n",
    "Instead, let's write a function that creates a graph like this."
   ]
  },
  {
   "cell_type": "code",
   "execution_count": null,
   "metadata": {
    "slideshow": {
     "slide_type": "-"
    }
   },
   "outputs": [],
   "source": [
    "def age_distribution_graph(data, country, years, forecast_variant=\"Medium\"):\n",
    "    # Subset the data\n",
    "    sel = f\"country == '{country}' & (variant=='Estimates' | variant=='{forecast_variant}')\"\n",
    "    plot_df = (\n",
    "        data.query(sel)\n",
    "            .pivot_table(index=\"age\", columns=\"year\", values=\"value\")\n",
    "            .loc[:, years]\n",
    "    )\n",
    "    \n",
    "    # Create the plot\n",
    "    ax = (\n",
    "        plot_df.divide(plot_df.sum(axis=0), axis=1)\n",
    "            .loc[age_cols, :]\n",
    "            .plot(\n",
    "                kind=\"bar\", figsize=(10, 8), subplots=True,\n",
    "                sharey=True, legend=False, ylim=(0.0, 0.2),\n",
    "                title=None\n",
    "            )\n",
    "    )\n",
    "\n",
    "    for (i, _ax) in enumerate(ax):\n",
    "        _population_m = plot_df.iloc[:, i].sum()/1000\n",
    "        _title = f\"{plot_df.columns[i]}: {_population_m:.2f} million\"\n",
    "        _ax.set_title(\"\")\n",
    "        _ax.set_title(_title, loc=\"right\")\n",
    "        _ax.spines[\"right\"].set_visible(False)\n",
    "        _ax.spines[\"top\"].set_visible(False)\n",
    "\n",
    "    fig = ax[0].get_figure()\n",
    "    ax[0].set_title(f\"Population Share by Age Bracket for {country}\", loc=\"left\")\n",
    "    fig.tight_layout()\n",
    "    \n",
    "    return fig\n"
   ]
  },
  {
   "cell_type": "markdown",
   "metadata": {
    "slideshow": {
     "slide_type": "slide"
    }
   },
   "source": [
    "### Population graphs"
   ]
  },
  {
   "cell_type": "code",
   "execution_count": null,
   "metadata": {
    "slideshow": {
     "slide_type": "-"
    }
   },
   "outputs": [],
   "source": [
    "years_of_interest = [1980, 1990, 2000, 2020, 2050, 2100]"
   ]
  },
  {
   "cell_type": "markdown",
   "metadata": {
    "slideshow": {
     "slide_type": "subslide"
    }
   },
   "source": [
    "**China**"
   ]
  },
  {
   "cell_type": "code",
   "execution_count": null,
   "metadata": {
    "slideshow": {
     "slide_type": "-"
    }
   },
   "outputs": [],
   "source": [
    "age_distribution_graph(df, \"China\", years_of_interest, \"Low\");"
   ]
  },
  {
   "cell_type": "code",
   "execution_count": null,
   "metadata": {
    "slideshow": {
     "slide_type": "fragment"
    }
   },
   "outputs": [],
   "source": [
    "age_distribution_graph(df, \"China\", years_of_interest, \"Medium\");"
   ]
  },
  {
   "cell_type": "code",
   "execution_count": null,
   "metadata": {
    "slideshow": {
     "slide_type": "fragment"
    }
   },
   "outputs": [],
   "source": [
    "age_distribution_graph(df, \"China\", years_of_interest, \"High\");"
   ]
  },
  {
   "cell_type": "markdown",
   "metadata": {
    "slideshow": {
     "slide_type": "subslide"
    }
   },
   "source": [
    "**India**"
   ]
  },
  {
   "cell_type": "code",
   "execution_count": null,
   "metadata": {
    "slideshow": {
     "slide_type": "-"
    }
   },
   "outputs": [],
   "source": [
    "age_distribution_graph(df, \"India\", years_of_interest, \"Low\");"
   ]
  },
  {
   "cell_type": "code",
   "execution_count": null,
   "metadata": {
    "slideshow": {
     "slide_type": "fragment"
    }
   },
   "outputs": [],
   "source": [
    "age_distribution_graph(df, \"India\", years_of_interest, \"Medium\");"
   ]
  },
  {
   "cell_type": "code",
   "execution_count": null,
   "metadata": {
    "slideshow": {
     "slide_type": "fragment"
    }
   },
   "outputs": [],
   "source": [
    "age_distribution_graph(df, \"India\", years_of_interest, \"High\");"
   ]
  },
  {
   "cell_type": "markdown",
   "metadata": {
    "slideshow": {
     "slide_type": "subslide"
    }
   },
   "source": [
    "**United States of America**"
   ]
  },
  {
   "cell_type": "code",
   "execution_count": null,
   "metadata": {
    "slideshow": {
     "slide_type": "-"
    }
   },
   "outputs": [],
   "source": [
    "age_distribution_graph(df, \"United States of America\", years_of_interest, \"Low\");"
   ]
  },
  {
   "cell_type": "code",
   "execution_count": null,
   "metadata": {
    "slideshow": {
     "slide_type": "fragment"
    }
   },
   "outputs": [],
   "source": [
    "age_distribution_graph(df, \"United States of America\", years_of_interest, \"Medium\");"
   ]
  },
  {
   "cell_type": "code",
   "execution_count": null,
   "metadata": {
    "slideshow": {
     "slide_type": "fragment"
    }
   },
   "outputs": [],
   "source": [
    "age_distribution_graph(df, \"United States of America\", years_of_interest, \"High\");"
   ]
  },
  {
   "cell_type": "markdown",
   "metadata": {
    "slideshow": {
     "slide_type": "slide"
    }
   },
   "source": [
    "## Why do we care about age distribution?\n",
    "\n",
    "Lots of reasons, but one that we (as young working-age adults) should be particularly interested in is social security programs.\n",
    "\n",
    "\n",
    "_Definition: **Dependency ratio**_\n",
    "\n",
    "> The (old-age) dependency ratio relates the number of persons aged 65 or over per 100 persons aged 15-64.\n",
    "\n",
    "We care about this measurement because it tells us roughly how many working age people there are to support those who have stopped working. As the population distribution shifts to the right (and if nothing changes), there will be fewer individuals to support the social security programs that support the old (non-working) population."
   ]
  },
  {
   "cell_type": "code",
   "execution_count": null,
   "metadata": {
    "slideshow": {
     "slide_type": "subslide"
    }
   },
   "outputs": [],
   "source": [
    "# Compute old-age dependency ratio for countries with more than\n",
    "# 50,000,000 people\n",
    "working_age = [f\"{5*i}-{5*i + 4}\" for i in range(20) if 5*i >= 15 and 5*i<65]\n",
    "old_age = [f\"{5*i}-{5*i + 4}\" for i in range(20) if 5*i>=65] + [\"100+\"]\n",
    "\n",
    "df_gt_50m.loc[:, \"age_classification\"] = \"young\"\n",
    "wa = df_gt_50m[\"age\"].isin(working_age)\n",
    "df_gt_50m.loc[wa, \"age_classification\"] = \"work\"\n",
    "oa = df_gt_50m[\"age\"].isin(old_age)\n",
    "df_gt_50m.loc[oa, \"age_classification\"] = \"old\"\n",
    "\n",
    "dr = (\n",
    "    df_gt_50m.query(\"variant == 'Estimates' | variant == 'Medium'\")\n",
    "             .pivot_table(\n",
    "                 index=[\"country\", \"year\"],\n",
    "                 columns=\"age_classification\", values=\"value\"\n",
    "             )\n",
    ")\n",
    "\n",
    "dr.loc[:, \"dep_ratio\"] = 100 * (dr.loc[:, \"old\"] / dr.loc[:, \"work\"])\n",
    "\n",
    "dr = dr[\"dep_ratio\"].unstack(level=\"country\")\n",
    "\n",
    "dr.head()\n"
   ]
  },
  {
   "cell_type": "markdown",
   "metadata": {
    "slideshow": {
     "slide_type": "subslide"
    }
   },
   "source": [
    "**Sustainable dependency ratio**\n",
    "\n",
    "Obviously the age of retirement could be adjusted which would make the dependency ratio, as we've calculated it, a worse measure of dependence. However, just as a thought experiment, let's suppose that the dependency ratio that is sustainable long term (i.e. the payments to social security are roughly the same as the social security tax collected) is 50 (which means that there are 2 workers for each person over 65).\n",
    "\n",
    "Of our countries with over 50 million citizens, how many countries will be sustainable in 2080? In 2100?"
   ]
  },
  {
   "cell_type": "code",
   "execution_count": null,
   "metadata": {
    "slideshow": {
     "slide_type": "-"
    }
   },
   "outputs": [],
   "source": [
    "fig, ax = plt.subplots(figsize=(8, 6))\n",
    "\n",
    "dr.plot(kind=\"line\", ax=ax, legend=False)\n",
    "ax.hlines(50, 1950, 2100, color=\"k\", linewidth=2.0, linestyle=\"--\")\n",
    "\n",
    "ax.spines[\"top\"].set_visible(False)\n",
    "ax.spines[\"right\"].set_visible(False)\n",
    "\n",
    "ax.set_title(\"Dependency Ratios for countries with 50m+ citizens\")"
   ]
  },
  {
   "cell_type": "code",
   "execution_count": null,
   "metadata": {
    "slideshow": {
     "slide_type": "fragment"
    }
   },
   "outputs": [],
   "source": [
    "dr_2080 = dr.loc[2080, :]\n",
    "dr_2080.index[dr_2080 < 50]"
   ]
  },
  {
   "cell_type": "code",
   "execution_count": null,
   "metadata": {
    "slideshow": {
     "slide_type": "fragment"
    }
   },
   "outputs": [],
   "source": [
    "dr_2100 = dr.loc[2100, :]\n",
    "dr_2100.index[dr_2100 < 50]"
   ]
  }
 ],
 "metadata": {
  "anaconda-cloud": {},
  "celltoolbar": "Slideshow",
  "kernelspec": {
   "display_name": "Python 3 (ipykernel)",
   "language": "python",
   "name": "python3"
  },
  "language_info": {
   "codemirror_mode": {
    "name": "ipython",
    "version": 3
   },
   "file_extension": ".py",
   "mimetype": "text/x-python",
   "name": "python",
   "nbconvert_exporter": "python",
   "pygments_lexer": "ipython3",
   "version": "3.9.7"
  }
 },
 "nbformat": 4,
 "nbformat_minor": 4
}
