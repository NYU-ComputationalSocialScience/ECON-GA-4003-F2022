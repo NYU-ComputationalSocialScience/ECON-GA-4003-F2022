{
 "cells": [
  {
   "cell_type": "markdown",
   "metadata": {
    "slideshow": {
     "slide_type": "slide"
    }
   },
   "source": [
    "# Altair: Vega-Lite in Python\n",
    "\n",
    "In this notebook we will learn about Vega-Lite in Python\n",
    "\n",
    "There are multiple Vega and Vega-Lite wrappers in Python\n",
    "\n",
    "The one we will learn about (which is also the most popular) is called `altair`\n",
    "\n",
    "The purpose of this notebook is to introduce the core concepts of Altair\n",
    "\n",
    "Further exploration and experimentation will be left as an exercise\n",
    "\n",
    "> Note: we borrow heavily from the [official documentation](https://altair-viz.github.io/getting_started/overview.html) in this notebook. We strongly encourage you to review the documentation yourself for more examples and details on how to utilize altair in your workflow"
   ]
  },
  {
   "cell_type": "code",
   "execution_count": null,
   "metadata": {},
   "outputs": [],
   "source": [
    "# uncomment the line below and evaluate this cell to install altair\n",
    "# %pip install --user altair vega_datasets"
   ]
  },
  {
   "cell_type": "markdown",
   "metadata": {
    "slideshow": {
     "slide_type": "slide"
    }
   },
   "source": [
    "## Overview\n",
    "\n",
    "Core concepts:\n",
    "\n",
    "- `alt.Chart`: The *container* for your chart specification. Typically all charts start with `alt.Chart(df: DataFrame)`\n",
    "- `marks`: A *type* of visual element -- perhaps a line, circle, star, bar, etc.\n",
    "- `encodings`: A *mapping* between the columns in your dataset and \"visual encoding channels\" -- perhaps x, y, color, etc."
   ]
  },
  {
   "cell_type": "markdown",
   "metadata": {
    "slideshow": {
     "slide_type": "subslide"
    }
   },
   "source": [
    "### Example: cars scatter"
   ]
  },
  {
   "cell_type": "code",
   "execution_count": null,
   "metadata": {},
   "outputs": [],
   "source": [
    "import altair as alt\n",
    "\n",
    "# load a simple dataset as a pandas DataFrame\n",
    "from vega_datasets import data\n",
    "cars = data.cars()\n",
    "cars.head()"
   ]
  },
  {
   "cell_type": "code",
   "execution_count": null,
   "metadata": {
    "slideshow": {
     "slide_type": "subslide"
    }
   },
   "outputs": [],
   "source": [
    "c_cars = alt.Chart(cars).mark_point().encode(\n",
    "    x='Horsepower',\n",
    "    y='Miles_per_Gallon',\n",
    "    color='Origin',\n",
    ").interactive()\n",
    "c_cars"
   ]
  },
  {
   "cell_type": "markdown",
   "metadata": {
    "slideshow": {
     "slide_type": "subslide"
    }
   },
   "source": [
    "## Marks and Encodings\n",
    "\n",
    "Let's dive into more detail about marks and encodings\n",
    "\n",
    "We'll use the following dataset as an example"
   ]
  },
  {
   "cell_type": "code",
   "execution_count": null,
   "metadata": {},
   "outputs": [],
   "source": [
    "import pandas as pd\n",
    "data = pd.DataFrame(\n",
    "    {\n",
    "        \"a\": list(\"CCCDDDEEE\"),\n",
    "        \"b\": [2, 7, 4, 1, 2, 6, 8, 4, 7],\n",
    "        \"c\": [1, 2, 3]*3,\n",
    "    }\n",
    ")\n",
    "\n",
    "data"
   ]
  },
  {
   "cell_type": "markdown",
   "metadata": {
    "slideshow": {
     "slide_type": "subslide"
    }
   },
   "source": [
    "### Marks\n",
    "\n",
    "The mark property is how altair tells Vega what *type* of element to draw\n",
    "\n",
    "These are set on the `Chart` object using a method named `.mark_TYPE` where `TYPE` is the type of the mark:"
   ]
  },
  {
   "cell_type": "code",
   "execution_count": null,
   "metadata": {
    "slideshow": {
     "slide_type": "fragment"
    }
   },
   "outputs": [],
   "source": [
    "alt.Chart(data).mark_point()"
   ]
  },
  {
   "cell_type": "code",
   "execution_count": null,
   "metadata": {
    "slideshow": {
     "slide_type": "fragment"
    }
   },
   "outputs": [],
   "source": [
    "alt.Chart(data).mark_rect()"
   ]
  },
  {
   "cell_type": "code",
   "execution_count": null,
   "metadata": {
    "slideshow": {
     "slide_type": "fragment"
    }
   },
   "outputs": [],
   "source": [
    "c2 = alt.Chart(data).mark_circle()\n",
    "print(type(c2))\n",
    "c2"
   ]
  },
  {
   "cell_type": "markdown",
   "metadata": {
    "slideshow": {
     "slide_type": "subslide"
    }
   },
   "source": [
    "In these examples there is actually one mark per row in the dataset (9 marks)\n",
    "\n",
    "However, all the marks are plotted on top of one another because we haven't specified where they should be plotted\n",
    "\n",
    "To fix this we need to *encode* variables (columns) of our dataset as visual channels\n",
    "\n",
    "To do this we use the `Chart.encode` method (notice that `Chart.mark_TYPE` returns `Chart`, so we can chain the `.encode` method call)"
   ]
  },
  {
   "cell_type": "markdown",
   "metadata": {
    "slideshow": {
     "slide_type": "subslide"
    }
   },
   "source": [
    "Below we'll instruct altair to map the column named `a` to the `x` channel, which controls the horizontal or x position of the mark"
   ]
  },
  {
   "cell_type": "code",
   "execution_count": null,
   "metadata": {},
   "outputs": [],
   "source": [
    "alt.Chart(data).mark_point().encode(x=\"a\")"
   ]
  },
  {
   "cell_type": "markdown",
   "metadata": {},
   "source": [
    "In this chart we can see three distinct marks\n",
    "\n",
    "There are actually three points at each of `C`, `D`, and `E`"
   ]
  },
  {
   "cell_type": "markdown",
   "metadata": {
    "slideshow": {
     "slide_type": "subslide"
    }
   },
   "source": [
    "To see all 9 points we also need to encode the `y` channel:"
   ]
  },
  {
   "cell_type": "code",
   "execution_count": null,
   "metadata": {},
   "outputs": [],
   "source": [
    "c2 = (\n",
    "    alt.Chart(data)\n",
    "    .mark_point()\n",
    "    .encode(\n",
    "        x=\"a\",\n",
    "        y=\"b\"\n",
    "    )\n",
    ")\n",
    "c2"
   ]
  },
  {
   "cell_type": "markdown",
   "metadata": {
    "slideshow": {
     "slide_type": "subslide"
    }
   },
   "source": [
    "We can now map the `c` column to another channel...\n",
    "\n",
    "> Note: `.encode` also returns a `Chart` so we can call `.encode` again to add more mappings"
   ]
  },
  {
   "cell_type": "code",
   "execution_count": null,
   "metadata": {},
   "outputs": [],
   "source": [
    "c2.encode(color=\"c\")"
   ]
  },
  {
   "cell_type": "code",
   "execution_count": null,
   "metadata": {
    "slideshow": {
     "slide_type": "subslide"
    }
   },
   "outputs": [],
   "source": [
    "c2.encode(size=\"c\")"
   ]
  },
  {
   "cell_type": "markdown",
   "metadata": {
    "slideshow": {
     "slide_type": "slide"
    }
   },
   "source": [
    "### Aggregations\n",
    "\n",
    "When specifying the encoding for the chart, we mapped keyword arguments (like `x` and `y`) into strings\n",
    "\n",
    "Above we used strings that mapped into column names\n",
    "\n",
    "Altair has a mini-language for expressing other types of operations in the strings\n",
    "\n",
    "We'll demonstrate this via examples"
   ]
  },
  {
   "cell_type": "markdown",
   "metadata": {
    "slideshow": {
     "slide_type": "subslide"
    }
   },
   "source": [
    "#### Example: Plotting mean over `a`\n",
    "\n",
    "**Want**: Plot the mean of the values in column `b`, for each value in column `a`\n",
    "\n",
    "Being pandas experts, we might first think to do a groupby then plot:"
   ]
  },
  {
   "cell_type": "code",
   "execution_count": null,
   "metadata": {
    "slideshow": {
     "slide_type": "subslide"
    }
   },
   "outputs": [],
   "source": [
    "(\n",
    "    alt.Chart(data.groupby(\"a\").mean().reset_index())\n",
    "    .mark_point()\n",
    "    .encode(x=\"a\", y=\"b\")\n",
    ")"
   ]
  },
  {
   "cell_type": "markdown",
   "metadata": {
    "slideshow": {
     "slide_type": "subslide"
    }
   },
   "source": [
    "This certainly works, but we can actually let altair do the aggregation for us:"
   ]
  },
  {
   "cell_type": "code",
   "execution_count": null,
   "metadata": {},
   "outputs": [],
   "source": [
    "c3 = (\n",
    "    alt.Chart(data)\n",
    "    .mark_point()\n",
    "    .encode(x=\"a\", y=\"average(b)\")\n",
    ")\n",
    "\n",
    "c3"
   ]
  },
  {
   "cell_type": "markdown",
   "metadata": {
    "slideshow": {
     "slide_type": "subslide"
    }
   },
   "source": [
    "There are a few benefits to doing things this way:\n",
    "\n",
    "1. The y-axis label was set to \"Average of b\" instead of just \"b\"\n",
    "2. We can leverage further Altair operations that might not be as straightforward with raw pandas then altair\n",
    "3. The aggregations or transformations happen in a context that is aware of the rest of the chart, allowing for other optimizations or conveniences (similar to setting y-axis title)"
   ]
  },
  {
   "cell_type": "markdown",
   "metadata": {
    "slideshow": {
     "slide_type": "subslide"
    }
   },
   "source": [
    "Our chart above did what we said we wanted, but looks a bit odd...\n",
    "\n",
    "Usually an aggregation like an average is represented via bars instead of points\n",
    "\n",
    "To make a bar chart instead we need to use the `rect` mark:"
   ]
  },
  {
   "cell_type": "code",
   "execution_count": null,
   "metadata": {},
   "outputs": [],
   "source": [
    "c3.mark_bar()"
   ]
  },
  {
   "cell_type": "markdown",
   "metadata": {
    "slideshow": {
     "slide_type": "subslide"
    }
   },
   "source": [
    "Another tweak we might make to this chart would be to make a horizontal bar chart\n",
    "\n",
    "To do this we need only swap the map for the `x` and `y` channels:"
   ]
  },
  {
   "cell_type": "code",
   "execution_count": null,
   "metadata": {},
   "outputs": [],
   "source": [
    "c4 = (\n",
    "    alt.Chart(data)\n",
    "    .mark_bar()\n",
    "    .encode(y=\"a\", x=\"average(b)\")\n",
    ")\n",
    "\n",
    "c4"
   ]
  },
  {
   "cell_type": "markdown",
   "metadata": {
    "slideshow": {
     "slide_type": "slide"
    }
   },
   "source": [
    "### Viewing Chart JSON\n",
    "\n",
    "The main purpose of the altair library is to make it convenient for Python users to create Vega-Lite compliant JSON specifications from pandas DataFrames\n",
    "\n",
    "Altair can report back the JSON that it generated using the `to_json` method"
   ]
  },
  {
   "cell_type": "code",
   "execution_count": null,
   "metadata": {},
   "outputs": [],
   "source": [
    "print(c4.to_json())"
   ]
  },
  {
   "cell_type": "markdown",
   "metadata": {
    "slideshow": {
     "slide_type": "subslide"
    }
   },
   "source": [
    "Viewing the chart JSON can be a useful debugging tool when trying to learn from the Altair or Vega-Lite documentation"
   ]
  },
  {
   "cell_type": "markdown",
   "metadata": {
    "slideshow": {
     "slide_type": "slide"
    }
   },
   "source": [
    "## Data in Altair\n",
    "\n",
    "Let's take a closer look at the `encoding` section of the Vega-Lite JSON for `c4` from above:"
   ]
  },
  {
   "cell_type": "code",
   "execution_count": null,
   "metadata": {
    "slideshow": {
     "slide_type": "subslide"
    }
   },
   "outputs": [],
   "source": [
    "print(c4.encoding.to_json())"
   ]
  },
  {
   "cell_type": "markdown",
   "metadata": {},
   "source": [
    "Notice that both \"x\" and \"y\" have a `type` field\n",
    "\n",
    "Vega-Lite requires that all encoding channels have a type\n",
    "\n",
    "Altair took care of these for us based on the dtype of the DataFrame column"
   ]
  },
  {
   "cell_type": "markdown",
   "metadata": {
    "slideshow": {
     "slide_type": "subslide"
    }
   },
   "source": [
    "There are 5 core types of encoding, summarized in the table below:\n",
    "\n",
    "<table class=\"docutils\" border=\"1\">\n",
    "<colgroup>\n",
    "<col width=\"16%\">\n",
    "<col width=\"19%\">\n",
    "<col width=\"65%\">\n",
    "</colgroup>\n",
    "<thead valign=\"bottom\">\n",
    "<tr class=\"row-odd\"><th class=\"head\">Data Type</th>\n",
    "<th class=\"head\">Shorthand Code</th>\n",
    "<th class=\"head\">Description</th>\n",
    "</tr>\n",
    "</thead>\n",
    "<tbody valign=\"top\">\n",
    "<tr class=\"row-even\"><td>quantitative</td>\n",
    "<td><code class=\"docutils literal\"><span class=\"pre\">Q</span></code></td>\n",
    "<td>a continuous real-valued quantity</td>\n",
    "</tr>\n",
    "<tr class=\"row-odd\"><td>ordinal</td>\n",
    "<td><code class=\"docutils literal\"><span class=\"pre\">O</span></code></td>\n",
    "<td>a discrete ordered quantity</td>\n",
    "</tr>\n",
    "<tr class=\"row-even\"><td>nominal</td>\n",
    "<td><code class=\"docutils literal\"><span class=\"pre\">N</span></code></td>\n",
    "<td>a discrete unordered category</td>\n",
    "</tr>\n",
    "<tr class=\"row-odd\"><td>temporal</td>\n",
    "<td><code class=\"docutils literal\"><span class=\"pre\">T</span></code></td>\n",
    "<td>a time or date value</td>\n",
    "</tr>\n",
    "<tr class=\"row-even\"><td>geojson</td>\n",
    "<td><code class=\"docutils literal\"><span class=\"pre\">G</span></code></td>\n",
    "<td>a geographic shape</td>\n",
    "</tr>\n",
    "</tbody>\n",
    "</table>"
   ]
  },
  {
   "cell_type": "markdown",
   "metadata": {},
   "source": [
    "Using the shorthand code we can give altair a hint about the type of our columns\n",
    "\n",
    "We'll see that the type has significant implications for some encoding channels..."
   ]
  },
  {
   "cell_type": "code",
   "execution_count": null,
   "metadata": {
    "slideshow": {
     "slide_type": "subslide"
    }
   },
   "outputs": [],
   "source": [
    "c2.encode(color=\"c:Q\").mark_bar()"
   ]
  },
  {
   "cell_type": "code",
   "execution_count": null,
   "metadata": {
    "slideshow": {
     "slide_type": "subslide"
    }
   },
   "outputs": [],
   "source": [
    "c2.encode(color=\"c:O\").mark_bar()"
   ]
  },
  {
   "cell_type": "code",
   "execution_count": null,
   "metadata": {
    "slideshow": {
     "slide_type": "subslide"
    }
   },
   "outputs": [],
   "source": [
    "c2.encode(color=\"c:N\").mark_bar()"
   ]
  },
  {
   "cell_type": "markdown",
   "metadata": {
    "slideshow": {
     "slide_type": "subslide"
    }
   },
   "source": [
    "The shorthand for specifying the type of an encoding also works when using an aggregation:"
   ]
  },
  {
   "cell_type": "code",
   "execution_count": null,
   "metadata": {},
   "outputs": [],
   "source": [
    "(\n",
    "    alt.Chart(data)\n",
    "    .mark_bar()\n",
    "    .encode(x=\"a\", y=\"average(b):Q\")\n",
    ")"
   ]
  },
  {
   "cell_type": "code",
   "execution_count": null,
   "metadata": {
    "slideshow": {
     "slide_type": "subslide"
    }
   },
   "outputs": [],
   "source": [
    "(\n",
    "    alt.Chart(data)\n",
    "    .mark_bar()\n",
    "    .encode(x=\"a\", y=\"average(b):N\")\n",
    ")"
   ]
  },
  {
   "cell_type": "code",
   "execution_count": null,
   "metadata": {
    "slideshow": {
     "slide_type": "subslide"
    }
   },
   "outputs": [],
   "source": [
    "(\n",
    "    alt.Chart(data)\n",
    "    .mark_bar()\n",
    "    .encode(x=\"a\", y=\"average(b):O\")\n",
    ")"
   ]
  },
  {
   "cell_type": "markdown",
   "metadata": {
    "slideshow": {
     "slide_type": "subslide"
    }
   },
   "source": [
    "Sometimes the `keyword=STRING` shorthand isn't flexible enough for a particular application\n",
    "\n",
    "Altair also lets you construct the encoding channels using `alt.CHANNEL` types\n",
    "\n",
    "These types are passed as unordered positional arguments before any keyword arguments\n"
   ]
  },
  {
   "cell_type": "code",
   "execution_count": null,
   "metadata": {},
   "outputs": [],
   "source": [
    "(\n",
    "    alt.Chart(data)\n",
    "    .mark_bar()\n",
    "    .encode(\n",
    "        alt.X(\"a\"), # x = \"a\"  \n",
    "        alt.Y(\"b\", aggregate=\"average\", type=\"quantitative\"),  # y=\"average(b):Q\"\n",
    "#         alt.Color(\"c\"),\n",
    "        color=\"c\",\n",
    "    )\n",
    ")"
   ]
  },
  {
   "cell_type": "markdown",
   "metadata": {
    "slideshow": {
     "slide_type": "subslide"
    }
   },
   "source": [
    "### Data from files\n",
    "\n",
    "In addition to setting data for our charts by passing in a DataFrame, we could also pass a url to a remote dataset\n",
    "\n",
    "> Note when not using a DataFrame, we **must** specify column types"
   ]
  },
  {
   "cell_type": "code",
   "execution_count": null,
   "metadata": {},
   "outputs": [],
   "source": [
    "url_cars = \"https://cdn.jsdelivr.net/npm/vega-datasets@v1.29.0/data/cars.json\"\n",
    "\n",
    "c_cars_url = alt.Chart(url_cars).mark_point().encode(\n",
    "    x='Horsepower:Q',\n",
    "    y='Miles_per_Gallon:Q',\n",
    "    color='Origin:N',\n",
    ").interactive()\n",
    "\n",
    "c_cars_url"
   ]
  },
  {
   "cell_type": "code",
   "execution_count": null,
   "metadata": {
    "slideshow": {
     "slide_type": "subslide"
    }
   },
   "outputs": [],
   "source": [
    "url_aapl = \"https://raw.githubusercontent.com/plotly/datasets/master/2014_apple_stock.csv\"\n",
    "\n",
    "c_aapl = (\n",
    "    alt.Chart(url_aapl)\n",
    "    .mark_line()\n",
    "    .encode(x=\"AAPL_x:T\", y=\"AAPL_y:Q\")\n",
    ").interactive()\n",
    "\n",
    "c_aapl"
   ]
  },
  {
   "cell_type": "markdown",
   "metadata": {
    "slideshow": {
     "slide_type": "subslide"
    }
   },
   "source": [
    "This is not much easier than generating a DataFrame using `pd.read_csv(url_aapl)` and then passing the DataFrame to Altair\n",
    "\n",
    "So, why would we do it?\n",
    "\n",
    "The benefit here is that the JSON spec for the chart can actually contain a URL which will be handled by the Vega-Lite runtime when rendering the chart\n",
    "\n",
    "With a DataFrame, all the data is written out/hard-coded into the JSON spec before Vega-Lite sees it"
   ]
  },
  {
   "cell_type": "code",
   "execution_count": null,
   "metadata": {
    "slideshow": {
     "slide_type": "subslide"
    }
   },
   "outputs": [],
   "source": [
    "print(len(c_cars.to_json()))  # not going to print the whole thing... too long"
   ]
  },
  {
   "cell_type": "code",
   "execution_count": null,
   "metadata": {},
   "outputs": [],
   "source": [
    "print(len(c_cars_url.to_json()))"
   ]
  },
  {
   "cell_type": "code",
   "execution_count": null,
   "metadata": {},
   "outputs": [],
   "source": [
    "print(c_cars_url.to_json())"
   ]
  },
  {
   "cell_type": "code",
   "execution_count": null,
   "metadata": {},
   "outputs": [],
   "source": [
    "print(c_cars.to_json())"
   ]
  },
  {
   "cell_type": "markdown",
   "metadata": {},
   "source": [
    "The smaller spec size makes a Vega-Lite chart more suitable for sharing, loading into websites, or tracking with version control systems"
   ]
  },
  {
   "cell_type": "markdown",
   "metadata": {
    "slideshow": {
     "slide_type": "slide"
    }
   },
   "source": [
    "### Other features\n",
    "\n",
    "There are many other features we didn't cover:\n",
    "\n",
    "- Chart Types: maps, candlesticks, compound chart types (multiple marks), heatmaps, area chart, scatter charts, etc...\n",
    "- Compound Charts: multiple subplots in one figure\n",
    "- Interactivity: linked brushing\n",
    "- Customization: colors, labels\n",
    "\n",
    "The best way to learn these concepts is by practice and study of the documentation\n",
    "\n",
    "We'll provide opportunity for both on the upcoming homework"
   ]
  },
  {
   "cell_type": "markdown",
   "metadata": {
    "slideshow": {
     "slide_type": "slide"
    }
   },
   "source": [
    "### Saving to webpage\n",
    "\n",
    "The last thing we will show is how straightforward it is to include an Altair chart on a webpage\n",
    "\n",
    "The `Chart` type has a `to_html` method that will generate an html document\n",
    "\n",
    "This can be used directly as a standalone webpage, or parts can be copied and pasted into an existing page\n",
    "\n"
   ]
  },
  {
   "cell_type": "code",
   "execution_count": null,
   "metadata": {
    "slideshow": {
     "slide_type": "subslide"
    }
   },
   "outputs": [],
   "source": [
    "print(c_aapl.to_html())"
   ]
  },
  {
   "cell_type": "code",
   "execution_count": null,
   "metadata": {},
   "outputs": [],
   "source": [
    "with open(\"aapl_altair_chart.html\", \"w\") as f:\n",
    "    f.write(c_aapl.to_html())"
   ]
  }
 ],
 "metadata": {
  "kernelspec": {
   "display_name": "Python 3",
   "language": "python",
   "name": "python3"
  },
  "language_info": {
   "codemirror_mode": {
    "name": "ipython",
    "version": 3
   },
   "file_extension": ".py",
   "mimetype": "text/x-python",
   "name": "python",
   "nbconvert_exporter": "python",
   "pygments_lexer": "ipython3",
   "version": "3.8.8"
  }
 },
 "nbformat": 4,
 "nbformat_minor": 4
}
