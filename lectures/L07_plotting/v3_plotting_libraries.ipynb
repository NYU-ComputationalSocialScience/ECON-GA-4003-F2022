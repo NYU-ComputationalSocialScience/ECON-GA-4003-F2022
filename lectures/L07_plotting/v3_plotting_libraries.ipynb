{
 "cells": [
  {
   "cell_type": "markdown",
   "metadata": {
    "slideshow": {
     "slide_type": "slide"
    }
   },
   "source": [
    "# Plotting Libraries\n",
    "\n",
    "**Prerequisites**\n",
    "\n",
    "- Pandas\n",
    "- Matplotlib\n",
    "\n",
    "**Outcomes**\n",
    "\n",
    "- Be exposed to the large variety of plotting packages in Python\n",
    "- Understand the benefits of web based plotting libraries"
   ]
  },
  {
   "cell_type": "markdown",
   "metadata": {
    "slideshow": {
     "slide_type": "slide"
    }
   },
   "source": [
    "## Plotting in Python\n",
    "\n",
    "There are *many* packages for plotting in Python\n",
    "\n",
    "[Jake Vanderplas](http://vanderplas.com/) summarized the Python plotting landscape in a [2017 talk](https://www.youtube.com/watch?v=FytuB8nFHPQ)\n",
    "\n",
    "This graphic was one of his slides:\n",
    "\n",
    "![python plotting landscape](https://phbs-css.s3-ap-southeast-1.amazonaws.com/python_plotting_landscape.png)"
   ]
  },
  {
   "cell_type": "markdown",
   "metadata": {
    "slideshow": {
     "slide_type": "slide"
    }
   },
   "source": [
    "## Matplotlib\n",
    "\n",
    "Matplotlib started as one man's mission to make MATLAB quality plots in Python\n",
    "\n",
    "To date it is the most widely used plotting package in Python\n",
    "\n",
    "It excels at creating publication quality plots and is integrated in to many other libraries:\n",
    "\n",
    "- [Pandas](https://pandas.pydata.org/pandas-docs/stable/user_guide/visualization.html) `.plot` method for Series and DataFrame uses matplotlib\n",
    "- [Seaborn](https://seaborn.pydata.org/) is built on matplotlib\n",
    "- [sklearn](https://scikit-learn.org/stable/visualizations.html) uses matplotlib for its built-in visualizaitons"
   ]
  },
  {
   "cell_type": "markdown",
   "metadata": {
    "slideshow": {
     "slide_type": "subslide"
    }
   },
   "source": [
    "### Static vs. Interactive\n",
    "\n",
    "Matplotlib is excellent at doing its job of creating print-worthy charts\n",
    "\n",
    "However, since matplotlib was created (2003), many huge techonology advances have occured:\n",
    "\n",
    "- Internet connected devices are widespread: smartphones, tablets, laptops\n",
    "- Websites have evolved into interactive applicatoins, rather than digital version of printed content\n",
    "- Computers and computing devices are more powerful\n",
    "\n",
    "These (and other) phenomena have led to a rise of web-based plotting tools"
   ]
  },
  {
   "cell_type": "markdown",
   "metadata": {
    "slideshow": {
     "slide_type": "slide"
    }
   },
   "source": [
    "## Web based plotting\n",
    "\n",
    "Web based plotting libraries are written in another programming language: javascript\n",
    "\n",
    "Javascript is the language of the internet and what powers the vast majority of online applications\n",
    "\n",
    "Javascript based plots have a few distinct advantages over static plots (like those produced by matplotlib):\n",
    "\n",
    "- Interactivity: zoom, pan, toggle, rotate, tooltips, etc.\n",
    "- Responsive: (can) look great on devices of all sizes\n",
    "- Sharable: embed on a website, in social media post, mobile application"
   ]
  },
  {
   "cell_type": "markdown",
   "metadata": {
    "slideshow": {
     "slide_type": "subslide"
    }
   },
   "source": [
    "### `d3`\n",
    "\n",
    "One of the original and most powerful visualization libraries for javascript is `d3`\n",
    "\n",
    "`d3` stands for **d**ata **d**riven **d**ocuments\n",
    "\n",
    "From the `d3` [homepage](https://d3js.org/)\n",
    "\n",
    "> D3.js is a JavaScript library for manipulating documents based on data. D3 helps you bring data to life using HTML, SVG, and CSS. D3’s emphasis on web standards gives you the full capabilities of modern browsers without tying yourself to a proprietary framework, combining powerful visualization components and a data-driven approach to DOM manipulation. "
   ]
  },
  {
   "cell_type": "markdown",
   "metadata": {
    "slideshow": {
     "slide_type": "subslide"
    }
   },
   "source": [
    "With `d3` you can create just about any visualization\n",
    "\n",
    "Let's see some [examples](https://observablehq.com/@d3/gallery)\n",
    "\n",
    "- [Candlestick Chart](https://observablehq.com/@d3/candlestick-chart)\n",
    "- [Line Charts](https://observablehq.com/@mbostock/inequality-in-american-cities)\n",
    "- [Heatmaps](https://observablehq.com/@mbostock/electric-usage-2019)\n",
    "- [Calandar Views](https://observablehq.com/@d3/calendar-view)\n",
    "- [Arc Diagram](https://observablehq.com/@d3/arc-diagram)\n",
    "- [Hexbin Map](https://observablehq.com/@d3/hexbin-map)\n",
    "- [Bar Charts](https://observablehq.com/@d3/bar-chart-race)\n",
    "- [Map (Choropleth)](https://observablehq.com/@d3/world-choropleth)\n",
    "- [Map (custom)](https://observablehq.com/@d3/spike-map?collection=@d3/d3-geo)"
   ]
  },
  {
   "cell_type": "markdown",
   "metadata": {},
   "source": [
    "This power comes at a cost...\n",
    "\n",
    "d3 by itself is rather low-level, meaning you write more code than you would with a higher level package\n",
    "\n",
    "For this reason, many libraries have been created that build on `d3` to make things easier for the user\n",
    "\n",
    "Two of these are Vega and plotly\n",
    "\n",
    "Both Vega and plotly have corresponding Python packages, but we'll first talk about the native javascript version to understand their unique features"
   ]
  },
  {
   "cell_type": "markdown",
   "metadata": {},
   "source": [
    "## Vega and Vega-Lite\n",
    "\n",
    "Vega is a research product out of the University of Washington's Interactive Data Lab (UW IDL)\n",
    "\n",
    "From the [Vega homepage](https://vega.github.io/vega/)\n",
    "\n",
    "> Vega is a visualization grammar, a declarative language for creating, saving, and sharing interactive visualization designs. With Vega, you can describe the visual appearance and interactive behavior of a visualization in a JSON format, and generate web-based views using Canvas or SVG.\n",
    ">\n",
    "> Vega provides basic building blocks for a wide variety of visualization designs: data loading and transformation, scales, map projections, axes, legends, and graphical marks such as rectangles, lines, plotting symbols, etc. Interaction techniques can be specified using reactive signals that dynamically modify a visualization in response to input event streams."
   ]
  },
  {
   "cell_type": "markdown",
   "metadata": {
    "slideshow": {
     "slide_type": "subslide"
    }
   },
   "source": [
    "### A Visualization Grammar\n",
    "\n",
    "The main goal of the Vega team is to provide a *grammar* for specifying visualizations\n",
    "\n",
    "This grammar is used to build a specification of a chart\n",
    "\n",
    "The specification is then applied to a dataset to generate a visualization\n",
    "\n",
    "With Vega rather complicated charts can be created from a set of primitives\n",
    "\n",
    "This is similar to how written or spoken language can be constructed from a core set of concepts: noun, adjective, verb, punctuation, etc."
   ]
  },
  {
   "cell_type": "markdown",
   "metadata": {
    "slideshow": {
     "slide_type": "subslide"
    }
   },
   "source": [
    "### Vega-Lite\n",
    "\n",
    "The Vega grammar seeks to be very flexible, and as such can also be thought of as low level\n",
    "\n",
    "To make things even easier for the user, the UW IDL team created a second grammar called Vega Lite"
   ]
  },
  {
   "cell_type": "markdown",
   "metadata": {
    "slideshow": {
     "slide_type": ""
    }
   },
   "source": [
    "#### Example\n",
    "\n",
    "The following bar chart was created with Vega Lite\n",
    "\n",
    "![horizontal stacked bar](https://phbs-css.s3-ap-southeast-1.amazonaws.com/vega_lite_horizontal_stacked_bar.png)\n",
    "\n",
    "\n",
    "The *specification* for this chart is:\n",
    "\n",
    "```json\n",
    "{\n",
    "  \"$schema\": \"https://vega.github.io/schema/vega-lite/v4.json\",\n",
    "  \"data\": {\"url\": \"data/barley.json\"},\n",
    "  \"mark\": \"bar\",\n",
    "  \"encoding\": {\n",
    "    \"x\": {\"aggregate\": \"sum\", \"field\": \"yield\"},\n",
    "    \"y\": {\"field\": \"variety\"},\n",
    "    \"color\": {\"field\": \"site\"}\n",
    "  }\n",
    "}\n",
    "```\n",
    "\n",
    "Notice we didn't specify *how* or *when* to add chart elements, only what the end result should look like..."
   ]
  },
  {
   "cell_type": "markdown",
   "metadata": {
    "slideshow": {
     "slide_type": "subslide"
    }
   },
   "source": [
    "### Declarative vs Imperative\n",
    "\n",
    "The Vega team notes that their library is *declarative*\n",
    "\n",
    "This is a programming paradigm where the user specifies *what* should be done, but not *how* or *when*\n",
    "\n",
    "The paradigm we are used to working with is called *imperative*\n",
    "\n",
    "With *imperative* programming we provide the computer a sequence of tasks to perform, we are building up our product one instruction at a time\n"
   ]
  },
  {
   "cell_type": "markdown",
   "metadata": {
    "slideshow": {
     "slide_type": ""
    }
   },
   "source": [
    "#### Example\n",
    "\n",
    "As a non-programming example, consider the task of pouring a bowl of cold cereal with milk\n",
    "\n",
    "A declarative way of specifying the end result might be:\n",
    "\n",
    "```json\n",
    "{\n",
    "    \"bowl\": {\n",
    "        \"containing\": [\n",
    "            \"cereal\",\n",
    "            \"milk\",\n",
    "            \"spoon\"\n",
    "        ]\n",
    "    }\n",
    "}\n",
    "```\n",
    "\n",
    "An imperative set of instructions for achieving the end result might be:\n",
    "\n",
    "```json\n",
    "[\n",
    "    \"Get bowl from cupboard\",\n",
    "    \"Get cereal from pantry\",\n",
    "    \"Pour cereal into bowl\",\n",
    "    \"Get milk from fridge\",\n",
    "    \"Pour milk into bowl\",\n",
    "    \"Get spoon from drawer\",\n",
    "    \"Put spoon in bowl\",\n",
    "]\n",
    "```\n",
    "\n",
    "Notice that we had to list out *what* we wanted as well as *how* and *when* to do things\n",
    "\n",
    "We'll see more examples of this later on today..."
   ]
  },
  {
   "cell_type": "markdown",
   "metadata": {
    "slideshow": {
     "slide_type": "slide"
    }
   },
   "source": [
    "## Plotly\n",
    "\n",
    "Plotly is another javascript based plotting library that builds on d3\n",
    "\n",
    "From their [plotly.js homepage](https://plotly.com/javascript/):\n",
    "\n",
    "> Built on top of d3.js and stack.gl, Plotly.js is a high-level, declarative charting library. plotly.js ships with over 40 chart types, including 3D charts, statistical graphs, and SVG maps. \n",
    "\n",
    "Plotly has a diverse set of chart types such as basic charts, statistical charts, finance charts, scientific charts, maps, 3d charts, and more"
   ]
  },
  {
   "cell_type": "markdown",
   "metadata": {
    "slideshow": {
     "slide_type": "subslide"
    }
   },
   "source": [
    "### Plotly Features\n",
    "\n",
    "Plotly is declarative like Vega-Lite, but does not attempt to create a grammar for visualizations\n",
    "\n",
    "Instead, plotly charts are created by directly setting features or attributes of the chart\n",
    "\n",
    "Plotly will feel more familiar than Vega for users of matplotlib or other imperative plotting libraries"
   ]
  },
  {
   "cell_type": "markdown",
   "metadata": {
    "slideshow": {
     "slide_type": "subslide"
    }
   },
   "source": [
    "### Example\n",
    "\n",
    "See the [example candlestick chart](https://plotly.com/javascript/candlestick-charts/#candlestick-chart-without-rangeslider) in the plotly documentation\n",
    "\n",
    "The (javascript) code below shows how to create this chart:\n",
    "\n",
    "```js\n",
    "Plotly.d3.csv('https://raw.githubusercontent.com/plotly/datasets/master/finance-charts-apple.csv', function(err, rows){\n",
    "\n",
    "function unpack(rows, key) {\n",
    "  return rows.map(function(row) {\n",
    "    return row[key];\n",
    "  });\n",
    "}\n",
    "\n",
    "var trace = {\n",
    "  x: unpack(rows, 'Date'),\n",
    "  close: unpack(rows, 'AAPL.Close'),\n",
    "  high: unpack(rows, 'AAPL.High'),\n",
    "  low: unpack(rows, 'AAPL.Low'),\n",
    "  open: unpack(rows, 'AAPL.Open'),\n",
    "\n",
    "  // cutomise colors\n",
    "  increasing: {line: {color: 'black'}},\n",
    "  decreasing: {line: {color: 'red'}},\n",
    "\n",
    "  type: 'candlestick',\n",
    "  xaxis: 'x',\n",
    "  yaxis: 'y'\n",
    "};\n",
    "\n",
    "var data = [trace];\n",
    "\n",
    "var layout = {\n",
    "  dragmode: 'zoom',\n",
    "  showlegend: false,\n",
    "  xaxis: {\n",
    "    rangeslider: {\n",
    "\t\t visible: false\n",
    "\t }\n",
    "  }\n",
    "};\n",
    "\n",
    "Plotly.newPlot('myDiv', data, layout);\n",
    "});\n",
    "```\n"
   ]
  },
  {
   "cell_type": "markdown",
   "metadata": {
    "slideshow": {
     "slide_type": "slide"
    }
   },
   "source": [
    "## Web in Python\n",
    "\n",
    "As shown above, both Vega and Plotly are based on javascript\n",
    "\n",
    "For both Vega and Plotly, there are Python packages that allow you to write Python code and leverage the javascript libraries for rendering the plots\n",
    "\n",
    "In this way we can have the best of both worlds: we keep our Python tools and packages, but get the modern interactivity from web-based visualization libraries"
   ]
  },
  {
   "cell_type": "code",
   "execution_count": null,
   "metadata": {
    "slideshow": {
     "slide_type": "slide"
    }
   },
   "outputs": [],
   "source": []
  },
  {
   "cell_type": "code",
   "execution_count": null,
   "metadata": {},
   "outputs": [],
   "source": []
  },
  {
   "cell_type": "code",
   "execution_count": null,
   "metadata": {},
   "outputs": [],
   "source": []
  },
  {
   "cell_type": "code",
   "execution_count": null,
   "metadata": {},
   "outputs": [],
   "source": []
  },
  {
   "cell_type": "code",
   "execution_count": null,
   "metadata": {},
   "outputs": [],
   "source": []
  },
  {
   "cell_type": "code",
   "execution_count": null,
   "metadata": {},
   "outputs": [],
   "source": []
  },
  {
   "cell_type": "code",
   "execution_count": null,
   "metadata": {},
   "outputs": [],
   "source": []
  },
  {
   "cell_type": "code",
   "execution_count": null,
   "metadata": {},
   "outputs": [],
   "source": []
  }
 ],
 "metadata": {
  "kernelspec": {
   "display_name": "Python 3",
   "language": "python",
   "name": "python3"
  },
  "language_info": {
   "codemirror_mode": {
    "name": "ipython",
    "version": 3
   },
   "file_extension": ".py",
   "mimetype": "text/x-python",
   "name": "python",
   "nbconvert_exporter": "python",
   "pygments_lexer": "ipython3",
   "version": "3.8.8"
  }
 },
 "nbformat": 4,
 "nbformat_minor": 4
}
