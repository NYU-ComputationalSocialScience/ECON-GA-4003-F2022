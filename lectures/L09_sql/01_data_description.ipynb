{
 "cells": [
  {
   "cell_type": "markdown",
   "metadata": {
    "slideshow": {
     "slide_type": "slide"
    }
   },
   "source": [
    "# Data Description: Instacart Dataset\n",
    "\n",
    "[Instacart](https://www.instacart.com/) is an online grocery retailer that sells and deliver grocery products. The data that we will use today comes from the an open sourced subset of 3 million Instacart orders and contains data on what was ordered and which customer ordered it.\n"
   ]
  },
  {
   "cell_type": "code",
   "execution_count": null,
   "metadata": {
    "slideshow": {
     "slide_type": "-"
    }
   },
   "outputs": [],
   "source": [
    "import pandas as pd"
   ]
  },
  {
   "cell_type": "markdown",
   "metadata": {
    "slideshow": {
     "slide_type": "slide"
    }
   },
   "source": [
    "## Data files\n",
    "\n",
    "The dataset was released as a part of a Kaggle competition. Instacart described the dataset in the competition description by saying,\n",
    "\n",
    "> The dataset for this competition is a relational set of files describing customers' orders over time. The goal of the competition is to predict which products will be in a user's next order. The dataset is anonymized and contains a sample of over 3 million grocery orders from more than 200,000 Instacart users. For each user, we provide between 4 and 100 of their orders, with the sequence of products purchased in each order. We also provide the week and hour of day the order was placed, and a relative measure of time between orders. For more information, see the blog post accompanying its [public release](https://tech.instacart.com/3-million-instacart-orders-open-sourced-d40d29ead6f2).\n",
    "\n",
    "“The Instacart Online Grocery Shopping Dataset 2017”, Accessed from https://www.kaggle.com/c/instacart-market-basket-analysis/data on 2020-12-27"
   ]
  },
  {
   "cell_type": "markdown",
   "metadata": {
    "slideshow": {
     "slide_type": "subslide"
    }
   },
   "source": [
    "### Aisles: `aisles.csv`\n",
    "\n",
    "This file contains metadata about the aisles:\n",
    "\n",
    "* `aisle_id`: The aisle identifier\n",
    "* `aisle`: A string name describing the aisle"
   ]
  },
  {
   "cell_type": "code",
   "execution_count": null,
   "metadata": {
    "slideshow": {
     "slide_type": "-"
    }
   },
   "outputs": [],
   "source": [
    "aisle = pd.read_csv(\"https://compsosci-resources.s3.amazonaws.com/instacart/aisles.csv\")\n",
    "aisle.to_parquet(\"aisles.parquet\")\n"
   ]
  },
  {
   "cell_type": "code",
   "execution_count": null,
   "metadata": {
    "slideshow": {
     "slide_type": "-"
    }
   },
   "outputs": [],
   "source": [
    "aisle.tail()"
   ]
  },
  {
   "cell_type": "markdown",
   "metadata": {
    "slideshow": {
     "slide_type": "subslide"
    }
   },
   "source": [
    "### Departments: `department.csv`\n",
    "\n",
    "This file contains metadata about the departments:\n",
    "\n",
    "* `department_id`: The department identifier\n",
    "* `department`: A string name describing the department"
   ]
  },
  {
   "cell_type": "code",
   "execution_count": null,
   "metadata": {
    "slideshow": {
     "slide_type": "-"
    }
   },
   "outputs": [],
   "source": [
    "department = pd.read_csv(\"https://compsosci-resources.s3.amazonaws.com/instacart/departments.csv\")\n",
    "department.to_parquet(\"departments.parquet\")"
   ]
  },
  {
   "cell_type": "code",
   "execution_count": null,
   "metadata": {
    "slideshow": {
     "slide_type": "-"
    }
   },
   "outputs": [],
   "source": [
    "department.tail()"
   ]
  },
  {
   "cell_type": "markdown",
   "metadata": {
    "slideshow": {
     "slide_type": "subslide"
    }
   },
   "source": [
    "### Products: `products.csv`\n",
    "\n",
    "This file contains metadata about each of the products:\n",
    "\n",
    "* `product_id`: An identifier for the product that was purchased\n",
    "* `product_name`: A string name for the product's description\n",
    "* `aisle_id`: The aisle identifier for the \"aisle\" that the item is from\n",
    "* `department_id`: The department identifier for the department that the item is from"
   ]
  },
  {
   "cell_type": "code",
   "execution_count": null,
   "metadata": {
    "slideshow": {
     "slide_type": "-"
    }
   },
   "outputs": [],
   "source": [
    "products = pd.read_csv(\"https://compsosci-resources.s3.amazonaws.com/instacart/products.csv\")\n",
    "products.to_parquet(\"products.parquet\")"
   ]
  },
  {
   "cell_type": "code",
   "execution_count": null,
   "metadata": {
    "slideshow": {
     "slide_type": "-"
    }
   },
   "outputs": [],
   "source": [
    "products.head()"
   ]
  },
  {
   "cell_type": "code",
   "execution_count": null,
   "metadata": {
    "slideshow": {
     "slide_type": "-"
    }
   },
   "outputs": [],
   "source": [
    "# Count number of items with a particular aisle/department\n",
    "products.groupby(\n",
    "    [\"aisle_id\", \"department_id\"]\n",
    ")[\"product_name\"].count().sort_values(\n",
    "    ascending=False\n",
    ").reset_index().merge(\n",
    "    aisle, on=\"aisle_id\", how=\"left\"\n",
    ").merge(\n",
    "    department, on=\"department_id\", how=\"left\"\n",
    ").sort_values(\n",
    "    [\"aisle_id\", \"department_id\"]\n",
    ").head(25)\n"
   ]
  },
  {
   "cell_type": "markdown",
   "metadata": {
    "slideshow": {
     "slide_type": "subslide"
    }
   },
   "source": [
    "### Orders: `orders.csv`\n",
    "\n",
    "This file contains meta information about each of the 3 million orders that are covered in the dataset.\n",
    "\n",
    "* `order_id`: A unique identifier for each order made\n",
    "* `user_id`: A unique identifier for each consumer that made one of the 3 million orders\n",
    "* `eval_set`: Instacart released this data for machine learning and classified orders into `prior`, `train`, and `test`\n",
    "* `order_number`: The order in which the individual made the given orders\n",
    "* `order_dow`: An integer between 0 and 6 denoting the day of the week the order was made\n",
    "* `order_hour_of_day`: An integer between 0 and 23 denoting the hour of the day that the order was made\n",
    "* `days_since_prior_order`: An integer that represents how many days it has been since a customers previous order\n"
   ]
  },
  {
   "cell_type": "markdown",
   "metadata": {
    "slideshow": {
     "slide_type": "fragment"
    }
   },
   "source": [
    "**What is not included?**\n",
    "\n",
    "Instacart does not disclose the exact date of the transactions or the geography in which the transaction took place.\n"
   ]
  },
  {
   "cell_type": "code",
   "execution_count": null,
   "metadata": {
    "slideshow": {
     "slide_type": "-"
    }
   },
   "outputs": [],
   "source": [
    "orders = pd.read_csv(\"https://compsosci-resources.s3.amazonaws.com/instacart/orders.csv\")\n",
    "orders.to_parquet(\"orders.parquet\")"
   ]
  },
  {
   "cell_type": "code",
   "execution_count": null,
   "metadata": {
    "slideshow": {
     "slide_type": "-"
    }
   },
   "outputs": [],
   "source": [
    "orders.describe()"
   ]
  },
  {
   "cell_type": "code",
   "execution_count": null,
   "metadata": {
    "slideshow": {
     "slide_type": "-"
    }
   },
   "outputs": [],
   "source": [
    "orders.head()"
   ]
  },
  {
   "cell_type": "markdown",
   "metadata": {
    "slideshow": {
     "slide_type": "subslide"
    }
   },
   "source": [
    "### Order Products: `order_products__prior.csv` and `order_products__train.csv`\n",
    "\n",
    "This file contains detailed information about each of the orders:\n",
    "\n",
    "* `order_id`: A unique identifier that describes which order the purchase belonged to\n",
    "* `product_id`: An identifier for the product that was purchased\n",
    "* `add_to_cart_order`: The order in which the items were placed in the cart\n",
    "* `reordered`: Was the item reordered\n"
   ]
  },
  {
   "cell_type": "markdown",
   "metadata": {
    "slideshow": {
     "slide_type": "fragment"
    }
   },
   "source": [
    "**What is not included?**\n",
    "\n",
    "Instacart does not disclose two pieces of information that would typically be important:\n",
    "\n",
    "1. Price paid for a product\n",
    "2. Quantity purchased"
   ]
  },
  {
   "cell_type": "code",
   "execution_count": null,
   "metadata": {
    "slideshow": {
     "slide_type": "-"
    }
   },
   "outputs": [],
   "source": [
    "prior_orders = pd.read_csv(\"https://compsosci-resources.s3.amazonaws.com/instacart/order_products__prior.csv\")\n",
    "\n",
    "prior_orders.describe()"
   ]
  },
  {
   "cell_type": "code",
   "execution_count": null,
   "metadata": {
    "slideshow": {
     "slide_type": "-"
    }
   },
   "outputs": [],
   "source": [
    "train_orders = pd.read_csv(\"https://compsosci-resources.s3.amazonaws.com/instacart/order_products__train.csv\")\n",
    "\n",
    "train_orders.describe()"
   ]
  },
  {
   "cell_type": "code",
   "execution_count": null,
   "metadata": {
    "slideshow": {
     "slide_type": "-"
    }
   },
   "outputs": [],
   "source": [
    "order_products = pd.concat([prior_orders, train_orders], axis=0, ignore_index=True)\n",
    "order_products.to_parquet(\"order_products_all.parquet\")\n"
   ]
  },
  {
   "cell_type": "markdown",
   "metadata": {
    "slideshow": {
     "slide_type": "subslide"
    }
   },
   "source": [
    "## Relational nature of the files\n",
    "\n",
    "These files are organized in a way that each one contains information that either references or is referenced by one of the other files.\n",
    "\n",
    "* `aisles.csv` and `departments.csv` are used to provide additional information and context for `products.csv`.\n",
    "* `products.csv` describes the products that appear in `order_products__prior.csv` and `order_products__train.csv`.\n",
    "* `orders.csv` contains information about when and who made the orders that show up in `order_products__prior.csv` and `order_products__train.csv`."
   ]
  },
  {
   "cell_type": "markdown",
   "metadata": {
    "slideshow": {
     "slide_type": "fragment"
    }
   },
   "source": [
    " Let's explicitly write down these relationships to set the stage for the coming lecture about SQL."
   ]
  },
  {
   "cell_type": "markdown",
   "metadata": {
    "slideshow": {
     "slide_type": "slide"
    }
   },
   "source": [
    "## Most frequently reordered?\n",
    "\n",
    "Instacart was particularly interested in determining whether certain items (or groups of items) were reordered more than others.\n",
    "\n",
    "Let's explore what items/groups were the most reordered -- We will do this by computing the fraction of \"reorders\" for a particular item/group ($j$) by computing:\n",
    "\n",
    "$$\\gamma_j = \\frac{\\sum_i \\sum_{t_i} \\mathbb{1}_{\\text{reordered } j}}{\\sum_i \\sum_{t_i} \\mathbb{1}_{\\text{ordered } j}}$$"
   ]
  },
  {
   "cell_type": "code",
   "execution_count": null,
   "metadata": {},
   "outputs": [],
   "source": [
    "order_product_user = order_products.merge(\n",
    "    orders.loc[:, [\"order_id\", \"user_id\", \"order_number\", \"days_since_prior_order\"]],\n",
    "    how=\"left\", on=\"order_id\"\n",
    ")"
   ]
  },
  {
   "cell_type": "code",
   "execution_count": null,
   "metadata": {},
   "outputs": [],
   "source": [
    "order_product_user.sort_values([\"user_id\", \"order_number\", \"add_to_cart_order\"])"
   ]
  },
  {
   "cell_type": "markdown",
   "metadata": {
    "slideshow": {
     "slide_type": "subslide"
    }
   },
   "source": [
    "**Most reordered products**\n"
   ]
  },
  {
   "cell_type": "code",
   "execution_count": null,
   "metadata": {
    "slideshow": {
     "slide_type": "-"
    }
   },
   "outputs": [],
   "source": [
    "mrp = order_product_user.loc[\n",
    "    ~order_product_user[\"days_since_prior_order\"].isna(), :\n",
    "].groupby(\n",
    "    \"product_id\"\n",
    ").agg(\n",
    "    {\"add_to_cart_order\": \"count\", \"reordered\": \"sum\"}\n",
    ").query(\n",
    "    \"reordered > 10\"\n",
    ").rename(\n",
    "    columns={\"add_to_cart_order\": \"norder\", \"reordered\": \"nreorder\"}\n",
    ").assign(\n",
    "    frac_reorder=lambda x: x[\"nreorder\"] / x[\"norder\"]\n",
    ").sort_values(\n",
    "    \"frac_reorder\", ascending=False\n",
    ").merge(products, on=\"product_id\", how=\"left\")"
   ]
  },
  {
   "cell_type": "code",
   "execution_count": null,
   "metadata": {
    "slideshow": {
     "slide_type": "-"
    }
   },
   "outputs": [],
   "source": [
    "mrp.describe()"
   ]
  },
  {
   "cell_type": "code",
   "execution_count": null,
   "metadata": {
    "scrolled": true,
    "slideshow": {
     "slide_type": "fragment"
    }
   },
   "outputs": [],
   "source": [
    "mrp.head()"
   ]
  },
  {
   "cell_type": "code",
   "execution_count": null,
   "metadata": {
    "slideshow": {
     "slide_type": "-"
    }
   },
   "outputs": [],
   "source": [
    "order_product_user.query(\"product_id == 43553\").sort_values([\"user_id\", \"order_number\"])"
   ]
  },
  {
   "cell_type": "code",
   "execution_count": null,
   "metadata": {},
   "outputs": [],
   "source": []
  }
 ],
 "metadata": {
  "celltoolbar": "Slideshow",
  "interpreter": {
   "hash": "06e05088bf2d2704501f452c5673235c92421ea24b381cad1d147a1ece3057ad"
  },
  "kernelspec": {
   "display_name": "Python 3 (ipykernel)",
   "language": "python",
   "name": "python3"
  },
  "language_info": {
   "codemirror_mode": {
    "name": "ipython",
    "version": 3
   },
   "file_extension": ".py",
   "mimetype": "text/x-python",
   "name": "python",
   "nbconvert_exporter": "python",
   "pygments_lexer": "ipython3",
   "version": "3.9.7"
  }
 },
 "nbformat": 4,
 "nbformat_minor": 4
}
