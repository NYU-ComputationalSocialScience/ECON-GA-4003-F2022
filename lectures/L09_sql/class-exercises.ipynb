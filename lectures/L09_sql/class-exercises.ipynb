{
 "cells": [
  {
   "cell_type": "markdown",
   "id": "bd6fb2bc",
   "metadata": {},
   "source": [
    "# In-class Exercises"
   ]
  },
  {
   "cell_type": "code",
   "execution_count": null,
   "id": "cff90ed2",
   "metadata": {},
   "outputs": [],
   "source": [
    "import matplotlib.pyplot as plt\n",
    "import pandas as pd\n",
    "import sqlalchemy as sa\n",
    "\n",
    "from sqlalchemy.ext.declarative import declarative_base"
   ]
  },
  {
   "cell_type": "markdown",
   "id": "c3603f4b",
   "metadata": {},
   "source": [
    "**Introduction**\n",
    "\n",
    "We will continue to use the instacart data set we discussed in class.\n",
    "\n",
    "We load the data below:"
   ]
  },
  {
   "cell_type": "code",
   "execution_count": null,
   "id": "68bff707",
   "metadata": {},
   "outputs": [],
   "source": [
    "# Create a SQL alchemy engine and add table information to the engine\n",
    "eng = sa.create_engine(\"sqlite:///instacart.db\")\n",
    "\n",
    "Session = sa.orm.sessionmaker(bind=eng)"
   ]
  },
  {
   "cell_type": "code",
   "execution_count": null,
   "id": "70a9abfc",
   "metadata": {},
   "outputs": [],
   "source": [
    "def run_query(eng, query, str_length=30):\n",
    "    with eng.connect() as conn:\n",
    "        result = conn.execute(query)\n",
    "        cols = result.keys()\n",
    "        vals = result.fetchmany(5)\n",
    "\n",
    "        fmter = (\"{\" + f\":<{str_length}\" + \"}\") * len(cols)\n",
    "        print(fmter.format(*cols))\n",
    "        for _vals in vals:\n",
    "            _pvals = map(lambda x: str(x)[:str_length], _vals)\n",
    "            print(fmter.format(*_pvals))"
   ]
  },
  {
   "cell_type": "markdown",
   "id": "59a41feb",
   "metadata": {},
   "source": [
    "**Question 1**\n",
    "\n",
    "Write SQL queries for the following questions:\n"
   ]
  },
  {
   "cell_type": "markdown",
   "id": "1a037f30",
   "metadata": {},
   "source": [
    "_Question 1.1_: Which user had the most orders?"
   ]
  },
  {
   "cell_type": "code",
   "execution_count": null,
   "id": "84fc7b8e",
   "metadata": {},
   "outputs": [],
   "source": []
  },
  {
   "cell_type": "markdown",
   "id": "5dc6e5b8",
   "metadata": {},
   "source": [
    "_Question 1.2_: Which user had the smallest average time between orders?"
   ]
  },
  {
   "cell_type": "code",
   "execution_count": null,
   "id": "9a8f4927",
   "metadata": {},
   "outputs": [],
   "source": []
  },
  {
   "cell_type": "markdown",
   "id": "acb8be42",
   "metadata": {},
   "source": [
    "_Question 1.3_: Which department had the smallest number of items?"
   ]
  },
  {
   "cell_type": "code",
   "execution_count": null,
   "id": "2a8b94f7",
   "metadata": {},
   "outputs": [],
   "source": []
  },
  {
   "cell_type": "markdown",
   "id": "df872d8c",
   "metadata": {},
   "source": [
    "_Question 1.4_: How many total orders happened on each day of the week? Which days were the most popular? Which days were the least popular? Did the answer surprise you?"
   ]
  },
  {
   "cell_type": "code",
   "execution_count": null,
   "id": "409b71be",
   "metadata": {},
   "outputs": [],
   "source": []
  },
  {
   "cell_type": "markdown",
   "id": "6f5eba4d",
   "metadata": {},
   "source": [
    "_Question 1.5_: How many total orders happened on each hour of the day? Which hours were the most popular? Which hours were the least popular? Did the answer surprise you?"
   ]
  },
  {
   "cell_type": "code",
   "execution_count": null,
   "id": "84938b6f",
   "metadata": {},
   "outputs": [],
   "source": []
  },
  {
   "cell_type": "markdown",
   "id": "b1db3998",
   "metadata": {},
   "source": [
    "_Question 1.6_: What was the largest number of unique products ordered in a single order?"
   ]
  },
  {
   "cell_type": "code",
   "execution_count": null,
   "id": "e484c3c5",
   "metadata": {},
   "outputs": [],
   "source": []
  },
  {
   "cell_type": "markdown",
   "id": "7984bd78",
   "metadata": {},
   "source": [
    "_Question 1.7_: What was the least number of unique products ordered in a single order?\n"
   ]
  },
  {
   "cell_type": "code",
   "execution_count": null,
   "id": "cdbc50d4",
   "metadata": {},
   "outputs": [],
   "source": []
  },
  {
   "cell_type": "markdown",
   "id": "a3234543",
   "metadata": {},
   "source": [
    "**Question 2**\n",
    "\n",
    "Ask your own questions :)\n",
    "\n",
    "What can you learn from the data?"
   ]
  },
  {
   "cell_type": "code",
   "execution_count": null,
   "id": "7aa7b251",
   "metadata": {},
   "outputs": [],
   "source": []
  }
 ],
 "metadata": {
  "kernelspec": {
   "display_name": "Python 3 (ipykernel)",
   "language": "python",
   "name": "python3"
  },
  "language_info": {
   "codemirror_mode": {
    "name": "ipython",
    "version": 3
   },
   "file_extension": ".py",
   "mimetype": "text/x-python",
   "name": "python",
   "nbconvert_exporter": "python",
   "pygments_lexer": "ipython3",
   "version": "3.9.7"
  }
 },
 "nbformat": 4,
 "nbformat_minor": 5
}
