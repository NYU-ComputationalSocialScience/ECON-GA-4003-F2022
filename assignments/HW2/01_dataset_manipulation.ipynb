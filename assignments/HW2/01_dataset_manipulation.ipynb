{
 "cells": [
  {
   "cell_type": "code",
   "execution_count": null,
   "metadata": {
    "deletable": false,
    "editable": false
   },
   "outputs": [],
   "source": [
    "# Initialize Otter\n",
    "import otter\n",
    "grader = otter.Notebook(\"01_dataset_manipulation.ipynb\")"
   ]
  },
  {
   "cell_type": "markdown",
   "metadata": {
    "nbgrader": {
     "grade": false,
     "grade_id": "cell-a226607151f5fc40",
     "locked": true,
     "schema_version": 3,
     "solution": false,
     "task": false
    }
   },
   "source": [
    "# Assignment: Data cleaning, reshaping, merging and probability\n",
    "\n",
    "**Author**: (Write your name here)"
   ]
  },
  {
   "cell_type": "markdown",
   "metadata": {
    "nbgrader": {
     "grade": false,
     "grade_id": "cell-444bfa329e00fe94",
     "locked": true,
     "schema_version": 3,
     "solution": false,
     "task": false
    }
   },
   "source": [
    "## Introduction\n",
    "\n",
    "This assignment is meant to give you an opportunity to use the tools that we've discussed for the last two weeks. We will be downloading data from the World Bank _World Development Indicators_ and doing a \"guided case-study.\"\n",
    "\n",
    "In order to run the code below, you will need to install the `world_bank_data` package. This package has built a client library for the World Bank Data API which saves us time by allowing us simplified methods for interfacing with the data. the package can be installed by uncommenting the cell below and running it. "
   ]
  },
  {
   "cell_type": "markdown",
   "metadata": {
    "nbgrader": {
     "grade": false,
     "grade_id": "cell-3287175be696ad9e",
     "locked": true,
     "schema_version": 3,
     "solution": false,
     "task": false
    }
   },
   "source": [
    "## Section 1: Data ingestion\n"
   ]
  },
  {
   "cell_type": "code",
   "execution_count": null,
   "metadata": {
    "execution": {
     "iopub.execute_input": "2021-10-01T22:28:32.388072Z",
     "iopub.status.busy": "2021-10-01T22:28:32.387567Z",
     "iopub.status.idle": "2021-10-01T22:28:32.391460Z",
     "shell.execute_reply": "2021-10-01T22:28:32.390788Z",
     "shell.execute_reply.started": "2021-10-01T22:28:32.387983Z"
    },
    "nbgrader": {
     "grade": false,
     "grade_id": "cell-f4979a1d477558d8",
     "locked": true,
     "schema_version": 3,
     "solution": false,
     "task": false
    },
    "tags": []
   },
   "outputs": [],
   "source": [
    "# if the next cell fails, uncomment the line below and re-run\n",
    "# %pip install world_bank_data"
   ]
  },
  {
   "cell_type": "code",
   "execution_count": null,
   "metadata": {
    "execution": {
     "iopub.execute_input": "2021-10-01T22:28:32.392987Z",
     "iopub.status.busy": "2021-10-01T22:28:32.392501Z",
     "iopub.status.idle": "2021-10-01T22:28:32.859065Z",
     "shell.execute_reply": "2021-10-01T22:28:32.858487Z",
     "shell.execute_reply.started": "2021-10-01T22:28:32.392952Z"
    },
    "nbgrader": {
     "grade": false,
     "grade_id": "cell-43bcee2b25823803",
     "locked": true,
     "schema_version": 3,
     "solution": false,
     "task": false
    },
    "tags": []
   },
   "outputs": [],
   "source": [
    "import matplotlib.pyplot as plt\n",
    "import numpy as np\n",
    "import pandas as pd\n",
    "\n",
    "import world_bank_data as wb\n",
    "\n",
    "%matplotlib inline"
   ]
  },
  {
   "cell_type": "markdown",
   "metadata": {
    "nbgrader": {
     "grade": false,
     "grade_id": "cell-d7cc1a06177a04ef",
     "locked": true,
     "schema_version": 3,
     "solution": false,
     "task": false
    }
   },
   "source": [
    "In this section, we are going to read in a few different datasets from the World Bank.\n",
    "\n",
    "* **Primary completion rate**, or gross intake ratio to the last grade of primary education, is the number of new entrants (enrollments minus repeaters) in the last grade of primary education, regardless of age, divided by the population at the entrance age for the last grade of primary education. Data limitations preclude adjusting for students who drop out during the final year of primary education.\n",
    "* **GDP** at purchaser's prices is the sum of gross value added by all resident producers in the economy plus any product taxes and minus any subsidies not included in the value of the products. It is calculated without making deductions for depreciation of fabricated assets or for depletion and degradation of natural resources. Data are in current U.S. dollars.\n",
    "* **Population** is based on the de facto definition of population, which counts all residents regardless of legal status or citizenship. The values shown are midyear estimates."
   ]
  },
  {
   "cell_type": "code",
   "execution_count": null,
   "metadata": {
    "execution": {
     "iopub.execute_input": "2021-10-01T22:28:32.860434Z",
     "iopub.status.busy": "2021-10-01T22:28:32.860315Z",
     "iopub.status.idle": "2021-10-01T22:28:33.161821Z",
     "shell.execute_reply": "2021-10-01T22:28:33.161160Z",
     "shell.execute_reply.started": "2021-10-01T22:28:32.860418Z"
    },
    "nbgrader": {
     "grade": false,
     "grade_id": "cell-fc5d19ba10a0679c",
     "locked": true,
     "schema_version": 3,
     "solution": false,
     "task": false
    },
    "tags": []
   },
   "outputs": [],
   "source": [
    "countries = wb.get_countries()\n",
    "\n",
    "dates = \"2000:2019\"\n",
    "educ_primary_completion = wb.get_series(\"SE.PRM.CMPT.ZS\", date=dates)\n",
    "gdp = wb.get_series(\"NY.GDP.MKTP.CD\", date=dates)\n",
    "populations = wb.get_series(\"SP.POP.TOTL\", date=dates)"
   ]
  },
  {
   "cell_type": "code",
   "execution_count": null,
   "metadata": {
    "execution": {
     "iopub.execute_input": "2021-10-01T22:28:33.163224Z",
     "iopub.status.busy": "2021-10-01T22:28:33.162869Z",
     "iopub.status.idle": "2021-10-01T22:28:33.189071Z",
     "shell.execute_reply": "2021-10-01T22:28:33.188171Z",
     "shell.execute_reply.started": "2021-10-01T22:28:33.163181Z"
    },
    "nbgrader": {
     "grade": false,
     "grade_id": "cell-bc97e5bf0823f84f",
     "locked": true,
     "schema_version": 3,
     "solution": false,
     "task": false
    },
    "tags": []
   },
   "outputs": [],
   "source": [
    "countries.head()"
   ]
  },
  {
   "cell_type": "code",
   "execution_count": null,
   "metadata": {
    "execution": {
     "iopub.execute_input": "2021-10-01T22:28:33.191155Z",
     "iopub.status.busy": "2021-10-01T22:28:33.190747Z",
     "iopub.status.idle": "2021-10-01T22:28:33.202378Z",
     "shell.execute_reply": "2021-10-01T22:28:33.201644Z",
     "shell.execute_reply.started": "2021-10-01T22:28:33.191104Z"
    },
    "nbgrader": {
     "grade": false,
     "grade_id": "cell-f2645ffe0429ae95",
     "locked": true,
     "schema_version": 3,
     "solution": false,
     "task": false
    },
    "tags": []
   },
   "outputs": [],
   "source": [
    "educ_primary_completion.head()"
   ]
  },
  {
   "cell_type": "code",
   "execution_count": null,
   "metadata": {
    "execution": {
     "iopub.execute_input": "2021-10-01T22:28:33.204383Z",
     "iopub.status.busy": "2021-10-01T22:28:33.203810Z",
     "iopub.status.idle": "2021-10-01T22:28:33.213708Z",
     "shell.execute_reply": "2021-10-01T22:28:33.212955Z",
     "shell.execute_reply.started": "2021-10-01T22:28:33.204338Z"
    },
    "nbgrader": {
     "grade": false,
     "grade_id": "cell-719e6856481caf50",
     "locked": true,
     "schema_version": 3,
     "solution": false,
     "task": false
    },
    "tags": []
   },
   "outputs": [],
   "source": [
    "gdp.head()"
   ]
  },
  {
   "cell_type": "code",
   "execution_count": null,
   "metadata": {
    "execution": {
     "iopub.execute_input": "2021-10-01T22:28:33.215253Z",
     "iopub.status.busy": "2021-10-01T22:28:33.214901Z",
     "iopub.status.idle": "2021-10-01T22:28:33.224669Z",
     "shell.execute_reply": "2021-10-01T22:28:33.223912Z",
     "shell.execute_reply.started": "2021-10-01T22:28:33.215210Z"
    },
    "nbgrader": {
     "grade": false,
     "grade_id": "cell-ad7bc45dab8e935a",
     "locked": true,
     "schema_version": 3,
     "solution": false,
     "task": false
    },
    "tags": []
   },
   "outputs": [],
   "source": [
    "populations.head()"
   ]
  },
  {
   "cell_type": "code",
   "execution_count": null,
   "metadata": {
    "execution": {
     "iopub.execute_input": "2021-10-01T22:28:33.226543Z",
     "iopub.status.busy": "2021-10-01T22:28:33.226077Z",
     "iopub.status.idle": "2021-10-01T22:28:33.245533Z",
     "shell.execute_reply": "2021-10-01T22:28:33.244944Z",
     "shell.execute_reply.started": "2021-10-01T22:28:33.226511Z"
    },
    "nbgrader": {
     "grade": false,
     "grade_id": "cell-a38da967393829cd",
     "locked": true,
     "schema_version": 3,
     "solution": false,
     "task": false
    },
    "tags": []
   },
   "outputs": [],
   "source": [
    "countries.head()"
   ]
  },
  {
   "cell_type": "markdown",
   "metadata": {
    "nbgrader": {
     "grade": false,
     "grade_id": "cell-a07cf820b82cc971",
     "locked": true,
     "schema_version": 3,
     "solution": false,
     "task": false
    }
   },
   "source": [
    "### Question 1:\n",
    "\n",
    "We want to create a dataset that has `(country, year)` on the index with  `gdp` (GDP), `pop` (total population), , and `pcr` (primary completion rate) as the columns. We only want to include countries in this dataset so you will need to drop any of the aggregated regions reported by the World Bank (i.e. there are reported values for \"Africa\" and \"Asia\" but these are aggregated numbers rather than country specific so we would drop these and the other aggregates -- Hint: the `countries` DataFrame should help you with this).\n",
    "\n",
    "Use the data that we read in above to create this dataset and call the new dataset `df_full`.\n",
    "\n",
    "After you've created the full dataset, create a new dataset with only the observations from the year 2018. Call this dataset `df` -- We will use this subset of data for the remainder of the assignment."
   ]
  },
  {
   "cell_type": "code",
   "execution_count": null,
   "metadata": {
    "execution": {
     "iopub.execute_input": "2021-10-01T22:28:33.246739Z",
     "iopub.status.busy": "2021-10-01T22:28:33.246485Z",
     "iopub.status.idle": "2021-10-01T22:28:33.278924Z",
     "shell.execute_reply": "2021-10-01T22:28:33.278260Z",
     "shell.execute_reply.started": "2021-10-01T22:28:33.246709Z"
    },
    "tags": []
   },
   "outputs": [],
   "source": [
    "..."
   ]
  },
  {
   "cell_type": "code",
   "execution_count": null,
   "metadata": {
    "deletable": false,
    "editable": false
   },
   "outputs": [],
   "source": [
    "grader.check(\"q1\")"
   ]
  },
  {
   "cell_type": "markdown",
   "metadata": {},
   "source": [
    "### Question 2:\n",
    "\n",
    "Create a new variable, `loggdp_percapita` that defined as $\\log \\left( \\frac{\\text{GDP}}{\\text{population}} \\right)$."
   ]
  },
  {
   "cell_type": "code",
   "execution_count": null,
   "metadata": {
    "execution": {
     "iopub.execute_input": "2021-10-01T22:28:33.314599Z",
     "iopub.status.busy": "2021-10-01T22:28:33.314354Z",
     "iopub.status.idle": "2021-10-01T22:28:33.354045Z",
     "shell.execute_reply": "2021-10-01T22:28:33.353333Z",
     "shell.execute_reply.started": "2021-10-01T22:28:33.314570Z"
    },
    "tags": []
   },
   "outputs": [],
   "source": [
    "..."
   ]
  },
  {
   "cell_type": "code",
   "execution_count": null,
   "metadata": {
    "deletable": false,
    "editable": false
   },
   "outputs": [],
   "source": [
    "grader.check(\"q2\")"
   ]
  },
  {
   "cell_type": "markdown",
   "metadata": {},
   "source": [
    "<!-- BEGIN QUESTION -->\n",
    "\n",
    "### Question 3:\n",
    "\n",
    "Create a scatter plot with `loggdp_percapita` on the x-axis and `pcr` on the y-axis.\n",
    "\n",
    "What relationships do you observe between these two variables?"
   ]
  },
  {
   "cell_type": "code",
   "execution_count": null,
   "metadata": {
    "execution": {
     "iopub.execute_input": "2021-10-01T22:28:33.368105Z",
     "iopub.status.busy": "2021-10-01T22:28:33.367609Z",
     "iopub.status.idle": "2021-10-01T22:28:33.494355Z",
     "shell.execute_reply": "2021-10-01T22:28:33.493794Z",
     "shell.execute_reply.started": "2021-10-01T22:28:33.368075Z"
    },
    "tags": []
   },
   "outputs": [],
   "source": [
    "..."
   ]
  },
  {
   "cell_type": "markdown",
   "metadata": {},
   "source": [
    "<!-- END QUESTION -->\n",
    "\n",
    "### Question 4:\n",
    "\n",
    "Read the documentation for the `np.histogram2d` function. Create a two-dimensional histogram and store it as `count` and the bin values as `xvals` and `yvals`. Set the `x` to `loggdp_percapita` and `y` to `pcr`. Let there be 8 bins the `x` direction and 10 in the `y` direction.\n",
    "\n",
    "Note that you need to remove missing values before using `np.histogram2d` -- we've done this for you in the variable `df_no_nan`"
   ]
  },
  {
   "cell_type": "code",
   "execution_count": null,
   "metadata": {
    "execution": {
     "iopub.execute_input": "2021-10-01T22:28:33.495529Z",
     "iopub.status.busy": "2021-10-01T22:28:33.495389Z",
     "iopub.status.idle": "2021-10-01T22:28:33.500869Z",
     "shell.execute_reply": "2021-10-01T22:28:33.500390Z",
     "shell.execute_reply.started": "2021-10-01T22:28:33.495513Z"
    },
    "tags": []
   },
   "outputs": [],
   "source": [
    "df_no_nan = df.dropna()\n",
    "\n",
    "..."
   ]
  },
  {
   "cell_type": "code",
   "execution_count": null,
   "metadata": {
    "deletable": false,
    "editable": false
   },
   "outputs": [],
   "source": [
    "grader.check(\"q4\")"
   ]
  },
  {
   "cell_type": "markdown",
   "metadata": {},
   "source": [
    "### Question 5:\n",
    "\n",
    "Turn the numpy array `count` into a joint probability distribution called `jd`."
   ]
  },
  {
   "cell_type": "code",
   "execution_count": null,
   "metadata": {
    "execution": {
     "iopub.execute_input": "2021-10-01T22:28:33.523134Z",
     "iopub.status.busy": "2021-10-01T22:28:33.523024Z",
     "iopub.status.idle": "2021-10-01T22:28:33.528030Z",
     "shell.execute_reply": "2021-10-01T22:28:33.527492Z",
     "shell.execute_reply.started": "2021-10-01T22:28:33.523118Z"
    },
    "tags": []
   },
   "outputs": [],
   "source": [
    "jd = ..."
   ]
  },
  {
   "cell_type": "code",
   "execution_count": null,
   "metadata": {
    "deletable": false,
    "editable": false
   },
   "outputs": [],
   "source": [
    "grader.check(\"q5\")"
   ]
  },
  {
   "cell_type": "markdown",
   "metadata": {},
   "source": [
    "### Question 6:\n",
    "\n",
    "Compute the marginal distributions for `loggdp_percapita` and `pcr`\n",
    "\n",
    "Call them `marginal_lgdp` and `marginal_pcr`"
   ]
  },
  {
   "cell_type": "code",
   "execution_count": null,
   "metadata": {
    "execution": {
     "iopub.execute_input": "2021-10-01T22:28:33.549350Z",
     "iopub.status.busy": "2021-10-01T22:28:33.548838Z",
     "iopub.status.idle": "2021-10-01T22:28:33.556181Z",
     "shell.execute_reply": "2021-10-01T22:28:33.555593Z",
     "shell.execute_reply.started": "2021-10-01T22:28:33.549318Z"
    },
    "tags": []
   },
   "outputs": [],
   "source": [
    "marginal_lgdp = ...\n",
    "marginal_pcr = ...\n",
    "marginal_pcr"
   ]
  },
  {
   "cell_type": "code",
   "execution_count": null,
   "metadata": {
    "deletable": false,
    "editable": false
   },
   "outputs": [],
   "source": [
    "grader.check(\"q6\")"
   ]
  },
  {
   "cell_type": "markdown",
   "metadata": {},
   "source": [
    "### Question 7:\n",
    "\n",
    "For each \"primary schooling completed\" bin, compute the conditional distribution across log GDP per capita."
   ]
  },
  {
   "cell_type": "code",
   "execution_count": null,
   "metadata": {
    "execution": {
     "iopub.execute_input": "2021-10-01T22:28:33.597063Z",
     "iopub.status.busy": "2021-10-01T22:28:33.596614Z",
     "iopub.status.idle": "2021-10-01T22:28:33.604047Z",
     "shell.execute_reply": "2021-10-01T22:28:33.603476Z",
     "shell.execute_reply.started": "2021-10-01T22:28:33.597032Z"
    },
    "tags": []
   },
   "outputs": [],
   "source": [
    "conditionals_lgdp = ...\n",
    "\n",
    "conditionals_lgdp"
   ]
  },
  {
   "cell_type": "code",
   "execution_count": null,
   "metadata": {
    "deletable": false,
    "editable": false
   },
   "outputs": [],
   "source": [
    "grader.check(\"q7\")"
   ]
  },
  {
   "cell_type": "markdown",
   "metadata": {},
   "source": [
    "<!-- BEGIN QUESTION -->\n",
    "\n",
    "### Question 8:\n",
    "\n",
    "Is the joint distribution created from the histogram the only joint distribution that could match with the marginal distributions found in question 6? If not, please find one more joint distribution that could describe the marginals."
   ]
  },
  {
   "cell_type": "markdown",
   "metadata": {},
   "source": [
    "_Type your answer here, replacing this text._"
   ]
  },
  {
   "cell_type": "code",
   "execution_count": null,
   "metadata": {
    "execution": {
     "iopub.execute_input": "2021-10-01T22:28:33.625719Z",
     "iopub.status.busy": "2021-10-01T22:28:33.625270Z",
     "iopub.status.idle": "2021-10-01T22:28:33.631948Z",
     "shell.execute_reply": "2021-10-01T22:28:33.631297Z",
     "shell.execute_reply.started": "2021-10-01T22:28:33.625689Z"
    },
    "tags": []
   },
   "outputs": [],
   "source": [
    "..."
   ]
  },
  {
   "cell_type": "markdown",
   "metadata": {},
   "source": [
    "<!-- END QUESTION -->\n",
    "\n",
    "### Question 9:\n",
    "\n",
    "Consider daily sales data from a local convenience store. The data is broken into 12 datasets (one for each month). What function do you think is best to combine this data into a single dataset? Why?\n",
    "\n",
    "Below is a fake dataset with this information. Please use the function you mention previously to create a `df_sales` using the `jan_sales`, `feb_sales`, ..., `dec_sales` DataFrames."
   ]
  },
  {
   "cell_type": "markdown",
   "metadata": {},
   "source": [
    "Answer here about which function and why"
   ]
  },
  {
   "cell_type": "code",
   "execution_count": null,
   "metadata": {
    "execution": {
     "iopub.execute_input": "2021-10-01T22:28:33.633294Z",
     "iopub.status.busy": "2021-10-01T22:28:33.632881Z",
     "iopub.status.idle": "2021-10-01T22:28:33.649246Z",
     "shell.execute_reply": "2021-10-01T22:28:33.648608Z",
     "shell.execute_reply.started": "2021-10-01T22:28:33.633261Z"
    },
    "tags": []
   },
   "outputs": [],
   "source": [
    "# Don't change this cell -- It creates the dataset for you\n",
    "import calendar\n",
    "\n",
    "weeks = pd.date_range(\"2020-01-01\", \"2020-12-31\", freq=\"W\")\n",
    "\n",
    "dfs_sales = []\n",
    "for month in range(1, 13):\n",
    "    days = calendar.monthrange(2020, month)\n",
    "    weeks = pd.date_range(\n",
    "        f\"2020-{month:0>2}-01\", f\"2020-{month:0>2}-{days[1]:0>2}\",\n",
    "        freq=\"d\"\n",
    "    )\n",
    "    dfs_sales.append(\n",
    "        pd.DataFrame(\n",
    "            index=weeks, data={\n",
    "                \"revenue\": 2500 + 100*np.random.randn(len(weeks)),\n",
    "                \"customers\": np.random.randint(10, 25)\n",
    "            }\n",
    "    ))\n",
    "\n",
    "(jan_sales, feb_sales, mar_sales, apr_sales,\n",
    " may_sales, jun_sales, jul_sales, aug_sales,\n",
    " sep_sales, oct_sales, nov_sales, dec_sales) = dfs_sales"
   ]
  },
  {
   "cell_type": "code",
   "execution_count": null,
   "metadata": {
    "execution": {
     "iopub.execute_input": "2021-10-01T22:28:33.654000Z",
     "iopub.status.busy": "2021-10-01T22:28:33.653758Z",
     "iopub.status.idle": "2021-10-01T22:28:33.669968Z",
     "shell.execute_reply": "2021-10-01T22:28:33.669322Z",
     "shell.execute_reply.started": "2021-10-01T22:28:33.653969Z"
    },
    "tags": []
   },
   "outputs": [],
   "source": [
    "stacked_sales = ...\n",
    "stacked_sales"
   ]
  },
  {
   "cell_type": "code",
   "execution_count": null,
   "metadata": {
    "deletable": false,
    "editable": false
   },
   "outputs": [],
   "source": [
    "grader.check(\"q9\")"
   ]
  },
  {
   "cell_type": "markdown",
   "metadata": {},
   "source": [
    "### Question 10:\n",
    "\n",
    "Using the basketball dataset below, use `set_index`, `reset_index`, `stack`, and `unstack` to replicate the operations below:"
   ]
  },
  {
   "cell_type": "code",
   "execution_count": null,
   "metadata": {
    "execution": {
     "iopub.execute_input": "2021-10-01T22:28:33.684606Z",
     "iopub.status.busy": "2021-10-01T22:28:33.684204Z",
     "iopub.status.idle": "2021-10-01T22:28:33.743291Z",
     "shell.execute_reply": "2021-10-01T22:28:33.742527Z",
     "shell.execute_reply.started": "2021-10-01T22:28:33.684576Z"
    },
    "tags": []
   },
   "outputs": [],
   "source": [
    "url = \"https://datascience.quantecon.org/assets/data/bball.csv\"\n",
    "bball = pd.read_csv(url).query(\"Player != 'Ibaka'\")\n",
    "bball.info()\n",
    "\n",
    "bball"
   ]
  },
  {
   "cell_type": "code",
   "execution_count": null,
   "metadata": {
    "execution": {
     "iopub.execute_input": "2021-10-01T22:28:33.744997Z",
     "iopub.status.busy": "2021-10-01T22:28:33.744632Z",
     "iopub.status.idle": "2021-10-01T22:28:33.764771Z",
     "shell.execute_reply": "2021-10-01T22:28:33.764252Z",
     "shell.execute_reply.started": "2021-10-01T22:28:33.744952Z"
    },
    "tags": []
   },
   "outputs": [],
   "source": [
    "# Operation1 to replicate. call result `replicate_pivot`\n",
    "bball.pivot_table(index=\"Year\", columns=\"Player\", values=\"Pts\")"
   ]
  },
  {
   "cell_type": "code",
   "execution_count": null,
   "metadata": {
    "execution": {
     "iopub.execute_input": "2021-10-01T22:28:33.765755Z",
     "iopub.status.busy": "2021-10-01T22:28:33.765526Z",
     "iopub.status.idle": "2021-10-01T22:28:33.779313Z",
     "shell.execute_reply": "2021-10-01T22:28:33.778752Z",
     "shell.execute_reply.started": "2021-10-01T22:28:33.765730Z"
    },
    "tags": []
   },
   "outputs": [],
   "source": [
    "# Operation2 to replicate. call result `replicate_melt`\n",
    "bball.melt(id_vars=[\"Year\", \"Player\", \"Team\"], value_vars=[\"Games\", \"Pts\", \"Assist\"])"
   ]
  },
  {
   "cell_type": "code",
   "execution_count": null,
   "metadata": {
    "execution": {
     "iopub.execute_input": "2021-10-01T22:28:33.780296Z",
     "iopub.status.busy": "2021-10-01T22:28:33.780062Z",
     "iopub.status.idle": "2021-10-01T22:28:33.796152Z",
     "shell.execute_reply": "2021-10-01T22:28:33.795521Z",
     "shell.execute_reply.started": "2021-10-01T22:28:33.780271Z"
    },
    "tags": []
   },
   "outputs": [],
   "source": [
    "replicate_melt = ...\n",
    "replicate_pivot = ...\n",
    "replicate_pivot"
   ]
  },
  {
   "cell_type": "code",
   "execution_count": null,
   "metadata": {
    "deletable": false,
    "editable": false
   },
   "outputs": [],
   "source": [
    "grader.check(\"q10\")"
   ]
  },
  {
   "cell_type": "markdown",
   "metadata": {
    "deletable": false,
    "editable": false
   },
   "source": [
    "---\n",
    "\n",
    "To double-check your work, the cell below will rerun all of the autograder tests."
   ]
  },
  {
   "cell_type": "code",
   "execution_count": null,
   "metadata": {
    "deletable": false,
    "editable": false
   },
   "outputs": [],
   "source": [
    "grader.check_all()"
   ]
  }
 ],
 "metadata": {
  "celltoolbar": "Create Assignment",
  "kernelspec": {
   "display_name": "Python 3 (ipykernel)",
   "language": "python",
   "name": "python3"
  },
  "language_info": {
   "codemirror_mode": {
    "name": "ipython",
    "version": 3
   },
   "file_extension": ".py",
   "mimetype": "text/x-python",
   "name": "python",
   "nbconvert_exporter": "python",
   "pygments_lexer": "ipython3",
   "version": "3.8.13"
  },
  "otter": {
   "OK_FORMAT": true,
   "tests": {
    "q1": {
     "name": "q1",
     "points": 5,
     "suites": [
      {
       "cases": [
        {
         "code": ">>> assert df_full.shape == (4340, 3)\n",
         "hidden": false,
         "locked": false
        },
        {
         "code": ">>> assert df.shape == (217, 3)\n",
         "hidden": false,
         "locked": false
        }
       ],
       "scored": true,
       "setup": "",
       "teardown": "",
       "type": "doctest"
      }
     ]
    },
    "q10": {
     "name": "q10",
     "points": 5,
     "suites": [
      {
       "cases": [
        {
         "code": ">>> assert replicate_pivot.shape == (3, 2)\n",
         "hidden": false,
         "locked": false
        },
        {
         "code": ">>> assert set(replicate_pivot.columns) == {\"Curry\", \"Durant\"}\n",
         "hidden": false,
         "locked": false
        },
        {
         "code": ">>> assert replicate_melt.shape == (24, 5)\n",
         "hidden": false,
         "locked": false
        },
        {
         "code": ">>> assert set(replicate_melt.columns) == {\"Year\", \"Player\", \"Team\", \"variable\", \"value\"}\n",
         "hidden": false,
         "locked": false
        }
       ],
       "scored": true,
       "setup": "",
       "teardown": "",
       "type": "doctest"
      }
     ]
    },
    "q2": {
     "name": "q2",
     "points": 5,
     "suites": [
      {
       "cases": [
        {
         "code": ">>> assert df.shape == (217, 4)\n",
         "hidden": false,
         "locked": false
        }
       ],
       "scored": true,
       "setup": "",
       "teardown": "",
       "type": "doctest"
      }
     ]
    },
    "q4": {
     "name": "q4",
     "points": 5,
     "suites": [
      {
       "cases": [
        {
         "code": ">>> assert count.shape == (8, 10)\n",
         "hidden": false,
         "locked": false
        },
        {
         "code": ">>> assert len(xvals) == 9\n",
         "hidden": false,
         "locked": false
        }
       ],
       "scored": true,
       "setup": "",
       "teardown": "",
       "type": "doctest"
      }
     ]
    },
    "q5": {
     "name": "q5",
     "points": 5,
     "suites": [
      {
       "cases": [
        {
         "code": ">>> assert jd.shape == (8, 10)\n",
         "hidden": false,
         "locked": false
        },
        {
         "code": ">>> assert jd.sum() == 1\n",
         "hidden": false,
         "locked": false
        }
       ],
       "scored": true,
       "setup": "",
       "teardown": "",
       "type": "doctest"
      }
     ]
    },
    "q6": {
     "name": "q6",
     "points": 5,
     "suites": [
      {
       "cases": [
        {
         "code": ">>> assert len(marginal_pcr) == 10\n",
         "hidden": false,
         "locked": false
        },
        {
         "code": ">>> assert (marginal_pcr >= 0).all()\n",
         "hidden": false,
         "locked": false
        },
        {
         "code": ">>> assert len(marginal_lgdp) == 8\n",
         "hidden": false,
         "locked": false
        },
        {
         "code": ">>> assert (marginal_lgdp >= 0).all()\n",
         "hidden": false,
         "locked": false
        }
       ],
       "scored": true,
       "setup": "",
       "teardown": "",
       "type": "doctest"
      }
     ]
    },
    "q7": {
     "name": "q7",
     "points": 5,
     "suites": [
      {
       "cases": [
        {
         "code": ">>> assert conditionals_lgdp.shape == jd.shape\n",
         "hidden": false,
         "locked": false
        },
        {
         "code": ">>> assert np.allclose(conditionals_lgdp.sum(axis=0), 1)\n",
         "hidden": false,
         "locked": false
        }
       ],
       "scored": true,
       "setup": "",
       "teardown": "",
       "type": "doctest"
      }
     ]
    },
    "q9": {
     "name": "q9",
     "points": 5,
     "suites": [
      {
       "cases": [
        {
         "code": ">>> assert stacked_sales.shape == (366, 2)\n",
         "hidden": false,
         "locked": false
        }
       ],
       "scored": true,
       "setup": "",
       "teardown": "",
       "type": "doctest"
      }
     ]
    }
   }
  },
  "widgets": {
   "application/vnd.jupyter.widget-state+json": {
    "state": {},
    "version_major": 2,
    "version_minor": 0
   }
  }
 },
 "nbformat": 4,
 "nbformat_minor": 4
}
