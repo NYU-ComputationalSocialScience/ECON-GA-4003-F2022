{
 "cells": [
  {
   "cell_type": "code",
   "execution_count": null,
   "id": "7e8bfd1e",
   "metadata": {
    "deletable": false,
    "editable": false
   },
   "outputs": [],
   "source": [
    "# Initialize Otter\n",
    "import otter\n",
    "grader = otter.Notebook(\"pandas_practice.ipynb\")"
   ]
  },
  {
   "cell_type": "markdown",
   "id": "b01bdf49",
   "metadata": {},
   "source": [
    "# Pandas Practice\n",
    "\n",
    "**Name**: (Please add your name here)\n",
    "\n",
    "This assignment is worth a total of 50 points and is composed of two subsections:\n",
    "\n",
    "1. Part 1 is titled \"WEO Data\". In this section there are 23 small questions. Each of these is worth 1 point, for a total of 23 points.\n",
    "2. Part 2 is titled \"Unemployment Data\". Here there are two main questions, labeled \"Question 1\" and \"Question 2\". Each of these questions will be worth 13 points.\n",
    "\n",
    "Adding these number up gives you 49 points. We will award 1 bonus point for completing the assignment, bringing the total to 50 points.\n",
    "\n",
    "Please be aware that many of the questions below will involve writing code. Please make sure: (1) your code executes (2) it performs the requested operations and (3) is clearly written and readable."
   ]
  },
  {
   "cell_type": "code",
   "execution_count": null,
   "id": "ac017509",
   "metadata": {},
   "outputs": [],
   "source": [
    "import os\n",
    "\n",
    "import pandas as pd"
   ]
  },
  {
   "cell_type": "markdown",
   "id": "6d294e6a",
   "metadata": {},
   "source": [
    "## WEO Data"
   ]
  },
  {
   "cell_type": "markdown",
   "id": "1bf4ba90",
   "metadata": {},
   "source": [
    "The DataFrame `weo` contains GDP per person in thousands of US dollars, 2008 to 2014 for three countries. This is the variable `PPPPC` in the IMF's *World Economic Outlook* database."
   ]
  },
  {
   "cell_type": "code",
   "execution_count": null,
   "id": "a7a511bc",
   "metadata": {},
   "outputs": [],
   "source": [
    "data = {'BRA': [13.37, 13.30, 14.34, 15.07, 15.46, 15.98, 16.10],\n",
    "        'JPN': [33.43, 31.83, 33.71, 34.29, 35.60, 36.79, 37.39],\n",
    "        'USA': [48.30, 46.91, 48.31, 49.72, 51.41, 52.94, 54.60],\n",
    "        'Year': [2008, 2009, 2010, 2011, 2012, 2013, 2014]}\n",
    "weo  = pd.DataFrame(data)"
   ]
  },
  {
   "cell_type": "markdown",
   "id": "ca208607",
   "metadata": {},
   "source": [
    "<!-- BEGIN QUESTION -->\n",
    "\n",
    "**Question 1.1**\n",
    "\n",
    "Explain the `import` statement."
   ]
  },
  {
   "cell_type": "markdown",
   "id": "69e704b4",
   "metadata": {},
   "source": [
    "_Type your answer here, replacing this text._"
   ]
  },
  {
   "cell_type": "markdown",
   "id": "8f9e68ce",
   "metadata": {},
   "source": [
    "<!-- END QUESTION -->\n",
    "\n",
    "<!-- BEGIN QUESTION -->\n",
    "\n",
    "**Question 1.2**\n",
    "\n",
    "What type of object is `data`?"
   ]
  },
  {
   "cell_type": "markdown",
   "id": "79083e4c",
   "metadata": {},
   "source": [
    "_Type your answer here, replacing this text._"
   ]
  },
  {
   "cell_type": "markdown",
   "id": "18cbf07d",
   "metadata": {},
   "source": [
    "<!-- END QUESTION -->\n",
    "\n",
    "<!-- BEGIN QUESTION -->\n",
    "\n",
    "**Question 1.3**\n",
    "\n",
    "Why does the last line have `pd` prior to the `DataFrame` function?"
   ]
  },
  {
   "cell_type": "markdown",
   "id": "5dd028f5",
   "metadata": {},
   "source": [
    "_Type your answer here, replacing this text._"
   ]
  },
  {
   "cell_type": "markdown",
   "id": "0ec4e036",
   "metadata": {},
   "source": [
    "<!-- END QUESTION -->\n",
    "\n",
    "<!-- BEGIN QUESTION -->\n",
    "\n",
    "**Question 1.4**\n",
    "\n",
    "What type of object is `weo`?"
   ]
  },
  {
   "cell_type": "markdown",
   "id": "9ab669ad",
   "metadata": {},
   "source": [
    "_Type your answer here, replacing this text._"
   ]
  },
  {
   "cell_type": "markdown",
   "id": "6f251fd5",
   "metadata": {},
   "source": [
    "<!-- END QUESTION -->\n",
    "\n",
    "<!-- BEGIN QUESTION -->\n",
    "\n",
    "**Question 1.5**\n",
    "\n",
    "How many rows does it have? Columns?\n",
    "\n",
    "Save this answer to two variables `nrows` and `ncols`"
   ]
  },
  {
   "cell_type": "code",
   "execution_count": null,
   "id": "e4d5b174",
   "metadata": {
    "tags": []
   },
   "outputs": [],
   "source": [
    "nrows = ...\n",
    "ncols = ..."
   ]
  },
  {
   "cell_type": "markdown",
   "id": "11eea1f8",
   "metadata": {},
   "source": [
    "<!-- END QUESTION -->\n",
    "\n",
    "<!-- BEGIN QUESTION -->\n",
    "\n",
    "**Question 1.6**\n",
    "\n",
    "What `dtypes` are the variables/columns? What does this mean?"
   ]
  },
  {
   "cell_type": "markdown",
   "id": "e475fe2e",
   "metadata": {},
   "source": [
    "_Type your answer here, replacing this text._"
   ]
  },
  {
   "cell_type": "markdown",
   "id": "42e9b0a1",
   "metadata": {},
   "source": [
    "<!-- END QUESTION -->\n",
    "\n",
    "<!-- BEGIN QUESTION -->\n",
    "\n",
    "**Question 1.7**\n",
    "\n",
    "*Challenging.* What are each of these expressions? What is the resultant type?\n",
    "\n",
    "```python\n",
    "weo['Year']\n",
    "weo[['Year']]\n",
    "weo[[3]]\n",
    "```"
   ]
  },
  {
   "cell_type": "markdown",
   "id": "a898346f",
   "metadata": {},
   "source": [
    "_Type your answer here, replacing this text._"
   ]
  },
  {
   "cell_type": "markdown",
   "id": "056a3054",
   "metadata": {},
   "source": [
    "<!-- END QUESTION -->\n",
    "\n",
    "<!-- BEGIN QUESTION -->\n",
    "\n",
    "**Question 1.8**\n",
    "\n",
    "Find and apply a method to convert `weo[’Year’]` to type `float`. Save this as a new column `Year_float`."
   ]
  },
  {
   "cell_type": "code",
   "execution_count": null,
   "id": "700f5531",
   "metadata": {
    "tags": []
   },
   "outputs": [],
   "source": [
    "..."
   ]
  },
  {
   "cell_type": "code",
   "execution_count": null,
   "id": "c1482f5c",
   "metadata": {
    "deletable": false,
    "editable": false
   },
   "outputs": [],
   "source": [
    "grader.check(\"q1.8\")"
   ]
  },
  {
   "cell_type": "markdown",
   "id": "dc788d57",
   "metadata": {},
   "source": [
    "<!-- END QUESTION -->\n",
    "\n",
    "<!-- BEGIN QUESTION -->\n",
    "\n",
    "**Question 1.9**\n",
    "\n",
    "Describe the result of the statement `t = weo.tail(3)`. What kind of object is `t`? What does it look like?"
   ]
  },
  {
   "cell_type": "markdown",
   "id": "a73513b4",
   "metadata": {},
   "source": [
    "_Type your answer here, replacing this text._"
   ]
  },
  {
   "cell_type": "markdown",
   "id": "c33d5b01",
   "metadata": {},
   "source": [
    "<!-- END QUESTION -->\n",
    "\n",
    "<!-- BEGIN QUESTION -->\n",
    "\n",
    "**Question 1.10**\n",
    "\n",
    "How would you create a new dataframe that consists of the first 4 rows of `weo`? Save this as a new dataframe called `weo_small`."
   ]
  },
  {
   "cell_type": "code",
   "execution_count": null,
   "id": "b69edb9d",
   "metadata": {
    "tags": []
   },
   "outputs": [],
   "source": [
    "weo_small = ..."
   ]
  },
  {
   "cell_type": "code",
   "execution_count": null,
   "id": "84e293f9",
   "metadata": {
    "deletable": false,
    "editable": false
   },
   "outputs": [],
   "source": [
    "grader.check(\"q1.10\")"
   ]
  },
  {
   "cell_type": "markdown",
   "id": "6a0fc6cb",
   "metadata": {},
   "source": [
    "<!-- END QUESTION -->\n",
    "\n",
    "<!-- BEGIN QUESTION -->\n",
    "\n",
    "**Question 1.11**\n",
    "\n",
    "What type of object is `weo[’BRA’]`?"
   ]
  },
  {
   "cell_type": "markdown",
   "id": "15b666b0",
   "metadata": {},
   "source": [
    "_Type your answer here, replacing this text._"
   ]
  },
  {
   "cell_type": "markdown",
   "id": "7d970eb7",
   "metadata": {},
   "source": [
    "<!-- END QUESTION -->\n",
    "\n",
    "<!-- BEGIN QUESTION -->\n",
    "\n",
    "**Question 1.12**\n",
    "\n",
    "Create a new variable equal to the ratio of Brazil's GDP per capita to Japan's. Call this column `brazil_to_japan_gdp`."
   ]
  },
  {
   "cell_type": "code",
   "execution_count": null,
   "id": "e9369ba6",
   "metadata": {
    "tags": []
   },
   "outputs": [],
   "source": [
    "..."
   ]
  },
  {
   "cell_type": "markdown",
   "id": "ad09ccfa",
   "metadata": {},
   "source": [
    "<!-- END QUESTION -->\n",
    "\n",
    "<!-- BEGIN QUESTION -->\n",
    "\n",
    "**Question 1.13**\n",
    "\n",
    "Use the `drop()` method to eliminate the `brazil_to_japan_gdp` and `Year_float` variables from the dataframe."
   ]
  },
  {
   "cell_type": "code",
   "execution_count": null,
   "id": "4cc18921",
   "metadata": {
    "tags": []
   },
   "outputs": [],
   "source": [
    "weo = ..."
   ]
  },
  {
   "cell_type": "code",
   "execution_count": null,
   "id": "9b9eb8d0",
   "metadata": {
    "deletable": false,
    "editable": false
   },
   "outputs": [],
   "source": [
    "grader.check(\"q1.13\")"
   ]
  },
  {
   "cell_type": "markdown",
   "id": "d763bec8",
   "metadata": {},
   "source": [
    "<!-- END QUESTION -->\n",
    "\n",
    "<!-- BEGIN QUESTION -->\n",
    "\n",
    "**Question 1.14**\n",
    "\n",
    "What are `weo`'s row and column labels?"
   ]
  },
  {
   "cell_type": "markdown",
   "id": "f68892cb",
   "metadata": {},
   "source": [
    "_Type your answer here, replacing this text._"
   ]
  },
  {
   "cell_type": "markdown",
   "id": "eb834f00",
   "metadata": {},
   "source": [
    "<!-- END QUESTION -->\n",
    "\n",
    "<!-- BEGIN QUESTION -->\n",
    "\n",
    "**Question 1.15**\n",
    "\n",
    "Set the index equal to the `Year` variable."
   ]
  },
  {
   "cell_type": "code",
   "execution_count": null,
   "id": "20e5fae8",
   "metadata": {
    "tags": []
   },
   "outputs": [],
   "source": []
  },
  {
   "cell_type": "code",
   "execution_count": null,
   "id": "8862279b",
   "metadata": {
    "deletable": false,
    "editable": false
   },
   "outputs": [],
   "source": [
    "grader.check(\"q1.15\")"
   ]
  },
  {
   "cell_type": "markdown",
   "id": "916193ad",
   "metadata": {},
   "source": [
    "<!-- END QUESTION -->\n",
    "\n",
    "<!-- BEGIN QUESTION -->\n",
    "\n",
    "**Question 1.16**\n",
    "\n",
    "Change the names of the other variables to Brazil, Japan, and United States."
   ]
  },
  {
   "cell_type": "code",
   "execution_count": null,
   "id": "1856613f",
   "metadata": {
    "tags": []
   },
   "outputs": [],
   "source": []
  },
  {
   "cell_type": "code",
   "execution_count": null,
   "id": "dd5ce404",
   "metadata": {
    "deletable": false,
    "editable": false
   },
   "outputs": [],
   "source": [
    "grader.check(\"q1.16\")"
   ]
  },
  {
   "cell_type": "markdown",
   "id": "531ea1b1",
   "metadata": {},
   "source": [
    "<!-- END QUESTION -->\n",
    "\n",
    "<!-- BEGIN QUESTION -->\n",
    "\n",
    "**Question 1.17**\n",
    "\n",
    "Export the dataframe to an Excel spreadsheet called `weo.xlsx`."
   ]
  },
  {
   "cell_type": "code",
   "execution_count": null,
   "id": "e0f11102",
   "metadata": {
    "tags": []
   },
   "outputs": [],
   "source": []
  },
  {
   "cell_type": "code",
   "execution_count": null,
   "id": "f409eb4c",
   "metadata": {
    "deletable": false,
    "editable": false
   },
   "outputs": [],
   "source": [
    "grader.check(\"q1.17\")"
   ]
  },
  {
   "cell_type": "markdown",
   "id": "61960495",
   "metadata": {},
   "source": [
    "<!-- END QUESTION -->\n",
    "\n",
    "<!-- BEGIN QUESTION -->\n",
    "\n",
    "**Question 1.18**\n",
    "\n",
    "What method would you use to compute the mean for each country? Save the means in a new Series called `country_means`?"
   ]
  },
  {
   "cell_type": "code",
   "execution_count": null,
   "id": "fc0357ea",
   "metadata": {
    "tags": []
   },
   "outputs": [],
   "source": [
    "country_means = ..."
   ]
  },
  {
   "cell_type": "markdown",
   "id": "ac16c962",
   "metadata": {},
   "source": [
    "<!-- END QUESTION -->\n",
    "\n",
    "<!-- BEGIN QUESTION -->\n",
    "\n",
    "**Question 1.19**\n",
    "\n",
    "How would you compute means across countries for each year? Save the year means in a new Series called `year_means`?"
   ]
  },
  {
   "cell_type": "code",
   "execution_count": null,
   "id": "66428fe5",
   "metadata": {
    "tags": []
   },
   "outputs": [],
   "source": [
    "year_means = ..."
   ]
  },
  {
   "cell_type": "markdown",
   "id": "7e39e96b",
   "metadata": {},
   "source": [
    "<!-- END QUESTION -->\n",
    "\n",
    "<!-- BEGIN QUESTION -->\n",
    "\n",
    "**Question 1.20**\n",
    "\n",
    "Plot the data by applying a `plot` method to `weo`."
   ]
  },
  {
   "cell_type": "code",
   "execution_count": null,
   "id": "ad9d9e3f",
   "metadata": {
    "tags": []
   },
   "outputs": [],
   "source": []
  },
  {
   "cell_type": "markdown",
   "id": "88cd7670",
   "metadata": {},
   "source": [
    "<!-- END QUESTION -->\n",
    "\n",
    "<!-- BEGIN QUESTION -->\n",
    "\n",
    "**Question 1.21**\n",
    "\n",
    "Change the colors of the lines to green (Brazil), red (Japan), and blue (US)."
   ]
  },
  {
   "cell_type": "code",
   "execution_count": null,
   "id": "859f9a8e",
   "metadata": {
    "tags": []
   },
   "outputs": [],
   "source": []
  },
  {
   "cell_type": "markdown",
   "id": "30a0dda0",
   "metadata": {},
   "source": [
    "<!-- END QUESTION -->\n",
    "\n",
    "<!-- BEGIN QUESTION -->\n",
    "\n",
    "**Question 1.22**\n",
    "\n",
    "Do the same plot with a log scale on the y-axis. *Hint:* Read the documentation for the plot method."
   ]
  },
  {
   "cell_type": "code",
   "execution_count": null,
   "id": "5c91bb99",
   "metadata": {
    "tags": []
   },
   "outputs": [],
   "source": []
  },
  {
   "cell_type": "markdown",
   "id": "f7cf2d12",
   "metadata": {},
   "source": [
    "<!-- END QUESTION -->\n",
    "\n",
    "<!-- BEGIN QUESTION -->\n",
    "\n",
    "**Question 1.23**\n",
    "\n",
    "Plot Brazil on its own."
   ]
  },
  {
   "cell_type": "code",
   "execution_count": null,
   "id": "016d9bdf",
   "metadata": {
    "tags": []
   },
   "outputs": [],
   "source": []
  },
  {
   "cell_type": "markdown",
   "id": "9891c320",
   "metadata": {},
   "source": [
    "<!-- END QUESTION -->\n",
    "\n",
    "## Unemployment Data\n",
    "\n",
    "The following two quesitons wil luse the state unemployment dataset"
   ]
  },
  {
   "cell_type": "code",
   "execution_count": null,
   "id": "e6bffc4b",
   "metadata": {},
   "outputs": [],
   "source": [
    "url = \"https://datascience.quantecon.org/assets/data/state_unemployment.csv\"\n",
    "unemp_raw = pd.read_csv(url, parse_dates=[\"Date\"])\n",
    "\n",
    "# don't worry about this code yet... We'll learn about pivot tables soon!\n",
    "unemp_all = (\n",
    "    unemp_raw\n",
    "    .reset_index()\n",
    "    .pivot_table(index=\"Date\", columns=\"state\", values=\"UnemploymentRate\")\n",
    ")\n",
    "\n",
    "states = [\n",
    "    \"Arizona\", \"California\", \"Florida\", \"Illinois\",\n",
    "    \"Michigan\", \"New York\", \"Texas\"\n",
    "]\n",
    "unemp = unemp_all[states]\n",
    "unemp.head()"
   ]
  },
  {
   "cell_type": "markdown",
   "id": "7c0d68e1",
   "metadata": {},
   "source": [
    "## Question 2.1"
   ]
  },
  {
   "cell_type": "markdown",
   "id": "217deda5",
   "metadata": {},
   "source": [
    "<!-- BEGIN QUESTION -->\n",
    "\n",
    "**Question 2.1.a**\n",
    "\n",
    "Print the `unemp` DataFrame's index"
   ]
  },
  {
   "cell_type": "code",
   "execution_count": null,
   "id": "ce0c3175",
   "metadata": {
    "tags": []
   },
   "outputs": [],
   "source": []
  },
  {
   "cell_type": "markdown",
   "id": "2b7675d8",
   "metadata": {},
   "source": [
    "<!-- END QUESTION -->\n",
    "\n",
    "<!-- BEGIN QUESTION -->\n",
    "\n",
    "**Question 2.1.b**\n",
    "\n",
    "Print the `unemp` DataFrame's columns"
   ]
  },
  {
   "cell_type": "code",
   "execution_count": null,
   "id": "5fc9f2b0",
   "metadata": {
    "tags": []
   },
   "outputs": [],
   "source": []
  },
  {
   "cell_type": "markdown",
   "id": "20de0348",
   "metadata": {},
   "source": [
    "<!-- END QUESTION -->\n",
    "\n",
    "<!-- BEGIN QUESTION -->\n",
    "\n",
    "**Question 2.1.c**\n",
    "\n",
    "Use indexing to select the data for all columns starting in June 2007 and ending in December 2010. Save this data into a new DataFrame called `unemp_gr`."
   ]
  },
  {
   "cell_type": "code",
   "execution_count": null,
   "id": "aec93adb",
   "metadata": {
    "tags": []
   },
   "outputs": [],
   "source": [
    "unemp_gr = ..."
   ]
  },
  {
   "cell_type": "code",
   "execution_count": null,
   "id": "933bc6ed",
   "metadata": {
    "deletable": false,
    "editable": false
   },
   "outputs": [],
   "source": [
    "grader.check(\"q2.1.c\")"
   ]
  },
  {
   "cell_type": "markdown",
   "id": "4d0394db",
   "metadata": {},
   "source": [
    "<!-- END QUESTION -->\n",
    "\n",
    "<!-- BEGIN QUESTION -->\n",
    "\n",
    "**Question 2.1.d**\n",
    "\n",
    "Plot the data from `unemp_gr`."
   ]
  },
  {
   "cell_type": "code",
   "execution_count": null,
   "id": "2d6e6cd1",
   "metadata": {
    "tags": []
   },
   "outputs": [],
   "source": []
  },
  {
   "cell_type": "markdown",
   "id": "c87d1271",
   "metadata": {},
   "source": [
    "<!-- END QUESTION -->\n",
    "\n",
    "## Question 2.2"
   ]
  },
  {
   "cell_type": "markdown",
   "id": "bd7b0624",
   "metadata": {},
   "source": [
    "<!-- BEGIN QUESTION -->\n",
    "\n",
    "**Question 2.2.a**\n",
    "\n",
    "Using `unemp_gr` from the previous section, create a new DataFrame that has the month-by-month difference in the unemployment rate. Save this DataFrame as `unemp_gr_diff`."
   ]
  },
  {
   "cell_type": "code",
   "execution_count": null,
   "id": "89706ed0",
   "metadata": {
    "tags": []
   },
   "outputs": [],
   "source": [
    "unemp_gr_diff = ..."
   ]
  },
  {
   "cell_type": "code",
   "execution_count": null,
   "id": "2565556d",
   "metadata": {
    "deletable": false,
    "editable": false
   },
   "outputs": [],
   "source": [
    "grader.check(\"q2.2.a\")"
   ]
  },
  {
   "cell_type": "markdown",
   "id": "a0d5810c",
   "metadata": {},
   "source": [
    "<!-- END QUESTION -->\n",
    "\n",
    "<!-- BEGIN QUESTION -->\n",
    "\n",
    "**Question 2.2.b**\n",
    "\n",
    "Now compute the cumulative sum of the differences and save this as a DataFrame called `unemp_gr_cdiff`. This will tell us the total difference of the unemployment from June 2007."
   ]
  },
  {
   "cell_type": "code",
   "execution_count": null,
   "id": "d4d2b347",
   "metadata": {
    "tags": []
   },
   "outputs": [],
   "source": [
    "unemp_gr_cdiff = ..."
   ]
  },
  {
   "cell_type": "code",
   "execution_count": null,
   "id": "c1bb89f5",
   "metadata": {
    "deletable": false,
    "editable": false
   },
   "outputs": [],
   "source": [
    "grader.check(\"q2.2.b\")"
   ]
  },
  {
   "cell_type": "markdown",
   "id": "e247ad22",
   "metadata": {},
   "source": [
    "<!-- END QUESTION -->\n",
    "\n",
    "<!-- BEGIN QUESTION -->\n",
    "\n",
    "**Question 2.2.c**\n",
    "\n",
    "Plot the `unemp_gr_cdiff` DataFrame as a bar plot for one state."
   ]
  },
  {
   "cell_type": "code",
   "execution_count": null,
   "id": "e5c5607e",
   "metadata": {
    "tags": []
   },
   "outputs": [],
   "source": []
  },
  {
   "cell_type": "markdown",
   "id": "e73b1671",
   "metadata": {},
   "source": [
    "<!-- END QUESTION -->\n",
    "\n",
    "<!-- BEGIN QUESTION -->\n",
    "\n",
    "**Question 2.2.d**\n",
    "\n",
    "Which state saw the biggest increase in their unemployment rate during this time period? Save this state as variable `biggest_increase_unemp`"
   ]
  },
  {
   "cell_type": "code",
   "execution_count": null,
   "id": "d71f131b",
   "metadata": {
    "tags": []
   },
   "outputs": [],
   "source": [
    "biggest_increase_unemp = ..."
   ]
  },
  {
   "cell_type": "code",
   "execution_count": null,
   "id": "55dcdf6a",
   "metadata": {
    "deletable": false,
    "editable": false
   },
   "outputs": [],
   "source": [
    "grader.check(\"q2.2.d\")"
   ]
  },
  {
   "cell_type": "markdown",
   "id": "1f6e60b7",
   "metadata": {},
   "source": [
    "<!-- END QUESTION -->\n",
    "\n"
   ]
  },
  {
   "cell_type": "markdown",
   "id": "15fcc41a",
   "metadata": {
    "deletable": false,
    "editable": false
   },
   "source": [
    "## Submission\n",
    "\n",
    "Make sure you have run all cells in your notebook in order before running the cell below, so that all images/graphs appear in the output. The cell below will generate a zip file for you to submit. **Please save before exporting!**"
   ]
  },
  {
   "cell_type": "code",
   "execution_count": null,
   "id": "679ab404",
   "metadata": {
    "deletable": false,
    "editable": false
   },
   "outputs": [],
   "source": [
    "# Save your notebook first, then run this cell to export your submission.\n",
    "grader.export(run_tests=True)"
   ]
  },
  {
   "cell_type": "markdown",
   "id": "db2127d5",
   "metadata": {},
   "source": [
    " "
   ]
  }
 ],
 "metadata": {
  "kernelspec": {
   "display_name": "Python 3 (ipykernel)",
   "language": "python",
   "name": "python3"
  },
  "language_info": {
   "codemirror_mode": {
    "name": "ipython",
    "version": 3
   },
   "file_extension": ".py",
   "mimetype": "text/x-python",
   "name": "python",
   "nbconvert_exporter": "python",
   "pygments_lexer": "ipython3",
   "version": "3.8.13"
  },
  "otter": {
   "OK_FORMAT": true,
   "tests": {
    "q1.10": {
     "name": "q1.10",
     "points": 1,
     "suites": [
      {
       "cases": [
        {
         "code": ">>> assert weo_small.shape[0] == 4\n",
         "hidden": false,
         "locked": false
        }
       ],
       "scored": true,
       "setup": "",
       "teardown": "",
       "type": "doctest"
      }
     ]
    },
    "q1.12": {
     "name": "q1.12",
     "points": 1,
     "suites": [
      {
       "cases": [],
       "scored": true,
       "setup": "",
       "teardown": "",
       "type": "doctest"
      }
     ]
    },
    "q1.13": {
     "name": "q1.13",
     "points": 1,
     "suites": [
      {
       "cases": [
        {
         "code": ">>> assert \"brazil_to_japan_gdp\" not in weo.columns\n>>> assert \"Year_float\" not in weo.columns\n",
         "hidden": false,
         "locked": false
        }
       ],
       "scored": true,
       "setup": "",
       "teardown": "",
       "type": "doctest"
      }
     ]
    },
    "q1.15": {
     "name": "q1.15",
     "points": 1,
     "suites": [
      {
       "cases": [
        {
         "code": ">>> assert weo.index.name == \"Year\"\n",
         "hidden": false,
         "locked": false
        }
       ],
       "scored": true,
       "setup": "",
       "teardown": "",
       "type": "doctest"
      }
     ]
    },
    "q1.16": {
     "name": "q1.16",
     "points": 1,
     "suites": [
      {
       "cases": [
        {
         "code": ">>> assert \"Brazil\" in weo.columns\n>>> assert \"Japan\" in weo.columns\n>>> assert \"United States\" in weo.columns\n",
         "hidden": false,
         "locked": false
        }
       ],
       "scored": true,
       "setup": "",
       "teardown": "",
       "type": "doctest"
      }
     ]
    },
    "q1.17": {
     "name": "q1.17",
     "points": 1,
     "suites": [
      {
       "cases": [
        {
         "code": ">>> assert os.path.exists(\"weo.xlsx\")\n",
         "hidden": false,
         "locked": false
        }
       ],
       "scored": true,
       "setup": "",
       "teardown": "",
       "type": "doctest"
      }
     ]
    },
    "q1.18": {
     "name": "q1.18",
     "points": 1,
     "suites": [
      {
       "cases": [],
       "scored": true,
       "setup": "",
       "teardown": "",
       "type": "doctest"
      }
     ]
    },
    "q1.19": {
     "name": "q1.19",
     "points": 1,
     "suites": [
      {
       "cases": [],
       "scored": true,
       "setup": "",
       "teardown": "",
       "type": "doctest"
      }
     ]
    },
    "q1.5": {
     "name": "q1.5",
     "points": 1,
     "suites": [
      {
       "cases": [],
       "scored": true,
       "setup": "",
       "teardown": "",
       "type": "doctest"
      }
     ]
    },
    "q1.8": {
     "name": "q1.8",
     "points": 1,
     "suites": [
      {
       "cases": [
        {
         "code": ">>> assert weo[\"Year_float\"].dtype == float\n",
         "hidden": false,
         "locked": false
        }
       ],
       "scored": true,
       "setup": "",
       "teardown": "",
       "type": "doctest"
      }
     ]
    },
    "q2.1.c": {
     "name": "q2.1.c",
     "points": 1,
     "suites": [
      {
       "cases": [
        {
         "code": ">>> assert unemp_gr.index.min() == pd.to_datetime(\"2007-06-01\")\n>>> assert unemp_gr.index.max() == pd.to_datetime(\"2010-12-01\")\n",
         "hidden": false,
         "locked": false
        }
       ],
       "scored": true,
       "setup": "",
       "teardown": "",
       "type": "doctest"
      }
     ]
    },
    "q2.2.a": {
     "name": "q2.2.a",
     "points": 1,
     "suites": [
      {
       "cases": [
        {
         "code": ">>> assert unemp_gr_diff.isna().iloc[0, :].all()\n",
         "hidden": false,
         "locked": false
        },
        {
         "code": ">>> assert unemp_gr_diff.loc[\"2007-07-01\", \"Arizona\"] < 1e-8\n",
         "hidden": false,
         "locked": false
        }
       ],
       "scored": true,
       "setup": "",
       "teardown": "",
       "type": "doctest"
      }
     ]
    },
    "q2.2.b": {
     "name": "q2.2.b",
     "points": 1,
     "suites": [
      {
       "cases": [
        {
         "code": ">>> assert (unemp_gr_cdiff.loc[\"2010-12-01\", \"Arizona\"] - 6.3) < 1e-8\n",
         "hidden": false,
         "locked": false
        },
        {
         "code": ">>> assert (unemp_gr_cdiff.loc[\"2010-12-01\", \"Texas\"] - 3.9) < 1e-8\n",
         "hidden": false,
         "locked": false
        }
       ],
       "scored": true,
       "setup": "",
       "teardown": "",
       "type": "doctest"
      }
     ]
    },
    "q2.2.d": {
     "name": "q2.2.d",
     "points": 1,
     "suites": [
      {
       "cases": [
        {
         "code": ">>> assert biggest_increase_unemp == \"Florida\"\n",
         "hidden": false,
         "locked": false
        }
       ],
       "scored": true,
       "setup": "",
       "teardown": "",
       "type": "doctest"
      }
     ]
    }
   }
  }
 },
 "nbformat": 4,
 "nbformat_minor": 5
}
